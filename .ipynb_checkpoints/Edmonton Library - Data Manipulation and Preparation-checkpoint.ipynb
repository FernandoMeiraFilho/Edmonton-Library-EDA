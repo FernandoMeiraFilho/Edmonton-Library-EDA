{
 "cells": [
  {
   "cell_type": "code",
   "execution_count": 30,
   "metadata": {},
   "outputs": [],
   "source": [
    "%matplotlib inline\n",
    "import numpy as np\n",
    "import pandas as pd\n",
    "import matplotlib.pyplot as plt\n",
    "import seaborn as sns\n",
    "import plotly.express as px\n",
    "plt.rcParams['figure.figsize'] = [12,8]\n",
    "\n",
    "from ipywidgets import interact, interact_manual\n",
    "import ipywidgets as widgets\n",
    "import folium\n",
    "from folium import plugins"
   ]
  },
  {
   "cell_type": "code",
   "execution_count": 31,
   "metadata": {},
   "outputs": [
    {
     "data": {
      "text/html": [
       "<style>body {\n",
       "    margin: 0;\n",
       "    font-family: Helvetica;\n",
       "}\n",
       "\n",
       "table.dataframe {\n",
       "    border-collapse: collapse;\n",
       "    border: none;\n",
       "}\n",
       "table.dataframe th {\n",
       "    border: 1px solid white;\n",
       "    background-color: gray;\n",
       "    color: white;\n",
       "    font-style: oblique;\n",
       "    text-align: center !important;\n",
       "\n",
       "}\n",
       "\n",
       "table.dataframe td {\n",
       "    text-align: center;\n",
       "}\n",
       "\n",
       "table.dataframe tr {\n",
       "    text-align: center;\n",
       "}\n",
       "</style>"
      ],
      "text/plain": [
       "<IPython.core.display.HTML object>"
      ]
     },
     "execution_count": 31,
     "metadata": {},
     "output_type": "execute_result"
    }
   ],
   "source": [
    "from IPython.core.display import HTML\n",
    "css = open('Style/style-table.css').read() + open('Style/style-notebook.css').read()\n",
    "HTML('<style>{}</style>'.format(css))"
   ]
  },
  {
   "cell_type": "markdown",
   "metadata": {},
   "source": [
    "# Data loading / preparation"
   ]
  },
  {
   "cell_type": "markdown",
   "metadata": {},
   "source": [
    "Loading the **main dataset** and making some cleaning in some features.\n",
    "\n",
    "dataset source official link: [click here](https://data.edmonton.ca/Community-Centres/Most-Popular-Books-by-Branch-Edmonton-Public-Libra/qdgm-hex6)"
   ]
  },
  {
   "cell_type": "markdown",
   "metadata": {},
   "source": [
    "> The dataset used here was the original dataset with genre information imported using Google Books API. If you would like to see how it was done, please check the repository on [Github](https://github.com/FernandoMeiraFilho/Edmonton-Library-EDA)"
   ]
  },
  {
   "cell_type": "code",
   "execution_count": 8,
   "metadata": {
    "scrolled": false
   },
   "outputs": [
    {
     "data": {
      "text/html": [
       "<div>\n",
       "<style scoped>\n",
       "    .dataframe tbody tr th:only-of-type {\n",
       "        vertical-align: middle;\n",
       "    }\n",
       "\n",
       "    .dataframe tbody tr th {\n",
       "        vertical-align: top;\n",
       "    }\n",
       "\n",
       "    .dataframe thead th {\n",
       "        text-align: right;\n",
       "    }\n",
       "</style>\n",
       "<table border=\"1\" class=\"dataframe\">\n",
       "  <thead>\n",
       "    <tr style=\"text-align: right;\">\n",
       "      <th></th>\n",
       "      <th>row_id</th>\n",
       "      <th>branch_id</th>\n",
       "      <th>branch_name</th>\n",
       "      <th>holds</th>\n",
       "      <th>title</th>\n",
       "      <th>author</th>\n",
       "      <th>date</th>\n",
       "      <th>url</th>\n",
       "      <th>genre</th>\n",
       "      <th>google_rating</th>\n",
       "      <th>publishing_Date</th>\n",
       "    </tr>\n",
       "  </thead>\n",
       "  <tbody>\n",
       "    <tr>\n",
       "      <th>0</th>\n",
       "      <td>EPLLON20150316The girl on the train / Paula Ha...</td>\n",
       "      <td>EPLLON</td>\n",
       "      <td>Londonderry Branch</td>\n",
       "      <td>36</td>\n",
       "      <td>The girl on the train</td>\n",
       "      <td>Hawkins Paula</td>\n",
       "      <td>03/16/2015 12:00:00 AM</td>\n",
       "      <td>http://epl.bibliocommons.com/search?t=smart&amp;q=...</td>\n",
       "      <td>Fiction</td>\n",
       "      <td>3.5</td>\n",
       "      <td>2015.0</td>\n",
       "    </tr>\n",
       "    <tr>\n",
       "      <th>1</th>\n",
       "      <td>EPLLON20150316The maze runner / James Dashner</td>\n",
       "      <td>EPLLON</td>\n",
       "      <td>Londonderry Branch</td>\n",
       "      <td>18</td>\n",
       "      <td>The maze runner</td>\n",
       "      <td>Dashner James</td>\n",
       "      <td>03/16/2015 12:00:00 AM</td>\n",
       "      <td>http://epl.bibliocommons.com/search?t=smart&amp;q=...</td>\n",
       "      <td>Juvenile Fiction</td>\n",
       "      <td>3.5</td>\n",
       "      <td>2014.0</td>\n",
       "    </tr>\n",
       "    <tr>\n",
       "      <th>2</th>\n",
       "      <td>EPLLON20150316Crash &amp; burn : a novel / Lisa Ga...</td>\n",
       "      <td>EPLLON</td>\n",
       "      <td>Londonderry Branch</td>\n",
       "      <td>17</td>\n",
       "      <td>Crash &amp; burn : a novel</td>\n",
       "      <td>Gardner Lisa</td>\n",
       "      <td>03/16/2015 12:00:00 AM</td>\n",
       "      <td>http://epl.bibliocommons.com/search?t=smart&amp;q=...</td>\n",
       "      <td>Young Adult Fiction</td>\n",
       "      <td>4.0</td>\n",
       "      <td>2013.0</td>\n",
       "    </tr>\n",
       "    <tr>\n",
       "      <th>3</th>\n",
       "      <td>EPLLON20150316Gray Mountain / John Grisham</td>\n",
       "      <td>EPLLON</td>\n",
       "      <td>Londonderry Branch</td>\n",
       "      <td>14</td>\n",
       "      <td>Gray Mountain</td>\n",
       "      <td>Grisham John</td>\n",
       "      <td>03/16/2015 12:00:00 AM</td>\n",
       "      <td>http://epl.bibliocommons.com/search?t=smart&amp;q=...</td>\n",
       "      <td>Fiction</td>\n",
       "      <td>3.5</td>\n",
       "      <td>2014.0</td>\n",
       "    </tr>\n",
       "    <tr>\n",
       "      <th>4</th>\n",
       "      <td>EPLLON20150316Cambridge IELTS ... : examinatio...</td>\n",
       "      <td>EPLLON</td>\n",
       "      <td>Londonderry Branch</td>\n",
       "      <td>14</td>\n",
       "      <td>Cambridge IELTS ... : examination papers from ...</td>\n",
       "      <td>University of Cambridge Local Examinations Syn...</td>\n",
       "      <td>03/16/2015 12:00:00 AM</td>\n",
       "      <td>http://epl.bibliocommons.com/search?t=smart&amp;q=...</td>\n",
       "      <td>Foreign Language Study</td>\n",
       "      <td>NaN</td>\n",
       "      <td>2002.0</td>\n",
       "    </tr>\n",
       "  </tbody>\n",
       "</table>\n",
       "</div>"
      ],
      "text/plain": [
       "                                              row_id branch_id  \\\n",
       "0  EPLLON20150316The girl on the train / Paula Ha...    EPLLON   \n",
       "1      EPLLON20150316The maze runner / James Dashner    EPLLON   \n",
       "2  EPLLON20150316Crash & burn : a novel / Lisa Ga...    EPLLON   \n",
       "3         EPLLON20150316Gray Mountain / John Grisham    EPLLON   \n",
       "4  EPLLON20150316Cambridge IELTS ... : examinatio...    EPLLON   \n",
       "\n",
       "          branch_name  holds  \\\n",
       "0  Londonderry Branch     36   \n",
       "1  Londonderry Branch     18   \n",
       "2  Londonderry Branch     17   \n",
       "3  Londonderry Branch     14   \n",
       "4  Londonderry Branch     14   \n",
       "\n",
       "                                               title  \\\n",
       "0                              The girl on the train   \n",
       "1                                    The maze runner   \n",
       "2                             Crash & burn : a novel   \n",
       "3                                      Gray Mountain   \n",
       "4  Cambridge IELTS ... : examination papers from ...   \n",
       "\n",
       "                                              author                    date  \\\n",
       "0                                      Hawkins Paula  03/16/2015 12:00:00 AM   \n",
       "1                                      Dashner James  03/16/2015 12:00:00 AM   \n",
       "2                                       Gardner Lisa  03/16/2015 12:00:00 AM   \n",
       "3                                       Grisham John  03/16/2015 12:00:00 AM   \n",
       "4  University of Cambridge Local Examinations Syn...  03/16/2015 12:00:00 AM   \n",
       "\n",
       "                                                 url                   genre  \\\n",
       "0  http://epl.bibliocommons.com/search?t=smart&q=...                 Fiction   \n",
       "1  http://epl.bibliocommons.com/search?t=smart&q=...        Juvenile Fiction   \n",
       "2  http://epl.bibliocommons.com/search?t=smart&q=...     Young Adult Fiction   \n",
       "3  http://epl.bibliocommons.com/search?t=smart&q=...                 Fiction   \n",
       "4  http://epl.bibliocommons.com/search?t=smart&q=...  Foreign Language Study   \n",
       "\n",
       "   google_rating  publishing_Date  \n",
       "0            3.5           2015.0  \n",
       "1            3.5           2014.0  \n",
       "2            4.0           2013.0  \n",
       "3            3.5           2014.0  \n",
       "4            NaN           2002.0  "
      ]
     },
     "execution_count": 8,
     "metadata": {},
     "output_type": "execute_result"
    }
   ],
   "source": [
    "root_data = pd.read_csv('ImportingNewData/Final_Dataset.csv').iloc[:,13:]\n",
    "root_data.head()"
   ]
  },
  {
   "cell_type": "markdown",
   "metadata": {},
   "source": [
    "Loading an **additional dataset** containing the official branch names, latitudes and longitudes (for further graphs).\n",
    "\n",
    "dataset source official link: [click here](https://data.edmonton.ca/Community-Centres/Public-Libraries/jn25-zspi)"
   ]
  },
  {
   "cell_type": "code",
   "execution_count": 9,
   "metadata": {},
   "outputs": [
    {
     "data": {
      "text/html": [
       "<div>\n",
       "<style scoped>\n",
       "    .dataframe tbody tr th:only-of-type {\n",
       "        vertical-align: middle;\n",
       "    }\n",
       "\n",
       "    .dataframe tbody tr th {\n",
       "        vertical-align: top;\n",
       "    }\n",
       "\n",
       "    .dataframe thead th {\n",
       "        text-align: right;\n",
       "    }\n",
       "</style>\n",
       "<table border=\"1\" class=\"dataframe\">\n",
       "  <thead>\n",
       "    <tr style=\"text-align: right;\">\n",
       "      <th></th>\n",
       "      <th>Branch ID</th>\n",
       "      <th>Branch</th>\n",
       "      <th>Address</th>\n",
       "      <th>Latitude</th>\n",
       "      <th>Longitude</th>\n",
       "    </tr>\n",
       "  </thead>\n",
       "  <tbody>\n",
       "    <tr>\n",
       "      <th>7</th>\n",
       "      <td>EPLABB</td>\n",
       "      <td>Abbottsfield - Penny McKee</td>\n",
       "      <td>3410 - 118 Avenue</td>\n",
       "      <td>53.570451</td>\n",
       "      <td>-113.391518</td>\n",
       "    </tr>\n",
       "    <tr>\n",
       "      <th>20</th>\n",
       "      <td>EPLCAL</td>\n",
       "      <td>Calder</td>\n",
       "      <td>12710 - 131 Avenue NW</td>\n",
       "      <td>53.590515</td>\n",
       "      <td>-113.542369</td>\n",
       "    </tr>\n",
       "    <tr>\n",
       "      <th>12</th>\n",
       "      <td>EPLCLV</td>\n",
       "      <td>Clareview</td>\n",
       "      <td>3808 - 139 Avenue</td>\n",
       "      <td>53.601302</td>\n",
       "      <td>-113.401769</td>\n",
       "    </tr>\n",
       "    <tr>\n",
       "      <th>14</th>\n",
       "      <td>EPLCPL</td>\n",
       "      <td>Capilano</td>\n",
       "      <td>9915 - 67 Street</td>\n",
       "      <td>53.537896</td>\n",
       "      <td>-113.419927</td>\n",
       "    </tr>\n",
       "    <tr>\n",
       "      <th>11</th>\n",
       "      <td>EPLCSD</td>\n",
       "      <td>Castle Downs</td>\n",
       "      <td>106 Lakeside Landing, 15379 Castle Downs Rd</td>\n",
       "      <td>53.615736</td>\n",
       "      <td>-113.516633</td>\n",
       "    </tr>\n",
       "  </tbody>\n",
       "</table>\n",
       "</div>"
      ],
      "text/plain": [
       "   Branch ID                      Branch  \\\n",
       "7     EPLABB  Abbottsfield - Penny McKee   \n",
       "20    EPLCAL                      Calder   \n",
       "12    EPLCLV                   Clareview   \n",
       "14    EPLCPL                    Capilano   \n",
       "11    EPLCSD                Castle Downs   \n",
       "\n",
       "                                        Address   Latitude   Longitude  \n",
       "7                             3410 - 118 Avenue  53.570451 -113.391518  \n",
       "20                        12710 - 131 Avenue NW  53.590515 -113.542369  \n",
       "12                            3808 - 139 Avenue  53.601302 -113.401769  \n",
       "14                             9915 - 67 Street  53.537896 -113.419927  \n",
       "11  106 Lakeside Landing, 15379 Castle Downs Rd  53.615736 -113.516633  "
      ]
     },
     "execution_count": 9,
     "metadata": {},
     "output_type": "execute_result"
    }
   ],
   "source": [
    "#getting the addresses of the branches \n",
    "branch_info = pd.read_csv('Public_Libraries.csv')\n",
    "keep_columns = ['Branch ID', 'Branch', 'Address', 'Latitude', 'Longitude']\n",
    "branch_info = branch_info[keep_columns]\n",
    "\n",
    "branch_info.sort_values('Branch ID').head()"
   ]
  },
  {
   "cell_type": "markdown",
   "metadata": {},
   "source": [
    "### Overall look on data disponibility"
   ]
  },
  {
   "cell_type": "markdown",
   "metadata": {},
   "source": [
    "**Additional dataset** (branch informations)"
   ]
  },
  {
   "cell_type": "code",
   "execution_count": 10,
   "metadata": {},
   "outputs": [
    {
     "data": {
      "text/html": [
       "<div>\n",
       "<style scoped>\n",
       "    .dataframe tbody tr th:only-of-type {\n",
       "        vertical-align: middle;\n",
       "    }\n",
       "\n",
       "    .dataframe tbody tr th {\n",
       "        vertical-align: top;\n",
       "    }\n",
       "\n",
       "    .dataframe thead th {\n",
       "        text-align: right;\n",
       "    }\n",
       "</style>\n",
       "<table border=\"1\" class=\"dataframe\">\n",
       "  <thead>\n",
       "    <tr style=\"text-align: right;\">\n",
       "      <th></th>\n",
       "      <th>Branch ID</th>\n",
       "      <th>Branch</th>\n",
       "      <th>Address</th>\n",
       "      <th>Latitude</th>\n",
       "      <th>Longitude</th>\n",
       "    </tr>\n",
       "  </thead>\n",
       "  <tbody>\n",
       "    <tr>\n",
       "      <th>count</th>\n",
       "      <td>21</td>\n",
       "      <td>21</td>\n",
       "      <td>21</td>\n",
       "      <td>21</td>\n",
       "      <td>21</td>\n",
       "    </tr>\n",
       "    <tr>\n",
       "      <th>unique</th>\n",
       "      <td>21</td>\n",
       "      <td>21</td>\n",
       "      <td>21</td>\n",
       "      <td>-</td>\n",
       "      <td>-</td>\n",
       "    </tr>\n",
       "  </tbody>\n",
       "</table>\n",
       "</div>"
      ],
      "text/plain": [
       "       Branch ID Branch Address Latitude Longitude\n",
       "count         21     21      21       21        21\n",
       "unique        21     21      21        -         -"
      ]
     },
     "execution_count": 10,
     "metadata": {},
     "output_type": "execute_result"
    }
   ],
   "source": [
    "include =['object', 'float', 'int'] \n",
    "branch_info.describe(include = include).fillna('-').loc[['count', 'unique'], :]"
   ]
  },
  {
   "cell_type": "markdown",
   "metadata": {},
   "source": [
    "Very well rounded and clean, should serve as a model for the number of branches and looking to the main dataset."
   ]
  },
  {
   "cell_type": "markdown",
   "metadata": {},
   "source": [
    "**Main dataset**"
   ]
  },
  {
   "cell_type": "code",
   "execution_count": 13,
   "metadata": {
    "scrolled": true
   },
   "outputs": [
    {
     "name": "stdout",
     "output_type": "stream",
     "text": [
      "This dataset has 32300 lines.\n"
     ]
    },
    {
     "data": {
      "text/html": [
       "<style  type=\"text/css\" >\n",
       "    #T_e5012efa_50e5_11ea_bb5e_acde48001122row0_col5 {\n",
       "            background-color:  yellow;\n",
       "        }    #T_e5012efa_50e5_11ea_bb5e_acde48001122row0_col8 {\n",
       "            background-color:  yellow;\n",
       "        }    #T_e5012efa_50e5_11ea_bb5e_acde48001122row0_col9 {\n",
       "            background-color:  yellow;\n",
       "        }    #T_e5012efa_50e5_11ea_bb5e_acde48001122row1_col1 {\n",
       "            background-color:  #ffaaaa;\n",
       "        }    #T_e5012efa_50e5_11ea_bb5e_acde48001122row1_col2 {\n",
       "            background-color:  #ffaaaa;\n",
       "        }</style><table id=\"T_e5012efa_50e5_11ea_bb5e_acde48001122\" ><thead>    <tr>        <th class=\"blank level0\" ></th>        <th class=\"col_heading level0 col0\" >row_id</th>        <th class=\"col_heading level0 col1\" >branch_id</th>        <th class=\"col_heading level0 col2\" >branch_name</th>        <th class=\"col_heading level0 col3\" >holds</th>        <th class=\"col_heading level0 col4\" >title</th>        <th class=\"col_heading level0 col5\" >author</th>        <th class=\"col_heading level0 col6\" >date</th>        <th class=\"col_heading level0 col7\" >url</th>        <th class=\"col_heading level0 col8\" >genre</th>        <th class=\"col_heading level0 col9\" >google_rating</th>        <th class=\"col_heading level0 col10\" >publishing_Date</th>    </tr></thead><tbody>\n",
       "                <tr>\n",
       "                        <th id=\"T_e5012efa_50e5_11ea_bb5e_acde48001122level0_row0\" class=\"row_heading level0 row0\" >count</th>\n",
       "                        <td id=\"T_e5012efa_50e5_11ea_bb5e_acde48001122row0_col0\" class=\"data row0 col0\" >32300</td>\n",
       "                        <td id=\"T_e5012efa_50e5_11ea_bb5e_acde48001122row0_col1\" class=\"data row0 col1\" >32300</td>\n",
       "                        <td id=\"T_e5012efa_50e5_11ea_bb5e_acde48001122row0_col2\" class=\"data row0 col2\" >32300</td>\n",
       "                        <td id=\"T_e5012efa_50e5_11ea_bb5e_acde48001122row0_col3\" class=\"data row0 col3\" >32300.000000</td>\n",
       "                        <td id=\"T_e5012efa_50e5_11ea_bb5e_acde48001122row0_col4\" class=\"data row0 col4\" >32300</td>\n",
       "                        <td id=\"T_e5012efa_50e5_11ea_bb5e_acde48001122row0_col5\" class=\"data row0 col5\" >32134</td>\n",
       "                        <td id=\"T_e5012efa_50e5_11ea_bb5e_acde48001122row0_col6\" class=\"data row0 col6\" >32300</td>\n",
       "                        <td id=\"T_e5012efa_50e5_11ea_bb5e_acde48001122row0_col7\" class=\"data row0 col7\" >32300</td>\n",
       "                        <td id=\"T_e5012efa_50e5_11ea_bb5e_acde48001122row0_col8\" class=\"data row0 col8\" >32289</td>\n",
       "                        <td id=\"T_e5012efa_50e5_11ea_bb5e_acde48001122row0_col9\" class=\"data row0 col9\" >23963.000000</td>\n",
       "                        <td id=\"T_e5012efa_50e5_11ea_bb5e_acde48001122row0_col10\" class=\"data row0 col10\" >32300.000000</td>\n",
       "            </tr>\n",
       "            <tr>\n",
       "                        <th id=\"T_e5012efa_50e5_11ea_bb5e_acde48001122level0_row1\" class=\"row_heading level0 row1\" >unique</th>\n",
       "                        <td id=\"T_e5012efa_50e5_11ea_bb5e_acde48001122row1_col0\" class=\"data row1 col0\" >32300</td>\n",
       "                        <td id=\"T_e5012efa_50e5_11ea_bb5e_acde48001122row1_col1\" class=\"data row1 col1\" >22</td>\n",
       "                        <td id=\"T_e5012efa_50e5_11ea_bb5e_acde48001122row1_col2\" class=\"data row1 col2\" >48</td>\n",
       "                        <td id=\"T_e5012efa_50e5_11ea_bb5e_acde48001122row1_col3\" class=\"data row1 col3\" >0.000000</td>\n",
       "                        <td id=\"T_e5012efa_50e5_11ea_bb5e_acde48001122row1_col4\" class=\"data row1 col4\" >3312</td>\n",
       "                        <td id=\"T_e5012efa_50e5_11ea_bb5e_acde48001122row1_col5\" class=\"data row1 col5\" >2375</td>\n",
       "                        <td id=\"T_e5012efa_50e5_11ea_bb5e_acde48001122row1_col6\" class=\"data row1 col6\" >165</td>\n",
       "                        <td id=\"T_e5012efa_50e5_11ea_bb5e_acde48001122row1_col7\" class=\"data row1 col7\" >3414</td>\n",
       "                        <td id=\"T_e5012efa_50e5_11ea_bb5e_acde48001122row1_col8\" class=\"data row1 col8\" >111</td>\n",
       "                        <td id=\"T_e5012efa_50e5_11ea_bb5e_acde48001122row1_col9\" class=\"data row1 col9\" >0.000000</td>\n",
       "                        <td id=\"T_e5012efa_50e5_11ea_bb5e_acde48001122row1_col10\" class=\"data row1 col10\" >0.000000</td>\n",
       "            </tr>\n",
       "    </tbody></table>"
      ],
      "text/plain": [
       "<pandas.io.formats.style.Styler at 0x10f1f42b0>"
      ]
     },
     "execution_count": 13,
     "metadata": {},
     "output_type": "execute_result"
    }
   ],
   "source": [
    "total_lines = len(root_data)\n",
    "print('This dataset has {} lines.'.format(total_lines))\n",
    "\n",
    "\n",
    "def line_highlight_count(s):\n",
    "    '''\n",
    "    take a series and scalar and highlight if number of lines is less the total number of lines\n",
    "    '''\n",
    "    col = s < total_lines\n",
    "    return ['background-color: yellow' if v else '' for v in col]\n",
    "\n",
    "def line_highlight_unique(s):\n",
    "    '''\n",
    "    take a series and scalar and highlight if number of branches is more than branch info dataset\n",
    "    '''\n",
    "    col = s > 21\n",
    "    return ['background-color: #ffaaaa' if v else '' for v in col]\n",
    "\n",
    "include =['object', 'float', 'int'] \n",
    "desc = root_data.describe(include = include).fillna(0).loc[['count', 'unique'], :]\n",
    "desc = desc.style.apply(line_highlight_count, axis=1, subset=pd.IndexSlice['count', :])\n",
    "desc = desc.apply(line_highlight_unique, axis=1, subset=pd.IndexSlice['unique', ['branch_id', 'branch_name']])\n",
    "desc"
   ]
  },
  {
   "cell_type": "markdown",
   "metadata": {},
   "source": [
    "### Identifying data structure and flaws"
   ]
  },
  {
   "cell_type": "markdown",
   "metadata": {},
   "source": [
    "#### Missing data"
   ]
  },
  {
   "cell_type": "code",
   "execution_count": 24,
   "metadata": {},
   "outputs": [
    {
     "data": {
      "text/plain": [
       "row_id                0.0\n",
       "branch_id             0.0\n",
       "branch_name           0.0\n",
       "holds                 0.0\n",
       "title                 0.0\n",
       "author             -166.0\n",
       "date                  0.0\n",
       "url                   0.0\n",
       "genre               -11.0\n",
       "google_rating     -8337.0\n",
       "publishing_Date       0.0\n",
       "Name: count, dtype: float64"
      ]
     },
     "execution_count": 24,
     "metadata": {},
     "output_type": "execute_result"
    }
   ],
   "source": [
    "mis = root_data.describe(include = include).fillna(0).loc[['count'], :]\n",
    "mis.loc['count',:].apply(lambda cel: cel-total_lines if (total_lines-cel)>=0 else 0 )"
   ]
  },
  {
   "cell_type": "markdown",
   "metadata": {},
   "source": [
    "So, the most compromised feature here is **google_rating** with aproximately 25% of missing data."
   ]
  },
  {
   "cell_type": "markdown",
   "metadata": {},
   "source": [
    "#### Understanding genre labeling and consistency"
   ]
  },
  {
   "cell_type": "code",
   "execution_count": 64,
   "metadata": {},
   "outputs": [
    {
     "data": {
      "text/plain": [
       "<matplotlib.axes._subplots.AxesSubplot at 0x142a35eb0>"
      ]
     },
     "execution_count": 64,
     "metadata": {},
     "output_type": "execute_result"
    },
    {
     "data": {
      "image/png": "[encoded data removed]",
      "text/plain": [
       "<Figure size 864x576 with 1 Axes>"
      ]
     },
     "metadata": {
      "needs_background": "light"
     },
     "output_type": "display_data"
    }
   ],
   "source": [
    "#Understanding the distribution og the genre apearances\n",
    "genr = root_data[['genre']]\n",
    "genr_g = genr.groupby('genre').agg(genre_occur=('genre','size'))\n",
    "genr_g\n",
    "\n",
    "bins=[1,50,500,1000,10000,20000]\n",
    "\n",
    "sns.distplot(genr_g.genre_occur, bins=bins, kde=False)"
   ]
  },
  {
   "cell_type": "markdown",
   "metadata": {},
   "source": [
    "A lot of genres with 1 appearance, should be a fact of very specific genre selection or some problem with the genre brought by the API.\n",
    "\n",
    "To avoid data polution, we are going to name all this 1 appearance cases as **'Misc'** genre\n",
    "\n",
    "avod\n"
   ]
  },
  {
   "cell_type": "code",
   "execution_count": null,
   "metadata": {},
   "outputs": [],
   "source": []
  },
  {
   "cell_type": "code",
   "execution_count": null,
   "metadata": {},
   "outputs": [],
   "source": []
  },
  {
   "cell_type": "code",
   "execution_count": null,
   "metadata": {},
   "outputs": [],
   "source": []
  },
  {
   "cell_type": "code",
   "execution_count": null,
   "metadata": {},
   "outputs": [],
   "source": []
  },
  {
   "cell_type": "markdown",
   "metadata": {},
   "source": [
    "#### Branch number inconsistent with additional dataset"
   ]
  },
  {
   "cell_type": "markdown",
   "metadata": {},
   "source": [
    "Also, it seems that we have a **dislignment concerning the number of branches ids and names (red highlight) with the additional dataset**. \n",
    "\n",
    "Let's investigate and fix it."
   ]
  },
  {
   "cell_type": "code",
   "execution_count": 14,
   "metadata": {},
   "outputs": [
    {
     "data": {
      "text/html": [
       "<style  type=\"text/css\" >\n",
       "    #T_eb361d94_50e5_11ea_bb5e_acde48001122row1_col2 {\n",
       "            background-color:  red;\n",
       "        }    #T_eb361d94_50e5_11ea_bb5e_acde48001122row1_col3 {\n",
       "            background-color:  red;\n",
       "        }    #T_eb361d94_50e5_11ea_bb5e_acde48001122row15_col2 {\n",
       "            background-color:  red;\n",
       "        }    #T_eb361d94_50e5_11ea_bb5e_acde48001122row15_col3 {\n",
       "            background-color:  red;\n",
       "        }    #T_eb361d94_50e5_11ea_bb5e_acde48001122row22_col0 {\n",
       "            background-color:  red;\n",
       "        }    #T_eb361d94_50e5_11ea_bb5e_acde48001122row22_col1 {\n",
       "            background-color:  red;\n",
       "        }</style><table id=\"T_eb361d94_50e5_11ea_bb5e_acde48001122\" ><thead>    <tr>        <th class=\"blank level0\" ></th>        <th class=\"col_heading level0 col0\" >branch_id</th>        <th class=\"col_heading level0 col1\" >branch_name</th>        <th class=\"col_heading level0 col2\" >Branch ID</th>        <th class=\"col_heading level0 col3\" >Branch</th>    </tr></thead><tbody>\n",
       "                <tr>\n",
       "                        <th id=\"T_eb361d94_50e5_11ea_bb5e_acde48001122level0_row0\" class=\"row_heading level0 row0\" >0</th>\n",
       "                        <td id=\"T_eb361d94_50e5_11ea_bb5e_acde48001122row0_col0\" class=\"data row0 col0\" >EPLLON</td>\n",
       "                        <td id=\"T_eb361d94_50e5_11ea_bb5e_acde48001122row0_col1\" class=\"data row0 col1\" >Londonderry Branch</td>\n",
       "                        <td id=\"T_eb361d94_50e5_11ea_bb5e_acde48001122row0_col2\" class=\"data row0 col2\" >EPLLON</td>\n",
       "                        <td id=\"T_eb361d94_50e5_11ea_bb5e_acde48001122row0_col3\" class=\"data row0 col3\" >Londonderry</td>\n",
       "            </tr>\n",
       "            <tr>\n",
       "                        <th id=\"T_eb361d94_50e5_11ea_bb5e_acde48001122level0_row1\" class=\"row_heading level0 row1\" >1</th>\n",
       "                        <td id=\"T_eb361d94_50e5_11ea_bb5e_acde48001122row1_col0\" class=\"data row1 col0\" >EPLMNA</td>\n",
       "                        <td id=\"T_eb361d94_50e5_11ea_bb5e_acde48001122row1_col1\" class=\"data row1 col1\" >Stanley A. Milner Library (Downtown)</td>\n",
       "                        <td id=\"T_eb361d94_50e5_11ea_bb5e_acde48001122row1_col2\" class=\"data row1 col2\" >nan</td>\n",
       "                        <td id=\"T_eb361d94_50e5_11ea_bb5e_acde48001122row1_col3\" class=\"data row1 col3\" >nan</td>\n",
       "            </tr>\n",
       "            <tr>\n",
       "                        <th id=\"T_eb361d94_50e5_11ea_bb5e_acde48001122level0_row2\" class=\"row_heading level0 row2\" >2</th>\n",
       "                        <td id=\"T_eb361d94_50e5_11ea_bb5e_acde48001122row2_col0\" class=\"data row2 col0\" >EPLMEA</td>\n",
       "                        <td id=\"T_eb361d94_50e5_11ea_bb5e_acde48001122row2_col1\" class=\"data row2 col1\" >Meadows Branch</td>\n",
       "                        <td id=\"T_eb361d94_50e5_11ea_bb5e_acde48001122row2_col2\" class=\"data row2 col2\" >EPLMEA</td>\n",
       "                        <td id=\"T_eb361d94_50e5_11ea_bb5e_acde48001122row2_col3\" class=\"data row2 col3\" >Meadows</td>\n",
       "            </tr>\n",
       "            <tr>\n",
       "                        <th id=\"T_eb361d94_50e5_11ea_bb5e_acde48001122level0_row3\" class=\"row_heading level0 row3\" >3</th>\n",
       "                        <td id=\"T_eb361d94_50e5_11ea_bb5e_acde48001122row3_col0\" class=\"data row3 col0\" >EPLABB</td>\n",
       "                        <td id=\"T_eb361d94_50e5_11ea_bb5e_acde48001122row3_col1\" class=\"data row3 col1\" >Abbottsfield - Penny McKee Branch</td>\n",
       "                        <td id=\"T_eb361d94_50e5_11ea_bb5e_acde48001122row3_col2\" class=\"data row3 col2\" >EPLABB</td>\n",
       "                        <td id=\"T_eb361d94_50e5_11ea_bb5e_acde48001122row3_col3\" class=\"data row3 col3\" >Abbottsfield - Penny McKee</td>\n",
       "            </tr>\n",
       "            <tr>\n",
       "                        <th id=\"T_eb361d94_50e5_11ea_bb5e_acde48001122level0_row4\" class=\"row_heading level0 row4\" >4</th>\n",
       "                        <td id=\"T_eb361d94_50e5_11ea_bb5e_acde48001122row4_col0\" class=\"data row4 col0\" >EPLCAL</td>\n",
       "                        <td id=\"T_eb361d94_50e5_11ea_bb5e_acde48001122row4_col1\" class=\"data row4 col1\" >Calder Branch</td>\n",
       "                        <td id=\"T_eb361d94_50e5_11ea_bb5e_acde48001122row4_col2\" class=\"data row4 col2\" >EPLCAL</td>\n",
       "                        <td id=\"T_eb361d94_50e5_11ea_bb5e_acde48001122row4_col3\" class=\"data row4 col3\" >Calder</td>\n",
       "            </tr>\n",
       "            <tr>\n",
       "                        <th id=\"T_eb361d94_50e5_11ea_bb5e_acde48001122level0_row5\" class=\"row_heading level0 row5\" >5</th>\n",
       "                        <td id=\"T_eb361d94_50e5_11ea_bb5e_acde48001122row5_col0\" class=\"data row5 col0\" >EPLLHL</td>\n",
       "                        <td id=\"T_eb361d94_50e5_11ea_bb5e_acde48001122row5_col1\" class=\"data row5 col1\" >Lois Hole Library</td>\n",
       "                        <td id=\"T_eb361d94_50e5_11ea_bb5e_acde48001122row5_col2\" class=\"data row5 col2\" >EPLLHL</td>\n",
       "                        <td id=\"T_eb361d94_50e5_11ea_bb5e_acde48001122row5_col3\" class=\"data row5 col3\" >Lois Hole (Callingwood)</td>\n",
       "            </tr>\n",
       "            <tr>\n",
       "                        <th id=\"T_eb361d94_50e5_11ea_bb5e_acde48001122level0_row6\" class=\"row_heading level0 row6\" >6</th>\n",
       "                        <td id=\"T_eb361d94_50e5_11ea_bb5e_acde48001122row6_col0\" class=\"data row6 col0\" >EPLMLW</td>\n",
       "                        <td id=\"T_eb361d94_50e5_11ea_bb5e_acde48001122row6_col1\" class=\"data row6 col1\" >Mill Woods Branch</td>\n",
       "                        <td id=\"T_eb361d94_50e5_11ea_bb5e_acde48001122row6_col2\" class=\"data row6 col2\" >EPLMLW</td>\n",
       "                        <td id=\"T_eb361d94_50e5_11ea_bb5e_acde48001122row6_col3\" class=\"data row6 col3\" >Mill Woods</td>\n",
       "            </tr>\n",
       "            <tr>\n",
       "                        <th id=\"T_eb361d94_50e5_11ea_bb5e_acde48001122level0_row7\" class=\"row_heading level0 row7\" >7</th>\n",
       "                        <td id=\"T_eb361d94_50e5_11ea_bb5e_acde48001122row7_col0\" class=\"data row7 col0\" >EPLRIV</td>\n",
       "                        <td id=\"T_eb361d94_50e5_11ea_bb5e_acde48001122row7_col1\" class=\"data row7 col1\" >Riverbend Branch</td>\n",
       "                        <td id=\"T_eb361d94_50e5_11ea_bb5e_acde48001122row7_col2\" class=\"data row7 col2\" >EPLRIV</td>\n",
       "                        <td id=\"T_eb361d94_50e5_11ea_bb5e_acde48001122row7_col3\" class=\"data row7 col3\" >Riverbend</td>\n",
       "            </tr>\n",
       "            <tr>\n",
       "                        <th id=\"T_eb361d94_50e5_11ea_bb5e_acde48001122level0_row8\" class=\"row_heading level0 row8\" >8</th>\n",
       "                        <td id=\"T_eb361d94_50e5_11ea_bb5e_acde48001122row8_col0\" class=\"data row8 col0\" >EPLSPW</td>\n",
       "                        <td id=\"T_eb361d94_50e5_11ea_bb5e_acde48001122row8_col1\" class=\"data row8 col1\" >Sprucewood Branch</td>\n",
       "                        <td id=\"T_eb361d94_50e5_11ea_bb5e_acde48001122row8_col2\" class=\"data row8 col2\" >EPLSPW</td>\n",
       "                        <td id=\"T_eb361d94_50e5_11ea_bb5e_acde48001122row8_col3\" class=\"data row8 col3\" >Sprucewood</td>\n",
       "            </tr>\n",
       "            <tr>\n",
       "                        <th id=\"T_eb361d94_50e5_11ea_bb5e_acde48001122level0_row9\" class=\"row_heading level0 row9\" >9</th>\n",
       "                        <td id=\"T_eb361d94_50e5_11ea_bb5e_acde48001122row9_col0\" class=\"data row9 col0\" >EPLCSD</td>\n",
       "                        <td id=\"T_eb361d94_50e5_11ea_bb5e_acde48001122row9_col1\" class=\"data row9 col1\" >Castle Downs Branch</td>\n",
       "                        <td id=\"T_eb361d94_50e5_11ea_bb5e_acde48001122row9_col2\" class=\"data row9 col2\" >EPLCSD</td>\n",
       "                        <td id=\"T_eb361d94_50e5_11ea_bb5e_acde48001122row9_col3\" class=\"data row9 col3\" >Castle Downs</td>\n",
       "            </tr>\n",
       "            <tr>\n",
       "                        <th id=\"T_eb361d94_50e5_11ea_bb5e_acde48001122level0_row10\" class=\"row_heading level0 row10\" >10</th>\n",
       "                        <td id=\"T_eb361d94_50e5_11ea_bb5e_acde48001122row10_col0\" class=\"data row10 col0\" >EPLCPL</td>\n",
       "                        <td id=\"T_eb361d94_50e5_11ea_bb5e_acde48001122row10_col1\" class=\"data row10 col1\" >Capilano Branch</td>\n",
       "                        <td id=\"T_eb361d94_50e5_11ea_bb5e_acde48001122row10_col2\" class=\"data row10 col2\" >EPLCPL</td>\n",
       "                        <td id=\"T_eb361d94_50e5_11ea_bb5e_acde48001122row10_col3\" class=\"data row10 col3\" >Capilano</td>\n",
       "            </tr>\n",
       "            <tr>\n",
       "                        <th id=\"T_eb361d94_50e5_11ea_bb5e_acde48001122level0_row11\" class=\"row_heading level0 row11\" >11</th>\n",
       "                        <td id=\"T_eb361d94_50e5_11ea_bb5e_acde48001122row11_col0\" class=\"data row11 col0\" >EPLWOO</td>\n",
       "                        <td id=\"T_eb361d94_50e5_11ea_bb5e_acde48001122row11_col1\" class=\"data row11 col1\" >Woodcroft Branch</td>\n",
       "                        <td id=\"T_eb361d94_50e5_11ea_bb5e_acde48001122row11_col2\" class=\"data row11 col2\" >EPLWOO</td>\n",
       "                        <td id=\"T_eb361d94_50e5_11ea_bb5e_acde48001122row11_col3\" class=\"data row11 col3\" >Woodcroft (Westmount)</td>\n",
       "            </tr>\n",
       "            <tr>\n",
       "                        <th id=\"T_eb361d94_50e5_11ea_bb5e_acde48001122level0_row12\" class=\"row_heading level0 row12\" >12</th>\n",
       "                        <td id=\"T_eb361d94_50e5_11ea_bb5e_acde48001122row12_col0\" class=\"data row12 col0\" >EPLHIG</td>\n",
       "                        <td id=\"T_eb361d94_50e5_11ea_bb5e_acde48001122row12_col1\" class=\"data row12 col1\" >Highlands Branch</td>\n",
       "                        <td id=\"T_eb361d94_50e5_11ea_bb5e_acde48001122row12_col2\" class=\"data row12 col2\" >EPLHIG</td>\n",
       "                        <td id=\"T_eb361d94_50e5_11ea_bb5e_acde48001122row12_col3\" class=\"data row12 col3\" >Highlands</td>\n",
       "            </tr>\n",
       "            <tr>\n",
       "                        <th id=\"T_eb361d94_50e5_11ea_bb5e_acde48001122level0_row13\" class=\"row_heading level0 row13\" >13</th>\n",
       "                        <td id=\"T_eb361d94_50e5_11ea_bb5e_acde48001122row13_col0\" class=\"data row13 col0\" >EPLSTR</td>\n",
       "                        <td id=\"T_eb361d94_50e5_11ea_bb5e_acde48001122row13_col1\" class=\"data row13 col1\" >Strathcona Branch</td>\n",
       "                        <td id=\"T_eb361d94_50e5_11ea_bb5e_acde48001122row13_col2\" class=\"data row13 col2\" >EPLSTR</td>\n",
       "                        <td id=\"T_eb361d94_50e5_11ea_bb5e_acde48001122row13_col3\" class=\"data row13 col3\" >Strathcona</td>\n",
       "            </tr>\n",
       "            <tr>\n",
       "                        <th id=\"T_eb361d94_50e5_11ea_bb5e_acde48001122level0_row14\" class=\"row_heading level0 row14\" >14</th>\n",
       "                        <td id=\"T_eb361d94_50e5_11ea_bb5e_acde48001122row14_col0\" class=\"data row14 col0\" >EPLWMC</td>\n",
       "                        <td id=\"T_eb361d94_50e5_11ea_bb5e_acde48001122row14_col1\" class=\"data row14 col1\" >Whitemud Crossing Branch</td>\n",
       "                        <td id=\"T_eb361d94_50e5_11ea_bb5e_acde48001122row14_col2\" class=\"data row14 col2\" >EPLWMC</td>\n",
       "                        <td id=\"T_eb361d94_50e5_11ea_bb5e_acde48001122row14_col3\" class=\"data row14 col3\" >Whitemud Crossing</td>\n",
       "            </tr>\n",
       "            <tr>\n",
       "                        <th id=\"T_eb361d94_50e5_11ea_bb5e_acde48001122level0_row15\" class=\"row_heading level0 row15\" >15</th>\n",
       "                        <td id=\"T_eb361d94_50e5_11ea_bb5e_acde48001122row15_col0\" class=\"data row15 col0\" >EPLGMU</td>\n",
       "                        <td id=\"T_eb361d94_50e5_11ea_bb5e_acde48001122row15_col1\" class=\"data row15 col1\" >MacEwan University</td>\n",
       "                        <td id=\"T_eb361d94_50e5_11ea_bb5e_acde48001122row15_col2\" class=\"data row15 col2\" >nan</td>\n",
       "                        <td id=\"T_eb361d94_50e5_11ea_bb5e_acde48001122row15_col3\" class=\"data row15 col3\" >nan</td>\n",
       "            </tr>\n",
       "            <tr>\n",
       "                        <th id=\"T_eb361d94_50e5_11ea_bb5e_acde48001122level0_row16\" class=\"row_heading level0 row16\" >16</th>\n",
       "                        <td id=\"T_eb361d94_50e5_11ea_bb5e_acde48001122row16_col0\" class=\"data row16 col0\" >EPLCLV</td>\n",
       "                        <td id=\"T_eb361d94_50e5_11ea_bb5e_acde48001122row16_col1\" class=\"data row16 col1\" >Clareview Branch</td>\n",
       "                        <td id=\"T_eb361d94_50e5_11ea_bb5e_acde48001122row16_col2\" class=\"data row16 col2\" >EPLCLV</td>\n",
       "                        <td id=\"T_eb361d94_50e5_11ea_bb5e_acde48001122row16_col3\" class=\"data row16 col3\" >Clareview</td>\n",
       "            </tr>\n",
       "            <tr>\n",
       "                        <th id=\"T_eb361d94_50e5_11ea_bb5e_acde48001122level0_row17\" class=\"row_heading level0 row17\" >17</th>\n",
       "                        <td id=\"T_eb361d94_50e5_11ea_bb5e_acde48001122row17_col0\" class=\"data row17 col0\" >EPLJPL</td>\n",
       "                        <td id=\"T_eb361d94_50e5_11ea_bb5e_acde48001122row17_col1\" class=\"data row17 col1\" >Jasper Place Branch</td>\n",
       "                        <td id=\"T_eb361d94_50e5_11ea_bb5e_acde48001122row17_col2\" class=\"data row17 col2\" >EPLJPL</td>\n",
       "                        <td id=\"T_eb361d94_50e5_11ea_bb5e_acde48001122row17_col3\" class=\"data row17 col3\" >Jasper Place</td>\n",
       "            </tr>\n",
       "            <tr>\n",
       "                        <th id=\"T_eb361d94_50e5_11ea_bb5e_acde48001122level0_row18\" class=\"row_heading level0 row18\" >18</th>\n",
       "                        <td id=\"T_eb361d94_50e5_11ea_bb5e_acde48001122row18_col0\" class=\"data row18 col0\" >EPLIDY</td>\n",
       "                        <td id=\"T_eb361d94_50e5_11ea_bb5e_acde48001122row18_col1\" class=\"data row18 col1\" >Idylwylde Branch</td>\n",
       "                        <td id=\"T_eb361d94_50e5_11ea_bb5e_acde48001122row18_col2\" class=\"data row18 col2\" >EPLIDY</td>\n",
       "                        <td id=\"T_eb361d94_50e5_11ea_bb5e_acde48001122row18_col3\" class=\"data row18 col3\" >Idylwylde (Bonnie Doon)</td>\n",
       "            </tr>\n",
       "            <tr>\n",
       "                        <th id=\"T_eb361d94_50e5_11ea_bb5e_acde48001122level0_row19\" class=\"row_heading level0 row19\" >19</th>\n",
       "                        <td id=\"T_eb361d94_50e5_11ea_bb5e_acde48001122row19_col0\" class=\"data row19 col0\" >EPLMCN</td>\n",
       "                        <td id=\"T_eb361d94_50e5_11ea_bb5e_acde48001122row19_col1\" class=\"data row19 col1\" >McConachie Branch</td>\n",
       "                        <td id=\"T_eb361d94_50e5_11ea_bb5e_acde48001122row19_col2\" class=\"data row19 col2\" >EPLMCN</td>\n",
       "                        <td id=\"T_eb361d94_50e5_11ea_bb5e_acde48001122row19_col3\" class=\"data row19 col3\" >McConachie</td>\n",
       "            </tr>\n",
       "            <tr>\n",
       "                        <th id=\"T_eb361d94_50e5_11ea_bb5e_acde48001122level0_row20\" class=\"row_heading level0 row20\" >20</th>\n",
       "                        <td id=\"T_eb361d94_50e5_11ea_bb5e_acde48001122row20_col0\" class=\"data row20 col0\" >EPLWHP</td>\n",
       "                        <td id=\"T_eb361d94_50e5_11ea_bb5e_acde48001122row20_col1\" class=\"data row20 col1\" >West Henday Promenad (Lewis Estates) Branch</td>\n",
       "                        <td id=\"T_eb361d94_50e5_11ea_bb5e_acde48001122row20_col2\" class=\"data row20 col2\" >EPLWHP</td>\n",
       "                        <td id=\"T_eb361d94_50e5_11ea_bb5e_acde48001122row20_col3\" class=\"data row20 col3\" >West Henday Promenade (Lewis Estates)</td>\n",
       "            </tr>\n",
       "            <tr>\n",
       "                        <th id=\"T_eb361d94_50e5_11ea_bb5e_acde48001122level0_row21\" class=\"row_heading level0 row21\" >21</th>\n",
       "                        <td id=\"T_eb361d94_50e5_11ea_bb5e_acde48001122row21_col0\" class=\"data row21 col0\" >EPLHVY</td>\n",
       "                        <td id=\"T_eb361d94_50e5_11ea_bb5e_acde48001122row21_col1\" class=\"data row21 col1\" >Heritage Valley</td>\n",
       "                        <td id=\"T_eb361d94_50e5_11ea_bb5e_acde48001122row21_col2\" class=\"data row21 col2\" >EPLHVY</td>\n",
       "                        <td id=\"T_eb361d94_50e5_11ea_bb5e_acde48001122row21_col3\" class=\"data row21 col3\" >Heritage Valley</td>\n",
       "            </tr>\n",
       "            <tr>\n",
       "                        <th id=\"T_eb361d94_50e5_11ea_bb5e_acde48001122level0_row22\" class=\"row_heading level0 row22\" >22</th>\n",
       "                        <td id=\"T_eb361d94_50e5_11ea_bb5e_acde48001122row22_col0\" class=\"data row22 col0\" >nan</td>\n",
       "                        <td id=\"T_eb361d94_50e5_11ea_bb5e_acde48001122row22_col1\" class=\"data row22 col1\" >nan</td>\n",
       "                        <td id=\"T_eb361d94_50e5_11ea_bb5e_acde48001122row22_col2\" class=\"data row22 col2\" >EPLESQ</td>\n",
       "                        <td id=\"T_eb361d94_50e5_11ea_bb5e_acde48001122row22_col3\" class=\"data row22 col3\" >Enterprise Square (Downtown)</td>\n",
       "            </tr>\n",
       "    </tbody></table>"
      ],
      "text/plain": [
       "<pandas.io.formats.style.Styler at 0x10d41e910>"
      ]
     },
     "execution_count": 14,
     "metadata": {},
     "output_type": "execute_result"
    }
   ],
   "source": [
    "binfo = branch_info[['Branch ID', 'Branch']].drop_duplicates()\n",
    "main_binfo = root_data[['branch_id', 'branch_name']].drop_duplicates(subset='branch_id')\n",
    "\n",
    "\n",
    "merged_binfo = main_binfo.merge(binfo, how='outer', left_on='branch_id', right_on='Branch ID')\n",
    "\n",
    "#merged_binfo.groupby(['branch_id', 'Branch ID', 'Branch']).size()\n",
    "merged_binfo.style.highlight_null(null_color='red')"
   ]
  },
  {
   "cell_type": "markdown",
   "metadata": {},
   "source": [
    "So, once that for us the most important is the data that comes from the main dataset, we have two branches (EPLMNA and EPLGMU) that we will not be able to gather information from the additional dataset, **so we will have to gather the location info manually here**.\n",
    "\n",
    "** After some research, I found out that the Stanley A. Milner Library now is represented by the Enterprise Square (Downtown) name and ID, so we will just replace the names for this one\n"
   ]
  },
  {
   "cell_type": "markdown",
   "metadata": {},
   "source": [
    "### **Data Fixes**"
   ]
  },
  {
   "cell_type": "markdown",
   "metadata": {},
   "source": [
    "**Fixing the branch_info dataset, including the missing branch**"
   ]
  },
  {
   "cell_type": "code",
   "execution_count": 16,
   "metadata": {},
   "outputs": [
    {
     "data": {
      "text/html": [
       "<div>\n",
       "<style scoped>\n",
       "    .dataframe tbody tr th:only-of-type {\n",
       "        vertical-align: middle;\n",
       "    }\n",
       "\n",
       "    .dataframe tbody tr th {\n",
       "        vertical-align: top;\n",
       "    }\n",
       "\n",
       "    .dataframe thead th {\n",
       "        text-align: right;\n",
       "    }\n",
       "</style>\n",
       "<table border=\"1\" class=\"dataframe\">\n",
       "  <thead>\n",
       "    <tr style=\"text-align: right;\">\n",
       "      <th></th>\n",
       "      <th>Branch ID</th>\n",
       "      <th>Branch</th>\n",
       "      <th>Address</th>\n",
       "      <th>Latitude</th>\n",
       "      <th>Longitude</th>\n",
       "    </tr>\n",
       "  </thead>\n",
       "  <tbody>\n",
       "    <tr>\n",
       "      <th>17</th>\n",
       "      <td>EPLWMC</td>\n",
       "      <td>Whitemud Crossing</td>\n",
       "      <td>145 Whitemud Crossing Shopping Centre, 4211 - ...</td>\n",
       "      <td>53.479486</td>\n",
       "      <td>-113.504122</td>\n",
       "    </tr>\n",
       "    <tr>\n",
       "      <th>18</th>\n",
       "      <td>EPLHVY</td>\n",
       "      <td>Heritage Valley</td>\n",
       "      <td>2755-119A Street SW</td>\n",
       "      <td>53.407480</td>\n",
       "      <td>-113.537569</td>\n",
       "    </tr>\n",
       "    <tr>\n",
       "      <th>19</th>\n",
       "      <td>EPLMLW</td>\n",
       "      <td>Mill Woods</td>\n",
       "      <td>2610 Hewes Way</td>\n",
       "      <td>53.455445</td>\n",
       "      <td>-113.434380</td>\n",
       "    </tr>\n",
       "    <tr>\n",
       "      <th>20</th>\n",
       "      <td>EPLCAL</td>\n",
       "      <td>Calder</td>\n",
       "      <td>12710 - 131 Avenue NW</td>\n",
       "      <td>53.590515</td>\n",
       "      <td>-113.542369</td>\n",
       "    </tr>\n",
       "    <tr>\n",
       "      <th>21</th>\n",
       "      <td>EPLGMU</td>\n",
       "      <td>NaN</td>\n",
       "      <td>NaN</td>\n",
       "      <td>53.547389</td>\n",
       "      <td>113.505425</td>\n",
       "    </tr>\n",
       "  </tbody>\n",
       "</table>\n",
       "</div>"
      ],
      "text/plain": [
       "   Branch ID             Branch  \\\n",
       "17    EPLWMC  Whitemud Crossing   \n",
       "18    EPLHVY    Heritage Valley   \n",
       "19    EPLMLW         Mill Woods   \n",
       "20    EPLCAL             Calder   \n",
       "21    EPLGMU                NaN   \n",
       "\n",
       "                                              Address   Latitude   Longitude  \n",
       "17  145 Whitemud Crossing Shopping Centre, 4211 - ...  53.479486 -113.504122  \n",
       "18                                2755-119A Street SW  53.407480 -113.537569  \n",
       "19                                     2610 Hewes Way  53.455445 -113.434380  \n",
       "20                              12710 - 131 Avenue NW  53.590515 -113.542369  \n",
       "21                                                NaN  53.547389  113.505425  "
      ]
     },
     "execution_count": 16,
     "metadata": {},
     "output_type": "execute_result"
    }
   ],
   "source": [
    "#added the MacEwan unit to the branch info dataset\n",
    "branch_info = branch_info.append({'Branch ID':'EPLGMU', 'Latitude':53.547389, 'Longitude':113.505425}, ignore_index=True)\n",
    "\n",
    "branch_info.tail()"
   ]
  },
  {
   "cell_type": "markdown",
   "metadata": {},
   "source": [
    "**Fixing the root_data dataset, changing the name for the EPLMNA and normalizing branch names**"
   ]
  },
  {
   "cell_type": "code",
   "execution_count": 17,
   "metadata": {},
   "outputs": [
    {
     "data": {
      "text/plain": [
       "{'EPLLON': 'Londonderry Branch',\n",
       " 'EPLMNA': 'Stanley A. Milner Library (Downtown)',\n",
       " 'EPLMEA': 'Meadows Branch',\n",
       " 'EPLABB': 'Abbottsfield - Penny McKee Branch',\n",
       " 'EPLCAL': 'Calder Branch',\n",
       " 'EPLLHL': 'Lois Hole Library',\n",
       " 'EPLMLW': 'Mill Woods Branch',\n",
       " 'EPLRIV': 'Riverbend Branch',\n",
       " 'EPLSPW': 'Sprucewood Branch',\n",
       " 'EPLCSD': 'Castle Downs Branch',\n",
       " 'EPLCPL': 'Capilano Branch',\n",
       " 'EPLWOO': 'Woodcroft Branch',\n",
       " 'EPLHIG': 'Highlands Branch',\n",
       " 'EPLSTR': 'Strathcona Branch',\n",
       " 'EPLWMC': 'Whitemud Crossing Branch',\n",
       " 'EPLGMU': 'MacEwan University',\n",
       " 'EPLCLV': 'Clareview Branch',\n",
       " 'EPLJPL': 'Jasper Place Branch',\n",
       " 'EPLIDY': 'Idylwylde Branch',\n",
       " 'EPLMCN': 'McConachie Branch',\n",
       " 'EPLWHP': 'West Henday Promenad (Lewis Estates) Branch',\n",
       " 'EPLHVY': 'Heritage Valley',\n",
       " nan: nan}"
      ]
     },
     "execution_count": 17,
     "metadata": {},
     "output_type": "execute_result"
    }
   ],
   "source": [
    "branch_normalizer = {row['branch_id']:row['branch_name'] for index,row in merged_binfo.iterrows()}\n",
    "branch_normalizer\n",
    "    "
   ]
  },
  {
   "cell_type": "code",
   "execution_count": 18,
   "metadata": {},
   "outputs": [
    {
     "data": {
      "text/plain": [
       "branch_id  branch_name                                \n",
       "EPLABB     Abbottsfield - Penny McKee Branch              1649\n",
       "EPLCAL     Calder Branch                                  1649\n",
       "EPLCLV     Clareview Branch                               1640\n",
       "EPLCPL     Capilano Branch                                1645\n",
       "EPLCSD     Castle Downs Branch                            1648\n",
       "EPLESQ     Enterprise Square (Downtown)                   1650\n",
       "EPLGMU     MacEwan University                             1060\n",
       "EPLHIG     Highlands Branch                               1639\n",
       "EPLHVY     Heritage Valley                                 274\n",
       "EPLIDY     Idylwylde Branch                               1640\n",
       "EPLJPL     Jasper Place Branch                            1640\n",
       "EPLLHL     Lois Hole Library                              1650\n",
       "EPLLON     Londonderry Branch                             1650\n",
       "EPLMCN     McConachie Branch                               680\n",
       "EPLMEA     Meadows Branch                                 1649\n",
       "EPLMLW     Mill Woods Branch                              1650\n",
       "EPLRIV     Riverbend Branch                               1648\n",
       "EPLSPW     Sprucewood Branch                              1640\n",
       "EPLSTR     Strathcona Branch                              1639\n",
       "EPLWHP     West Henday Promenad (Lewis Estates) Branch     680\n",
       "EPLWMC     Whitemud Crossing Branch                       1640\n",
       "EPLWOO     Woodcroft Branch                               1640\n",
       "dtype: int64"
      ]
     },
     "execution_count": 18,
     "metadata": {},
     "output_type": "execute_result"
    }
   ],
   "source": [
    "# changing the name and code for the Stanley A. Milner Library and normaling\n",
    "branch_normalizer = {row['branch_id']:row['branch_name'] for index,row in merged_binfo.iterrows()}\n",
    "branch_normalizer['EPLESQ'] = 'Enterprise Square (Downtown)'\n",
    "\n",
    "root_data['branch_id'] = root_data['branch_id'].apply(lambda x: 'EPLESQ' if x == 'EPLMNA' else x)\n",
    "root_data['branch_name'] = root_data['branch_id'].apply(lambda x: branch_normalizer[x] )\n",
    "\n",
    "root_data.groupby(['branch_id', 'branch_name']).size()"
   ]
  },
  {
   "cell_type": "markdown",
   "metadata": {},
   "source": [
    "# Data Analysis"
   ]
  },
  {
   "cell_type": "markdown",
   "metadata": {},
   "source": [
    "### Some questions to solve:\n",
    "\n",
    " - Is the overall number of holdings going up?\n",
    " - How is the overall holding numbers per branch? Are downtreding and uptrending branches?\n",
    " - What are the most popular books?\n",
    " - Are the popular books popular in all branchs?\n",
    " - Are there any patterns concerning the genre of books? what about genre in different branches?\n",
    " "
   ]
  },
  {
   "cell_type": "markdown",
   "metadata": {},
   "source": [
    "### - 'Is the overall number of holdings going up?' "
   ]
  },
  {
   "cell_type": "code",
   "execution_count": null,
   "metadata": {},
   "outputs": [],
   "source": [
    "hld = data[['holds', '']]"
   ]
  },
  {
   "cell_type": "code",
   "execution_count": null,
   "metadata": {},
   "outputs": [],
   "source": []
  },
  {
   "cell_type": "code",
   "execution_count": null,
   "metadata": {},
   "outputs": [],
   "source": []
  },
  {
   "cell_type": "code",
   "execution_count": null,
   "metadata": {},
   "outputs": [],
   "source": []
  },
  {
   "cell_type": "markdown",
   "metadata": {},
   "source": [
    "### - 'What are the most popular books?' "
   ]
  },
  {
   "cell_type": "code",
   "execution_count": null,
   "metadata": {},
   "outputs": [],
   "source": [
    "# most number of holds\n",
    "\n",
    "a = data[['title', 'genre', 'holds']]\n",
    "a = a.groupby('title').sum().sort_values('holds', ascending=False).head(15)\n",
    "\n",
    "a"
   ]
  },
  {
   "cell_type": "code",
   "execution_count": null,
   "metadata": {},
   "outputs": [],
   "source": [
    "# most number of appearances in the top 10 list\n",
    "b = data[['title', 'holds']]\n",
    "b = b.groupby('title').size().sort_values(ascending=False).head(15)\n",
    "\n",
    "b"
   ]
  },
  {
   "cell_type": "code",
   "execution_count": null,
   "metadata": {},
   "outputs": [],
   "source": [
    "topHold = a.index.tolist()\n",
    "topAppear = b.index.tolist()\n",
    "hold_in_appear = sum([1 for x in topHold if x in topAppear])\n",
    "\n",
    "print('{} of 15 in the most holded books list appears among the top 15 on weeks being featured in the top 10.'.format(hold_in_appear))"
   ]
  },
  {
   "cell_type": "code",
   "execution_count": null,
   "metadata": {},
   "outputs": [],
   "source": [
    "c = data[['title', 'holds']]\n",
    "c = c.groupby('title').agg({'holds' : 'sum', 'title' : 'size'}).sort_values('holds', ascending=False)\n",
    "c.columns=['number of holds', 'number of appearances']\n",
    "\n",
    "#ploting to see the difference betweeen number of holds vs number of weeks in top 10\n",
    "c.iloc[:15].plot(kind='bar', secondary_y='number of appearances', ylim=1300, figsize=[16,9])\n",
    "plt.title('Total number of holds vs. Total number of appearances in the top 10 list of all branches')\n",
    "plt.savefig('hold_appear.png', bbox_inches = \"tight\")"
   ]
  },
  {
   "cell_type": "markdown",
   "metadata": {},
   "source": [
    ">Following some logic, we would expect that the most number of holdings would come from the most featured books (concerning the most number of appearances in the top 10's). But, in the graph above we can see some cases that follow this logic (candidates for perennial sucesses), but some interesting ones that don't(candidates for spike trends).\n",
    "\n",
    "**Candidates for external spike trends**: The subtle art of not[..], Into the water, 12 rules for life, Into the water\n",
    "\n",
    "**Candidates for perennial sucesses**: The girl on the train, The life-changing magic of tidying up, Cambrideg IELTS\n",
    "\n"
   ]
  },
  {
   "cell_type": "markdown",
   "metadata": {},
   "source": [
    "### Let's make a further investigation:"
   ]
  },
  {
   "cell_type": "markdown",
   "metadata": {},
   "source": [
    "##### Candidates for perennial sucesses:"
   ]
  },
  {
   "cell_type": "code",
   "execution_count": null,
   "metadata": {},
   "outputs": [],
   "source": [
    "# Preparing the base of the graphs\n",
    "holdsOnTime = data[['title', 'holds', 'date']]\n",
    "holdsOnTime = holdsOnTime.set_index('title')\n",
    "holdsOnTime.loc[:,'date'] = pd.to_datetime(holdsOnTime['date'])\n",
    "\n",
    "holdsOnTime.loc[:,'hold_year'] = holdsOnTime.date.dt.year\n",
    "\n",
    "ht_group = holdsOnTime.groupby(['title', 'hold_year']).sum().sort_values(['title', 'hold_year'])\n",
    "\n",
    "perennials = ['The girl on the train',\n",
    "             'The life-changing magic of tidying up : the Japanese art of decluttering and organizing',\n",
    "              'Cambridge IELTS ... : examination papers from the University of Cambridge Local Examinations Syndicate'\n",
    "             ]"
   ]
  },
  {
   "cell_type": "code",
   "execution_count": null,
   "metadata": {},
   "outputs": [],
   "source": [
    "ht_group.loc[perennials].unstack(level=0).plot(kind='bar')\n",
    "plt.title('Number of holds per title per year')\n",
    "#plt.savefig('moment_trend2.png', bbox_inches = \"tight\")"
   ]
  },
  {
   "cell_type": "markdown",
   "metadata": {},
   "source": [
    "#### Candidates for external spike trends"
   ]
  },
  {
   "cell_type": "code",
   "execution_count": null,
   "metadata": {},
   "outputs": [],
   "source": [
    "external = ['12 rules for life : an antidote to chaos', \n",
    "            'The subtle art of not giving a fuck : a counterintuitive approach to living a good life',\n",
    "            'Into the water'\n",
    "           ]\n",
    "\n",
    "ht_group.loc[external].unstack(level=0).sort_index().plot(kind='bar')\n",
    "plt.title('Number of holds per title per year')\n",
    "plt.savefig('moment_trend.png', bbox_inches = \"tight\")"
   ]
  },
  {
   "cell_type": "markdown",
   "metadata": {},
   "source": [
    "> So, for the **perennial sucesses** we could say that only IELTS could hold the title, once it kept the demand through all the years. Which was not the case for the other ones which we could say a very ocassional demand that suddenly stops\n",
    "---\n",
    "> For the **spike trends** we could see that is in part true, mainly because of 12 rules for life title that had this high demand on the year it was published(2018) and just vanished after that in the next year.\n",
    "\n",
    "\n",
    "But there is one thng missing here: **what about the impact of individual branches? Is this popularity affected by being featured on few specific branches (with elevated holding numbers?)**\n",
    "\n",
    "Let's see:"
   ]
  },
  {
   "cell_type": "markdown",
   "metadata": {},
   "source": [
    "### 'Are the popular books popular in all branches?'"
   ]
  },
  {
   "cell_type": "code",
   "execution_count": null,
   "metadata": {},
   "outputs": [],
   "source": [
    "# how are the top 15 in holdings perfoming when considering the branches separatedly?\n",
    "\n",
    "d = data[['title', 'holds', 'branch_name']]\n",
    "\n",
    "d_group = d.groupby(['branch_name','title']).agg({'holds':'sum'})\n",
    "d_group = d_group.sort_values(['branch_name', 'holds'], ascending=False)\n",
    "\n",
    "# Making the ranks by title and position in the branch tier list\n",
    "branches = list({branch[0] for branch in d_group.index })\n",
    "\n",
    "topByTitle = {} # { title : [positions got from individual branches ranks] }\n",
    "for branch in branches:\n",
    "    positions = []\n",
    "    count = 1\n",
    "    for index, row in d_group.loc[branch].iterrows():\n",
    "        if count <= 15:\n",
    "            try:\n",
    "                topByTitle[index].append(count)\n",
    "                count += 1\n",
    "            except KeyError :\n",
    "                topByTitle[index] = []\n",
    "                topByTitle[index].append(count)\n",
    "                count += 1\n",
    "\n",
    "#{ title : number of appearances in ranks from different branches } \n",
    "topByTitle_count = { key:[len(lst)] for key, lst in topByTitle.items() if key in topHold } \n",
    "for key, value in topByTitle_count.items():\n",
    "    topByTitle_count[key].append(a.loc[key,].holds)\n",
    "topByTitle_count = {k:v for k,v in sorted(topByTitle_count.items(), key=lambda item: item[1][1], reverse=True)}\n",
    "appearances = [ topByTitle_count[title][0] for title in topHold]\n",
    "\n",
    "# Creating IDEAL World distribution with constant decay after the 1st place\n",
    "decay = 1.3142 # manually found\n",
    "\n",
    "ideal_appearances = []\n",
    "ideal_appearances.append(max(appearances))\n",
    "\n",
    "for x in range(len(appearances)-1):\n",
    "    ideal_appearances.append(ideal_appearances[x]-decay)\n",
    "    \n",
    "# Geting concentration index, concentration = what is the % of the branch with more \n",
    "# holds on the title comparing the total\n",
    "\n",
    "e = data[['title', 'holds', 'branch_name']]\n",
    "\n",
    "e_group = e.groupby(['title','branch_name']).agg({'holds':'sum'})\n",
    "e_group = e_group.sort_values(['title','holds'],ascending=False)\n",
    "\n",
    "concentration = []\n",
    "for title in topByTitle_count.keys():\n",
    "    calculate = True\n",
    "    for index, row in e_group.loc[title].iterrows():\n",
    "        if calculate:\n",
    "            concentration.append((row['holds']/a.loc[title]['holds']))\n",
    "            calculate = False\n",
    "\n",
    "print('Mean Concentration rate in the top 15: {}'.format(sum(concentration)/len(concentration)))\n",
    "\n",
    "## creating DataFrame to facilitate plot\n",
    "\n",
    "top_dt_dict ={\n",
    "    'title': list(topByTitle_count.keys()),\n",
    "    'REAL number appearances': appearances,\n",
    "    'IDEAL number appearances': ideal_appearances,\n",
    "    'concentration' : concentration\n",
    "}\n",
    "\n",
    "topTitlesDt = pd.DataFrame(top_dt_dict)\n",
    "topTitlesDt = topTitlesDt.set_index('title')\n",
    "topTitlesDt.plot(kind='bar', secondary_y = 'concentration')\n",
    "plt.title('REAL vs IDEAL number of appearacers in the top 15 vs Concentration')\n",
    "plt.savefig('concentration.png', bbox_inches = \"tight\")"
   ]
  },
  {
   "cell_type": "code",
   "execution_count": null,
   "metadata": {},
   "outputs": [],
   "source": [
    "Concentration_map = {}\n",
    "e_group2 = e_group.reset_index('branch_name')\n",
    "for title in topByTitle_count.keys():\n",
    "    calculate = True\n",
    "    Concentration_map[title] = 0\n",
    "    for index, row in e_group2.loc[title].iterrows():\n",
    "        if calculate:\n",
    "            Concentration_map[title] = row['branch_name']\n",
    "            calculate = False\n",
    "Concentration_map"
   ]
  },
  {
   "cell_type": "markdown",
   "metadata": {},
   "source": [
    "**Concentration** = The % which the branch with greater holding numbers for that title, represents in the total number"
   ]
  },
  {
   "cell_type": "markdown",
   "metadata": {},
   "source": [
    ">  First: in the top 15 of all time, concetration is relative high, 19% - against the natural mean that would be 4.5% (1/22)\n",
    "---\n",
    "> Second: the top 2 books showed tht they are a spread phenomenon, showing their appreciation the many different branches. \n",
    "---\n",
    "> Third: Our candidate for perennial sucess is fed by a particular branch (Millwoods Branch) - 40% concentration\n",
    "---\n",
    "> Forth: The tail of our top 15 seems to rely more in concentration to be featured in the rank - mostly carried by Whitemud branch\n"
   ]
  },
  {
   "cell_type": "markdown",
   "metadata": {},
   "source": [
    "### Exploring Publication Dates"
   ]
  },
  {
   "cell_type": "code",
   "execution_count": null,
   "metadata": {},
   "outputs": [],
   "source": [
    "#checking for patterns in books holded in the same yer they were published\n",
    "\n",
    "pubd = data[['title', 'pubdate', 'date', 'holds']]\n",
    "pubd.loc[:,'date'] = pd.to_datetime(pubd['date'])\n",
    "pubd.loc[:,'pubdate'] = pd.to_datetime(pubd['pubdate'])\n",
    "pubd.loc[:,'hold_year'] = pubd.date.dt.year\n",
    "pubd.loc[:,'pub_year'] = pubd.pubdate.dt.year\n",
    "\n",
    "pubd.loc[:,'hold_in_pubyear'] = pubd.hold_year == pubd.pub_year\n",
    "\n",
    "pubd_group_general = pubd.groupby(['hold_year', 'hold_in_pubyear']).agg({'holds':'sum'})\n",
    "pubd_group_general = pubd_group_general.reset_index()\n",
    "\n",
    "sns.barplot(x='hold_year', y='holds', hue='hold_in_pubyear', data=pubd_group_general)\n",
    "plt.title('Number of holds for books published in the same year - per year')\n",
    "plt.savefig('pubyear.png', bbox_inches = \"tight\")"
   ]
  },
  {
   "cell_type": "code",
   "execution_count": null,
   "metadata": {},
   "outputs": [],
   "source": [
    "# lets check the same pattern but for the top 15 books\n",
    "top15_titles = list(topByTitle_count.keys())\n",
    "\n",
    "pubd_group_top15 = pubd.groupby(['title', 'hold_in_pubyear']).agg({'holds':'sum'}).reset_index()\n",
    "pubd_group_top15 = pubd_group_top15.set_index('title')\n",
    "pubd_group_top15 = pubd_group_top15.loc[top15_titles,:].sort_values('holds', ascending=False).reset_index()\n",
    "\n",
    "sns.barplot(x='title', y='holds', hue='hold_in_pubyear', data=pubd_group_top15)\n",
    "plt.xticks(rotation=90)\n",
    "plt.title('Holds in the same and different year of publishing - top 15')\n",
    "plt.savefig('pubyear_title.png', bbox_inches = \"tight\")"
   ]
  },
  {
   "cell_type": "markdown",
   "metadata": {},
   "source": [
    "As we can see above, the "
   ]
  },
  {
   "cell_type": "code",
   "execution_count": null,
   "metadata": {},
   "outputs": [],
   "source": []
  },
  {
   "cell_type": "markdown",
   "metadata": {},
   "source": [
    "### Exploring Genres"
   ]
  },
  {
   "cell_type": "code",
   "execution_count": null,
   "metadata": {},
   "outputs": [],
   "source": [
    "genr = data[['genre', 'holds']]\n",
    "\n",
    "genr.groupby('genre').sum().sort_values('holds', ascending=False).iloc[:15]#.plot(kind='bar', logy=True)"
   ]
  },
  {
   "cell_type": "code",
   "execution_count": null,
   "metadata": {},
   "outputs": [],
   "source": [
    "genr.groupby('genre').sum().sort_values('holds', ascending=False).iloc[:15].plot(kind='bar', logy=True)"
   ]
  },
  {
   "cell_type": "markdown",
   "metadata": {},
   "source": [
    "> So, all time favorite is Fiction, by far (double), followed by biographies and juvenile fiction"
   ]
  },
  {
   "cell_type": "code",
   "execution_count": null,
   "metadata": {},
   "outputs": [],
   "source": [
    "# seeing genre evolution overtime\n",
    "genrt = data[['genre', 'date', 'holds']]\n",
    "genrt = genrt.set_index('genre')\n",
    "genrt.loc[:,'date'] = pd.to_datetime(genrt['date'])\n",
    "genrt.loc[:,'hold_year'] = genrt.date.dt.year\n",
    "\n",
    "genrt_group = genrt.groupby(['genre','hold_year']).sum().sort_values(['holds','hold_year'], ascending=False)\n",
    "genrt_group.iloc[:20,].unstack(level=0).fillna(0).plot()\n",
    "plt.title('Genres All time hold number evolution')"
   ]
  },
  {
   "cell_type": "code",
   "execution_count": null,
   "metadata": {},
   "outputs": [],
   "source": [
    "genrt_group.iloc[:20,].unstack(level=0).iloc[:,1:].fillna(0).plot()\n",
    "plt.title('Genres All time hold number evolution - EXCLUDING FICTION')"
   ]
  },
  {
   "cell_type": "markdown",
   "metadata": {},
   "source": [
    "> Again, fiction domination and showing a lot o growth, followed by juvenile fiction and biographies, with a goo shout out to self-help and cooking - showing some interesting growth)"
   ]
  },
  {
   "cell_type": "markdown",
   "metadata": {},
   "source": [
    "##### But how is evolution in genres which year? is there any change?"
   ]
  },
  {
   "cell_type": "code",
   "execution_count": null,
   "metadata": {},
   "outputs": [],
   "source": [
    "genrt_group2 = genrt_group.reset_index().iloc[:20,]\n",
    "\n",
    "plt.figure(figsize=(12, 6))\n",
    "sns.catplot(x='hold_year', y='holds', hue='genre', data=genrt_group2, kind='bar')\n",
    "plt.title('Evolution on the 10 most picked genres')\n",
    "plt.savefig('genre_evolution.png', bbox_inches = \"tight\")"
   ]
  },
  {
   "cell_type": "markdown",
   "metadata": {},
   "source": [
    "> Here the most notable and interesting fact is: **from 2015, we are seeing a good progress in the variety of the books featured in the top 10's!**"
   ]
  },
  {
   "cell_type": "markdown",
   "metadata": {},
   "source": [
    "What made this more than exponencial growth (starting in 2017) in fiction category?"
   ]
  },
  {
   "cell_type": "code",
   "execution_count": null,
   "metadata": {},
   "outputs": [],
   "source": [
    "# checking for concentration in the all time top 10 most holded books\n",
    "\n",
    "fictionDt = data[['genre', 'date', 'holds', 'title']]\n",
    "fictionDt = fictionDt[fictionDt.genre == 'Fiction']\n",
    "fictionDt.loc[:,'date'] = pd.to_datetime(fictionDt['date'])\n",
    "fictionDt.loc[:,'hold_year'] = fictionDt.date.dt.year\n",
    "\n",
    "#getting 10 most holded titles\n",
    "fiction10 = data[data.genre == 'Fiction']\n",
    "fiction10 = fiction10[['holds', 'title']]\n",
    "fiction10 = fiction10.groupby('title').sum().sort_values('holds', ascending=False).reset_index()\n",
    "top10 = fiction10.iloc[:10,0].tolist()\n",
    "\n",
    "fiction_g = fictionDt.groupby(['title', 'hold_year']).sum().sort_values('holds')\n",
    "fiction_ev = fiction_g.loc[top10,].reset_index()\n",
    "\n",
    "sns.catplot(x='hold_year', y='holds', hue='title', data=fiction_ev, kind='bar')\n",
    "plt.title('Evolution on the 10 most picked fiction books')"
   ]
  },
  {
   "cell_type": "markdown",
   "metadata": {},
   "source": [
    "Well, from a first look it seems that titles like 'Into the water' and company are responsible for all that growth right? No. Not too fast.\n",
    "\n",
    "Let's check the participation of the top 10 fiction books in holding and see their participation during the years:"
   ]
  },
  {
   "cell_type": "code",
   "execution_count": null,
   "metadata": {},
   "outputs": [],
   "source": [
    "# checking the participation of this top 10 books on the overall value of holds for fiction by year\n",
    "\n",
    "# geting the sum of holds of the top 10 by year\n",
    "top10_totals = fiction_ev.groupby('hold_year').sum().reset_index()#holds.tolist()\n",
    "top10_dict = {row['hold_year']:row['holds'] for index,row in top10_totals.iterrows()}\n",
    "\n",
    "#geting the total number of holds of fiction by year and final dataframe\n",
    "comparisonDt = genrt_group2[genrt_group2.genre=='Fiction'].groupby('hold_year').sum().reset_index()\n",
    "comparisonDt['top10 holds'] = comparisonDt['hold_year'].apply(lambda x: top10_dict[x])\n",
    "comparisonDt['top10 participation in %'] = comparisonDt['top10 holds']/comparisonDt['holds']\n",
    "\n",
    "sns.barplot(x='hold_year', y='top10 participation in %', data=comparisonDt)\n",
    "plt.title('Participation in % of the 10 all time fiction books on holdings')\n"
   ]
  },
  {
   "cell_type": "markdown",
   "metadata": {},
   "source": [
    "> Well, it seems that we have an interesting picture above. Even though we are seeing great growth in fiction, this comes, year after year, as a spread movement. In summary: the interest in fiction is growing and it is get more and more diversified each year.\n",
    "---\n",
    "\n",
    "\n",
    "Ok, what if we took off fiction form the picture?"
   ]
  },
  {
   "cell_type": "code",
   "execution_count": null,
   "metadata": {},
   "outputs": [],
   "source": [
    "genrt_group2 = genrt_group.reset_index().iloc[:21,:]\n",
    "genrt_group2 = genrt_group2[genrt_group2.genre != 'Fiction']\n",
    "\n",
    "\n",
    "plt.figure(figsize=(12, 6))\n",
    "sns.catplot(x='hold_year', y='holds', hue='genre', data=genrt_group2, kind='bar')\n",
    "plt.title('Evolution on the 10 most picked genres - WITHOUT FICTION')"
   ]
  },
  {
   "cell_type": "markdown",
   "metadata": {},
   "source": [
    "> Still : diversification is the word here."
   ]
  },
  {
   "cell_type": "markdown",
   "metadata": {},
   "source": [
    "##### Exploring genre patterns geographically"
   ]
  },
  {
   "cell_type": "code",
   "execution_count": null,
   "metadata": {},
   "outputs": [],
   "source": [
    "#Creating the data frame by branch and genre to start exploring\n",
    "g = data[['branch_id', 'date', 'genre', 'holds']]\n",
    "g.loc[:,'date'] = pd.to_datetime(g['date'])\n",
    "g.loc[:,'hold_year'] = g.date.dt.year\n",
    "\n",
    "# merging\n",
    "g_group = g.groupby(['hold_year', 'branch_id', 'genre']).sum().sort_values(['hold_year', 'branch_id', 'holds'], ascending=False)\n",
    "g_group = g_group.reset_index()\n",
    "g_merged = g_group.merge(brcInfo, right_on='Branch ID', left_on='branch_id').set_index('hold_year')\n",
    "g_merged.head()"
   ]
  },
  {
   "cell_type": "code",
   "execution_count": null,
   "metadata": {},
   "outputs": [],
   "source": [
    "#geting the most popular genre per branch, per year considering number of holds\n",
    "\n",
    "# building the dict for the job!\n",
    "branch_ids = g_merged.branch_id.unique().tolist()\n",
    "years = [2015, 2016, 2017, 2018]\n",
    "\n",
    "master_dict = {}\n",
    "\n",
    "for year in years:\n",
    "    master_content = {}\n",
    "    base = g_merged.loc[year, ['genre','holds', 'branch_id', 'Latitude', 'Longitude', 'Branch']]\n",
    "    for branch in branch_ids:\n",
    "        inside_content = {}\n",
    "        try:\n",
    "            inside_content['Branch'] = base[base.branch_id == branch].iloc[0,]['Branch']\n",
    "            inside_content['genre'] = base[base.branch_id == branch].iloc[0,]['genre']\n",
    "            inside_content['holds'] = base[base.branch_id == branch].iloc[0,]['holds']\n",
    "            inside_content['Latitude'] = base[base.branch_id == branch].iloc[0,]['Latitude']\n",
    "            inside_content['Longitude'] = base[base.branch_id == branch].iloc[0,]['Longitude']\n",
    "            master_content[branch] = inside_content\n",
    "        except:\n",
    "            continue\n",
    "        \n",
    "    master_dict[year] = master_content"
   ]
  },
  {
   "cell_type": "code",
   "execution_count": null,
   "metadata": {},
   "outputs": [],
   "source": [
    "# normalization function - for the marker size \n",
    "\n",
    "def normalize(number, upper=20, lower=1):\n",
    "    normalized = ((number -lower)/(upper - lower)) * 10 \n",
    "    return int(normalized+9) # +6 to make small numbers more visible in the map\n",
    "\n",
    "# colors for markers\n",
    "marker_c = ['red', 'blue', 'green', 'purple', 'orange', 'darkred',\n",
    "            'lightred', 'beige', 'darkblue', 'darkgreen', 'cadetblue', \n",
    "            'darkpurple', 'pink', 'lightblue', 'lightgreen', \n",
    "            'gray', 'black', 'lightgray']\n"
   ]
  },
  {
   "cell_type": "code",
   "execution_count": null,
   "metadata": {
    "scrolled": false
   },
   "outputs": [],
   "source": [
    "#base map\n",
    "m = folium.Map(location=[53.531611, -113.513975], zoom_start=11.4)\n",
    "\n",
    "#Generating the color of the markers\n",
    "np.random.seed(5)\n",
    "top_genre = set()\n",
    "for key, value in master_dict.items():\n",
    "    for key2, value2 in value.items():\n",
    "        top_genre.add(value2['genre'])\n",
    "    \n",
    "genre_color = {genre:marker_c[np.random.randint(0,len(marker_c)-1)] for genre in top_genre}\n",
    "\n",
    "@interact(year = widgets.IntSlider(min=2015, max=2018, step=1, value=2015))\n",
    "def generate_geo_genre(year=[2015, 2016, 2017, 2018]):\n",
    "    '''Generate Geo Map with round markers with the size of number of holds per genre in each branch\n",
    "       Represents all time sucesses in number of holds\n",
    "       \n",
    "       year = integer, year you would like to analyze\n",
    "        '''\n",
    "    \n",
    "    m = folium.Map(location=[53.531611, -113.513975], zoom_start=11.4)\n",
    "    \n",
    "    #Generating the color of the markers\n",
    "    np.random.seed(1)\n",
    "    top_genres = {values['genre'] for key,values in master_dict[year].items()}\n",
    "    genre_color_checking = {genre:genre_color[genre] for genre in top_genres}\n",
    "    \n",
    "    #seting up parameters for the marker size\n",
    "    hold_list = [value['holds'] for key,value in master_dict[year].items() ]\n",
    "    maxH, minH = max(hold_list), min(hold_list)\n",
    "\n",
    "    for branch, values in master_dict[year].items():\n",
    "        folium.CircleMarker([values['Latitude'], values['Longitude']],\n",
    "                                radius = normalize(values['holds'], maxH, minH),\n",
    "                                popup = [values['genre']],\n",
    "                                color = 'gray',\n",
    "                                fill=True,\n",
    "                                fill_opacity=0.9,\n",
    "                                fill_color=genre_color[values['genre']],\n",
    "                                tooltip= values['Branch'],\n",
    "                               ).add_to(m)\n",
    "        \n",
    "    #generate legends snipets\n",
    "    snipets = []\n",
    "    for key, value in genre_color_checking.items():\n",
    "        snipets.append(\n",
    "            '&nbsp; {} &nbsp; <i class=\"fa fa-map-marker fa-2x\" style=\"color:{}\"></i>'.format(\n",
    "                                                                                        key, value)\n",
    "        )\n",
    "    legend_entries = '<br>'.join(snipets)\n",
    "        \n",
    "        \n",
    "    year_html = '''\n",
    "        <div style=\"position: fixed; \n",
    "                            top: 10px; right: 10px; width: auto; height: auto; \n",
    "                            z-index:9999; font-size:14px;\n",
    "                            color: black; font-size: 45px;\n",
    "                            \">&nbsp; <b> {}  </b> <br>\n",
    "                              </i>\n",
    "                </div>'''.format(year) \n",
    "    \n",
    "    legend_html =   '''\n",
    "                <div style=\"position: fixed; \n",
    "                            bottom: 50px; left: 50px; width: auto; height: auto; \n",
    "                            border:2px solid grey; z-index:9999; font-size:14px;\n",
    "                            background-color:white; border-radius:10px; padding: 7px 9px 7px;\n",
    "                            \">&nbsp; <b> Map Legend  </b> <br>\n",
    "                            {}\n",
    "                              </i>\n",
    "                </div>\n",
    "                '''.format(legend_entries) \n",
    "\n",
    "    m.get_root().html.add_child(folium.Element(legend_html))\n",
    "    m.get_root().html.add_child(folium.Element(year_html))\n",
    "    print('Predominant Genre in number of all time holdings by branch')\n",
    "    \n",
    "    return m"
   ]
  },
  {
   "cell_type": "markdown",
   "metadata": {},
   "source": [
    "> Millwoods resisted the Fiction domination, but it was just a matter of time.. "
   ]
  },
  {
   "cell_type": "markdown",
   "metadata": {},
   "source": [
    "Lets try **taking off Fiction** to see other predominant Genres "
   ]
  },
  {
   "cell_type": "code",
   "execution_count": null,
   "metadata": {},
   "outputs": [],
   "source": [
    "#geting the most popular genre per branch, per year considering number of holds\n",
    "\n",
    "# building the dict for the job!\n",
    "branch_ids = g_merged.branch_id.unique().tolist()\n",
    "years = [2015, 2016, 2017, 2018]\n",
    "\n",
    "g_merged_wf = g_merged[g_merged.genre != 'Fiction'] # Taking off Fiction\n",
    "\n",
    "master_dict2 = {}\n",
    "\n",
    "for year in years:\n",
    "    master_content = {}\n",
    "    base = g_merged_wf.loc[year, ['genre','holds', 'branch_id', 'Latitude', 'Longitude', 'Branch']]\n",
    "    for branch in branch_ids:\n",
    "        inside_content = {}\n",
    "        try:\n",
    "            inside_content['Branch'] = base[base.branch_id == branch].iloc[0,]['Branch']\n",
    "            inside_content['genre'] = base[base.branch_id == branch].iloc[0,]['genre']\n",
    "            inside_content['holds'] = base[base.branch_id == branch].iloc[0,]['holds']\n",
    "            inside_content['Latitude'] = base[base.branch_id == branch].iloc[0,]['Latitude']\n",
    "            inside_content['Longitude'] = base[base.branch_id == branch].iloc[0,]['Longitude']\n",
    "            master_content[branch] = inside_content\n",
    "        except:\n",
    "            continue\n",
    "        \n",
    "    master_dict2[year] = master_content"
   ]
  },
  {
   "cell_type": "code",
   "execution_count": null,
   "metadata": {},
   "outputs": [],
   "source": [
    "#base map\n",
    "m2 = folium.Map(location=[53.531611, -113.513975], zoom_start=11.4)\n",
    "\n",
    "#Generating the color of the markers\n",
    "np.random.seed(15)\n",
    "top_genre2 = set()\n",
    "for key, value in master_dict2.items():\n",
    "    for key2, value2 in value.items():\n",
    "        top_genre2.add(value2['genre'])\n",
    "    \n",
    "genre_color2 = {genre:marker_c[np.random.randint(0,len(marker_c)-1)] for genre in top_genre2}\n",
    "\n",
    "# Running it without fiction\n",
    "@interact(year = widgets.IntSlider(min=2015, max=2018, step=1, value=2015))\n",
    "def generate_geo_genre(year=[2015, 2016, 2017, 2018]):\n",
    "    '''Generate Geo Map with round markers with the size of number of holds per genre in each branch\n",
    "       Represents all time sucesses in number of holds\n",
    "       \n",
    "       year = integer, year you would like to analyze\n",
    "        '''\n",
    "    \n",
    "    m2 = folium.Map(location=[53.531611, -113.513975], zoom_start=11.4)\n",
    "    \n",
    "    #checking which markers should appear\n",
    "    top_genres = {values['genre'] for key,values in master_dict2[year].items()}\n",
    "    genre_color_check = {genre:genre_color2[genre] for genre in top_genres}\n",
    "    \n",
    "    \n",
    "    #seting up parameters for the marker size\n",
    "    hold_list = [value['holds'] for key,value in master_dict[year].items() ]\n",
    "    maxH, minH = max(hold_list), min(hold_list)\n",
    "\n",
    "    for branch, values in master_dict2[year].items():\n",
    "        folium.CircleMarker([values['Latitude'], values['Longitude']],\n",
    "                                radius = normalize(values['holds'], maxH, minH),\n",
    "                                popup = [values['genre']],\n",
    "                                color = 'grey',\n",
    "                                fill=True,\n",
    "                                fill_opacity=0.9,\n",
    "                                fill_color=genre_color2[values['genre']],\n",
    "                                tooltip= values['Branch'],\n",
    "                               ).add_to(m2)\n",
    "        \n",
    "    #generate legends snipets\n",
    "    snipets = []\n",
    "    for key, value in genre_color_check.items():\n",
    "        snipets.append(\n",
    "            '&nbsp; {} &nbsp; <i class=\"fa fa-map-marker fa-2x\" style=\"color:{}\"></i>'.format(\n",
    "                                                                                        key, value)\n",
    "        )\n",
    "    legend_entries = '<br>'.join(snipets)\n",
    "        \n",
    "        \n",
    "    year_html = '''\n",
    "        <div style=\"position: fixed; \n",
    "                            top: 10px; right: 10px; width: auto; height: auto; \n",
    "                            z-index:9999; font-size:14px;\n",
    "                            color: black; font-size: 45px;\n",
    "                            \">&nbsp; <b> {}  </b> <br>\n",
    "                              </i>\n",
    "                </div>'''.format(year) \n",
    "    \n",
    "    legend_html =   '''\n",
    "                <div style=\"position: fixed; \n",
    "                            bottom: 50px; left: 50px; width: auto; height: auto; \n",
    "                            border:2px solid grey; z-index:9999; font-size:14px;\n",
    "                            background-color:white; border-radius:10px; padding: 7px 9px 7px;\n",
    "                            \">&nbsp; <b>Map Legend</b> <br>\n",
    "                            {}\n",
    "                              </i>\n",
    "                </div>\n",
    "                '''.format(legend_entries) \n",
    "\n",
    "    m2.get_root().html.add_child(folium.Element(legend_html))\n",
    "    m2.get_root().html.add_child(folium.Element(year_html))\n",
    "    print('Predominant Genre in number of all time holdings by branch - WITHOUT FICTION')\n",
    "    \n",
    "    return m2"
   ]
  },
  {
   "cell_type": "markdown",
   "metadata": {},
   "source": [
    "### Exploring HeatMaps"
   ]
  },
  {
   "cell_type": "markdown",
   "metadata": {},
   "source": [
    "##### Variety HeatMap - Areas with more diversity of genres in the top 10s"
   ]
  },
  {
   "cell_type": "code",
   "execution_count": null,
   "metadata": {},
   "outputs": [],
   "source": [
    "#Creating the data frame by branch and genre to start exploring\n",
    "h = data[['branch_id', 'date', 'genre']]\n",
    "h.loc[:,'date'] = pd.to_datetime(h['date'])\n",
    "h.loc[:,'hold_year'] = h.date.dt.year\n",
    "\n",
    "h_group = h.groupby(['hold_year', 'branch_id', 'genre']).agg(genre_count=('genre', 'size'))\n",
    "h_group = h_group.sort_values(['hold_year', 'branch_id', 'genre_count'], ascending=False).reset_index()\n",
    "\n",
    "#merging to get coordinates\n",
    "h_merged = h_group.merge(brcInfo, right_on='Branch ID', left_on='branch_id')#.set_index('hold_year')\n",
    "h_merged.head()"
   ]
  },
  {
   "cell_type": "code",
   "execution_count": null,
   "metadata": {},
   "outputs": [],
   "source": [
    "# Variety of rankings heatmap\n",
    "\n",
    "# building the dataframe\n",
    "i = h_merged\n",
    "i_group = i.groupby(['hold_year', 'branch_id', 'Latitude', 'Longitude']).agg(number_of_genres=('genre','size'))\n",
    "i_group = i_group.reset_index()\n",
    "\n",
    "@interact(year = widgets.IntSlider(min=2015, max=2018, step=1, value=2015))\n",
    "def diversity_heatmap(year=[2015, 2016, 2017, 2018]):\n",
    "\n",
    "    m3 = folium.Map(location=[53.531611, -113.513975], zoom_start=9.4)\n",
    "    \n",
    "    heat_dt = i_group[i_group.hold_year == year]\n",
    "    heat_dt['weight'] = heat_dt['number_of_genres'] / heat_dt['number_of_genres'].sum()\n",
    "    \n",
    "    year_html = '''\n",
    "        <div style=\"position: fixed; \n",
    "                            top: 10px; right: 10px; width: auto; height: auto; \n",
    "                            z-index:9999; font-size:14px;\n",
    "                            color: black; font-size: 45px;\n",
    "                            \">&nbsp; <b> {}  </b> <br>\n",
    "                              </i>\n",
    "                </div>'''.format(year) \n",
    "    \n",
    "    params = heat_dt[['Latitude', 'Longitude', 'weight']].values\n",
    "    m3.get_root().html.add_child(folium.Element(year_html))\n",
    "    m3.add_children(plugins.HeatMap(params, radius=15))\n",
    "    \n",
    "    print( 'Regions with more variety of genres in the top 10s')\n",
    "    return m3"
   ]
  },
  {
   "cell_type": "markdown",
   "metadata": {},
   "source": [
    "##### Genre Intensity by area during years - number of apperances in the top 10"
   ]
  },
  {
   "cell_type": "code",
   "execution_count": null,
   "metadata": {},
   "outputs": [],
   "source": [
    "# Variety of rankings heatmap\n",
    "\n",
    "# building the dataframe\n",
    "j = h_merged\n",
    "j_group = j.groupby(['hold_year', 'genre', 'Latitude', 'Longitude']).agg(genre_occur=('genre_count','sum'))\n",
    "j_group = j_group.reset_index()\n",
    "u_genres = j_group[j_group.genre_occur >=10].genre.sort_values().unique().tolist() #exclude irrelevant\n",
    "\n",
    "@interact(genre = u_genres, year = widgets.IntSlider(min=2015, max=2018, step=1, value=2015))\n",
    "def genre_heatmap(year, genre):\n",
    "\n",
    "    m4 = folium.Map(location=[53.531611, -113.513975], zoom_start=9.4)\n",
    "    \n",
    "    heat_dt = j_group[j_group.hold_year == year]\n",
    "    heat_dt = heat_dt[heat_dt.genre == genre]\n",
    "    heat_dt['weight'] = heat_dt['genre_occur'] / heat_dt['genre_occur'].sum()\n",
    "    \n",
    "    year_html = '''\n",
    "        <div style=\"position: fixed; \n",
    "                            top: 10px; right: 10px; width: auto; height: auto; \n",
    "                            z-index:9999; font-size:14px;\n",
    "                            color: black; font-size: 45px;\n",
    "                            \">&nbsp; <b> {}  </b> <br>\n",
    "                              </i>\n",
    "                </div>'''.format(year) \n",
    "    \n",
    "    m4.get_root().html.add_child(folium.Element(year_html))\n",
    "    \n",
    "    params = heat_dt[['Latitude', 'Longitude', 'weight']].values\n",
    "    m4.add_child(plugins.HeatMap(params, radius=15))\n",
    "    \n",
    "    return m4"
   ]
  },
  {
   "cell_type": "code",
   "execution_count": null,
   "metadata": {},
   "outputs": [],
   "source": []
  },
  {
   "cell_type": "code",
   "execution_count": null,
   "metadata": {},
   "outputs": [],
   "source": []
  }
 ],
 "metadata": {
  "kernelspec": {
   "display_name": "Python 3",
   "language": "python",
   "name": "python3"
  },
  "language_info": {
   "codemirror_mode": {
    "name": "ipython",
    "version": 3
   },
   "file_extension": ".py",
   "mimetype": "text/x-python",
   "name": "python",
   "nbconvert_exporter": "python",
   "pygments_lexer": "ipython3",
   "version": "3.8.1"
  }
 },
 "nbformat": 4,
 "nbformat_minor": 4
}
