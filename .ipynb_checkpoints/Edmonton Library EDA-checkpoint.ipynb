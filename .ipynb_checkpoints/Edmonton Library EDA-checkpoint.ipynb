{
 "cells": [
  {
   "cell_type": "code",
   "execution_count": 5,
   "metadata": {},
   "outputs": [],
   "source": [
    "%matplotlib inline\n",
    "import numpy as np\n",
    "import pandas as pd\n",
    "import matplotlib.pyplot as plt\n",
    "import seaborn as sns\n",
    "plt.rcParams['figure.figsize'] = [12,8]\n",
    "\n",
    "from ipywidgets import interact, interact_manual\n",
    "import ipywidgets as widgets\n",
    "import folium\n",
    "from folium import plugins"
   ]
  },
  {
   "cell_type": "code",
   "execution_count": 15,
   "metadata": {},
   "outputs": [
    {
     "data": {
      "text/html": [
       "<style>body {\n",
       "    margin: 0;\n",
       "    font-family: Helvetica;\n",
       "}\n",
       "\n",
       "table.dataframe {\n",
       "    border-collapse: collapse;\n",
       "    border: none;\n",
       "}\n",
       "table.dataframe th {\n",
       "    border: 1px solid white;\n",
       "    background-color: gray;\n",
       "    color: white;\n",
       "    font-style: oblique;\n",
       "    text-align: center !important;\n",
       "\n",
       "}\n",
       "\n",
       "table.dataframe td {\n",
       "    text-align: center;\n",
       "}\n",
       "\n",
       "table.dataframe tr {\n",
       "    text-align: center;\n",
       "}\n",
       "</style>"
      ],
      "text/plain": [
       "<IPython.core.display.HTML object>"
      ]
     },
     "execution_count": 15,
     "metadata": {},
     "output_type": "execute_result"
    }
   ],
   "source": [
    "from IPython.core.display import HTML\n",
    "css = open('Style/style-table.css').read() + open('Style/style-notebook.css').read()\n",
    "HTML('<style>{}</style>'.format(css))"
   ]
  },
  {
   "cell_type": "markdown",
   "metadata": {},
   "source": [
    "# Data preparation"
   ]
  },
  {
   "cell_type": "markdown",
   "metadata": {},
   "source": [
    "### ETL"
   ]
  },
  {
   "cell_type": "markdown",
   "metadata": {},
   "source": [
    "> The dataset used here was the original dataset with genre information imported using Google Books API. If you would like to see how it was done, please check the repository on [Github](https://github.com/FernandoMeiraFilho/Edmonton-Library-EDA)"
   ]
  },
  {
   "cell_type": "markdown",
   "metadata": {},
   "source": [
    "Loading the data set and making some cleaning in some features"
   ]
  },
  {
   "cell_type": "code",
   "execution_count": 10,
   "metadata": {
    "scrolled": false
   },
   "outputs": [
    {
     "data": {
      "text/html": [
       "<div>\n",
       "<style scoped>\n",
       "    .dataframe tbody tr th:only-of-type {\n",
       "        vertical-align: middle;\n",
       "    }\n",
       "\n",
       "    .dataframe tbody tr th {\n",
       "        vertical-align: top;\n",
       "    }\n",
       "\n",
       "    .dataframe thead th {\n",
       "        text-align: right;\n",
       "    }\n",
       "</style>\n",
       "<table border=\"1\" class=\"dataframe\">\n",
       "  <thead>\n",
       "    <tr style=\"text-align: right;\">\n",
       "      <th></th>\n",
       "      <th>row_id</th>\n",
       "      <th>branch_id</th>\n",
       "      <th>branch_name</th>\n",
       "      <th>holds</th>\n",
       "      <th>title</th>\n",
       "      <th>author</th>\n",
       "      <th>date</th>\n",
       "      <th>url</th>\n",
       "      <th>genre</th>\n",
       "      <th>branch_name_mod</th>\n",
       "    </tr>\n",
       "  </thead>\n",
       "  <tbody>\n",
       "    <tr>\n",
       "      <th>0</th>\n",
       "      <td>EPLLON20150316The girl on the train / Paula Ha...</td>\n",
       "      <td>EPLLON</td>\n",
       "      <td>Londonderry Branch</td>\n",
       "      <td>36</td>\n",
       "      <td>The girl on the train</td>\n",
       "      <td>Hawkins Paula</td>\n",
       "      <td>2015-03-16</td>\n",
       "      <td>http://epl.bibliocommons.com/search?t=smart&amp;q=...</td>\n",
       "      <td>Drama</td>\n",
       "      <td>Londonderry Branch</td>\n",
       "    </tr>\n",
       "    <tr>\n",
       "      <th>1</th>\n",
       "      <td>EPLLON20150316The maze runner / James Dashner</td>\n",
       "      <td>EPLLON</td>\n",
       "      <td>Londonderry Branch</td>\n",
       "      <td>18</td>\n",
       "      <td>The maze runner</td>\n",
       "      <td>Dashner James</td>\n",
       "      <td>2015-03-16</td>\n",
       "      <td>http://epl.bibliocommons.com/search?t=smart&amp;q=...</td>\n",
       "      <td>Young Adult Fiction</td>\n",
       "      <td>Londonderry Branch</td>\n",
       "    </tr>\n",
       "    <tr>\n",
       "      <th>2</th>\n",
       "      <td>EPLLON20150316Crash &amp; burn : a novel / Lisa Ga...</td>\n",
       "      <td>EPLLON</td>\n",
       "      <td>Londonderry Branch</td>\n",
       "      <td>17</td>\n",
       "      <td>Crash &amp; burn : a novel</td>\n",
       "      <td>Gardner Lisa</td>\n",
       "      <td>2015-03-16</td>\n",
       "      <td>http://epl.bibliocommons.com/search?t=smart&amp;q=...</td>\n",
       "      <td>Young Adult Fiction</td>\n",
       "      <td>Londonderry Branch</td>\n",
       "    </tr>\n",
       "    <tr>\n",
       "      <th>3</th>\n",
       "      <td>EPLLON20150316Gray Mountain / John Grisham</td>\n",
       "      <td>EPLLON</td>\n",
       "      <td>Londonderry Branch</td>\n",
       "      <td>14</td>\n",
       "      <td>Gray Mountain</td>\n",
       "      <td>Grisham John</td>\n",
       "      <td>2015-03-16</td>\n",
       "      <td>http://epl.bibliocommons.com/search?t=smart&amp;q=...</td>\n",
       "      <td>Fiction</td>\n",
       "      <td>Londonderry Branch</td>\n",
       "    </tr>\n",
       "    <tr>\n",
       "      <th>4</th>\n",
       "      <td>EPLLON20150316Cambridge IELTS ... : examinatio...</td>\n",
       "      <td>EPLLON</td>\n",
       "      <td>Londonderry Branch</td>\n",
       "      <td>14</td>\n",
       "      <td>Cambridge IELTS ... : examination papers from ...</td>\n",
       "      <td>University of Cambridge Local Examinations Syn...</td>\n",
       "      <td>2015-03-16</td>\n",
       "      <td>http://epl.bibliocommons.com/search?t=smart&amp;q=...</td>\n",
       "      <td>Foreign Language Study</td>\n",
       "      <td>Londonderry Branch</td>\n",
       "    </tr>\n",
       "  </tbody>\n",
       "</table>\n",
       "</div>"
      ],
      "text/plain": [
       "                                              row_id branch_id  \\\n",
       "0  EPLLON20150316The girl on the train / Paula Ha...    EPLLON   \n",
       "1      EPLLON20150316The maze runner / James Dashner    EPLLON   \n",
       "2  EPLLON20150316Crash & burn : a novel / Lisa Ga...    EPLLON   \n",
       "3         EPLLON20150316Gray Mountain / John Grisham    EPLLON   \n",
       "4  EPLLON20150316Cambridge IELTS ... : examinatio...    EPLLON   \n",
       "\n",
       "          branch_name  holds  \\\n",
       "0  Londonderry Branch     36   \n",
       "1  Londonderry Branch     18   \n",
       "2  Londonderry Branch     17   \n",
       "3  Londonderry Branch     14   \n",
       "4  Londonderry Branch     14   \n",
       "\n",
       "                                               title  \\\n",
       "0                              The girl on the train   \n",
       "1                                    The maze runner   \n",
       "2                             Crash & burn : a novel   \n",
       "3                                      Gray Mountain   \n",
       "4  Cambridge IELTS ... : examination papers from ...   \n",
       "\n",
       "                                              author        date  \\\n",
       "0                                      Hawkins Paula  2015-03-16   \n",
       "1                                      Dashner James  2015-03-16   \n",
       "2                                       Gardner Lisa  2015-03-16   \n",
       "3                                       Grisham John  2015-03-16   \n",
       "4  University of Cambridge Local Examinations Syn...  2015-03-16   \n",
       "\n",
       "                                                 url                   genre  \\\n",
       "0  http://epl.bibliocommons.com/search?t=smart&q=...                   Drama   \n",
       "1  http://epl.bibliocommons.com/search?t=smart&q=...     Young Adult Fiction   \n",
       "2  http://epl.bibliocommons.com/search?t=smart&q=...     Young Adult Fiction   \n",
       "3  http://epl.bibliocommons.com/search?t=smart&q=...                 Fiction   \n",
       "4  http://epl.bibliocommons.com/search?t=smart&q=...  Foreign Language Study   \n",
       "\n",
       "      branch_name_mod  \n",
       "0  Londonderry Branch  \n",
       "1  Londonderry Branch  \n",
       "2  Londonderry Branch  \n",
       "3  Londonderry Branch  \n",
       "4  Londonderry Branch  "
      ]
     },
     "execution_count": 10,
     "metadata": {},
     "output_type": "execute_result"
    }
   ],
   "source": [
    "data = pd.read_csv('ImportingPubDate/finalPubDataset.csv').iloc[:,7:].drop(['pubdate'], axis=1)\n",
    "\n",
    "data = data[data.title.notnull()]\n",
    "data = data[data.branch_name.notnull()]\n",
    "\n",
    "#Taking off the name of the authors from the title\n",
    "data['title'] = data['title'].apply(lambda x: x.split(' /')[0])\n",
    "\n",
    "#Cleaning the branch names\n",
    "pats_dict = {' Branch': '', ' Library': '', ' Lending Machine': '',\n",
    "            'Promenad ' : 'Promenade '}\n",
    "for k, v in pats_dict.items():\n",
    "    data['branch_name_mod'] = data['branch_name'].apply(lambda x: x.replace(k,v))\n",
    "    \n",
    "\n",
    "data['title'] = data['title'].apply(lambda x: x.split(' /')[0])\n",
    "\n",
    "\n",
    "# fixing some identified genre misclassifications\n",
    "data.genre = data.genre.apply(lambda x: 'Fiction' if x=='Bildungsromans' else x) # Paper Town book misclassifications\n",
    "data.genre = data.genre.apply(lambda x: 'Fiction' if x=='FICTION' else x) # ficition duplicate\n",
    "data.genre = data.genre.apply(lambda x: 'Self-Help' if x=='PHILOSOPHY' else x) # 12 rules for life misclassification\n",
    "\n",
    "#Tanking off timestamp from date column - personal preference though..\n",
    "data['date'] = pd.to_datetime(data['date'])\n",
    "data['date'] = data['date'].dt.date\n",
    "\n",
    "data.head()\n"
   ]
  },
  {
   "cell_type": "markdown",
   "metadata": {},
   "source": [
    "### Overall look on data disponibility"
   ]
  },
  {
   "cell_type": "code",
   "execution_count": 27,
   "metadata": {},
   "outputs": [
    {
     "data": {
      "text/plain": [
       "0        http://epl.bibliocommons.com/search?t=smart&q=...\n",
       "10       http://epl.bibliocommons.com/search?t=smart&q=...\n",
       "30       http://epl.bibliocommons.com/search?t=smart&q=...\n",
       "40       http://epl.bibliocommons.com/search?t=smart&q=...\n",
       "49       http://epl.bibliocommons.com/search?t=smart&q=...\n",
       "                               ...                        \n",
       "17344    http://epl.bibliocommons.com/search?t=smart&q=...\n",
       "17348    http://epl.bibliocommons.com/search?t=smart&q=...\n",
       "17381    http://epl.bibliocommons.com/search?t=smart&q=...\n",
       "17447    http://epl.bibliocommons.com/search?t=smart&q=...\n",
       "17453    http://epl.bibliocommons.com/search?t=smart&q=...\n",
       "Name: url, Length: 1255, dtype: object"
      ]
     },
     "execution_count": 27,
     "metadata": {},
     "output_type": "execute_result"
    }
   ],
   "source": [
    "data[data.title=='The girl on the train']['url']"
   ]
  },
  {
   "cell_type": "code",
   "execution_count": 19,
   "metadata": {
    "scrolled": true
   },
   "outputs": [
    {
     "data": {
      "text/html": [
       "<div>\n",
       "<style scoped>\n",
       "    .dataframe tbody tr th:only-of-type {\n",
       "        vertical-align: middle;\n",
       "    }\n",
       "\n",
       "    .dataframe tbody tr th {\n",
       "        vertical-align: top;\n",
       "    }\n",
       "\n",
       "    .dataframe thead th {\n",
       "        text-align: right;\n",
       "    }\n",
       "</style>\n",
       "<table border=\"1\" class=\"dataframe\">\n",
       "  <thead>\n",
       "    <tr style=\"text-align: right;\">\n",
       "      <th></th>\n",
       "      <th>row_id</th>\n",
       "      <th>branch_id</th>\n",
       "      <th>branch_name</th>\n",
       "      <th>holds</th>\n",
       "      <th>title</th>\n",
       "      <th>author</th>\n",
       "      <th>date</th>\n",
       "      <th>url</th>\n",
       "      <th>genre</th>\n",
       "      <th>branch_name_mod</th>\n",
       "    </tr>\n",
       "  </thead>\n",
       "  <tbody>\n",
       "    <tr>\n",
       "      <th>count</th>\n",
       "      <td>32300</td>\n",
       "      <td>32300</td>\n",
       "      <td>32300</td>\n",
       "      <td>32300</td>\n",
       "      <td>32300</td>\n",
       "      <td>32134</td>\n",
       "      <td>32300</td>\n",
       "      <td>32300</td>\n",
       "      <td>32297</td>\n",
       "      <td>32300</td>\n",
       "    </tr>\n",
       "    <tr>\n",
       "      <th>unique</th>\n",
       "      <td>32300</td>\n",
       "      <td>22</td>\n",
       "      <td>48</td>\n",
       "      <td>-</td>\n",
       "      <td>3312</td>\n",
       "      <td>2375</td>\n",
       "      <td>165</td>\n",
       "      <td>3414</td>\n",
       "      <td>189</td>\n",
       "      <td>48</td>\n",
       "    </tr>\n",
       "  </tbody>\n",
       "</table>\n",
       "</div>"
      ],
      "text/plain": [
       "       row_id branch_id branch_name  holds  title author   date    url  genre  \\\n",
       "count   32300     32300       32300  32300  32300  32134  32300  32300  32297   \n",
       "unique  32300        22          48      -   3312   2375    165   3414    189   \n",
       "\n",
       "       branch_name_mod  \n",
       "count            32300  \n",
       "unique              48  "
      ]
     },
     "execution_count": 19,
     "metadata": {},
     "output_type": "execute_result"
    }
   ],
   "source": [
    "include =['object', 'float', 'int'] \n",
    "data.describe(include = include).fillna('-').loc[['count', 'unique'], :]"
   ]
  },
  {
   "cell_type": "code",
   "execution_count": 76,
   "metadata": {},
   "outputs": [
    {
     "name": "stdout",
     "output_type": "stream",
     "text": [
      "5\n",
      "defaultdict(<class 'list'>, {'categories': ['Drama', 'Fiction', 'Fiction'], 'averageRating': [3.5, 3.5, 3.5], 'publishedDate': ['2018-05-12', '2015-01-13', '2015-01-15']})\n",
      "defaultdict(None, {'categories': True, 'averageRating': True, 'publishedDate': True})\n",
      "genre:Fiction\n",
      "rating:3.5\n",
      "pubdate:2018-05-12\n"
     ]
    }
   ],
   "source": [
    "import googlebooks\n",
    "from collections import Counter, defaultdict\n",
    "\n",
    "# c = Counter(['fiction', 'drama', 'fiction']).most_common(1)\n",
    "# c\n",
    "\n",
    "google_api = googlebooks.Api()\n",
    "\n",
    "title = 'The girl on the train'\n",
    "author = 'Hawkins Paula'\n",
    "\n",
    "teste = google_api.list(title, inauthor=author)\n",
    "\n",
    "search_len = len(teste['items'])\n",
    "\n",
    "interest_cols = ['categories', 'averageRating', 'publishedDate' ]\n",
    "rang = 5 if search_len > 5 else search_len\n",
    "print(rang)\n",
    "\n",
    "def col_check(interest_cols, tocheck_list):\n",
    "    col_checker = defaultdict()\n",
    "    for col in interest_cols:\n",
    "        if col in tocheck_list:\n",
    "            col_checker[col] = True\n",
    "        else:\n",
    "            col_checker[col] = False \n",
    "    return col_checker\n",
    "    \n",
    "\n",
    "params = defaultdict(list)\n",
    "for index, item in zip(range(rang), teste['items']):\n",
    "    col_checker = col_check(interest_cols, list(item['volumeInfo'].keys()))   \n",
    "    \n",
    "            \n",
    "    if item['volumeInfo']['title'].lower() in title.lower():\n",
    "        for key in col_checker.keys():\n",
    "            if col_checker[key] == True:\n",
    "                if key == 'categories':\n",
    "                    params[key].append(item['volumeInfo'][key][0])\n",
    "                else:\n",
    "                    params[key].append(item['volumeInfo'][key])\n",
    "            else:\n",
    "                continue\n",
    "print(params)\n",
    "genre = Counter(params['categories']).most_common(1)[0][0]\n",
    "rating = Counter(params['averageRating']).most_common(1)[0][0]\n",
    "pubdate = Counter(params['publishedDate']).most_common(1)[0][0]\n",
    "    \n",
    "print(col_checker)\n",
    "print('genre:{}'.format(genre))\n",
    "print('rating:{}'.format(rating))\n",
    "print('pubdate:{}'.format(pubdate))\n",
    "    \n",
    "           \n",
    "        \n",
    "        \n"
   ]
  },
  {
   "cell_type": "code",
   "execution_count": 84,
   "metadata": {},
   "outputs": [
    {
     "ename": "AttributeError",
     "evalue": "'DataFrame' object has no attribute 'colum'",
     "output_type": "error",
     "traceback": [
      "\u001b[0;31m---------------------------------------------------------------------------\u001b[0m",
      "\u001b[0;31mAttributeError\u001b[0m                            Traceback (most recent call last)",
      "\u001b[0;32m<ipython-input-84-bd46a3f5f7b9>\u001b[0m in \u001b[0;36m<module>\u001b[0;34m\u001b[0m\n\u001b[1;32m      1\u001b[0m data4 = pd.read_csv('OriginalDataset/libraryDataset.csv', names=['row_id', 'branch_id', 'branch_name', 'holds', 'title', 'author',\n\u001b[1;32m      2\u001b[0m        'date', 'url'])\n\u001b[0;32m----> 3\u001b[0;31m \u001b[0mdata4\u001b[0m\u001b[0;34m.\u001b[0m\u001b[0mcolum\u001b[0m\u001b[0;34m(\u001b[0m\u001b[0;34m)\u001b[0m\u001b[0;34m\u001b[0m\u001b[0;34m\u001b[0m\u001b[0m\n\u001b[0m\u001b[1;32m      4\u001b[0m \u001b[0;34m\u001b[0m\u001b[0m\n\u001b[1;32m      5\u001b[0m \u001b[0;31m#data4.to_csv('ImportingNewdata/Final_Dataset.csv')\u001b[0m\u001b[0;34m\u001b[0m\u001b[0;34m\u001b[0m\u001b[0;34m\u001b[0m\u001b[0m\n",
      "\u001b[0;32m~/.local/share/virtualenvs/EdmontonLibraryEDA-hCCnIGB0/lib/python3.8/site-packages/pandas/core/generic.py\u001b[0m in \u001b[0;36m__getattr__\u001b[0;34m(self, name)\u001b[0m\n\u001b[1;32m   5272\u001b[0m             \u001b[0;32mif\u001b[0m \u001b[0mself\u001b[0m\u001b[0;34m.\u001b[0m\u001b[0m_info_axis\u001b[0m\u001b[0;34m.\u001b[0m\u001b[0m_can_hold_identifiers_and_holds_name\u001b[0m\u001b[0;34m(\u001b[0m\u001b[0mname\u001b[0m\u001b[0;34m)\u001b[0m\u001b[0;34m:\u001b[0m\u001b[0;34m\u001b[0m\u001b[0;34m\u001b[0m\u001b[0m\n\u001b[1;32m   5273\u001b[0m                 \u001b[0;32mreturn\u001b[0m \u001b[0mself\u001b[0m\u001b[0;34m[\u001b[0m\u001b[0mname\u001b[0m\u001b[0;34m]\u001b[0m\u001b[0;34m\u001b[0m\u001b[0;34m\u001b[0m\u001b[0m\n\u001b[0;32m-> 5274\u001b[0;31m             \u001b[0;32mreturn\u001b[0m \u001b[0mobject\u001b[0m\u001b[0;34m.\u001b[0m\u001b[0m__getattribute__\u001b[0m\u001b[0;34m(\u001b[0m\u001b[0mself\u001b[0m\u001b[0;34m,\u001b[0m \u001b[0mname\u001b[0m\u001b[0;34m)\u001b[0m\u001b[0;34m\u001b[0m\u001b[0;34m\u001b[0m\u001b[0m\n\u001b[0m\u001b[1;32m   5275\u001b[0m \u001b[0;34m\u001b[0m\u001b[0m\n\u001b[1;32m   5276\u001b[0m     \u001b[0;32mdef\u001b[0m \u001b[0m__setattr__\u001b[0m\u001b[0;34m(\u001b[0m\u001b[0mself\u001b[0m\u001b[0;34m,\u001b[0m \u001b[0mname\u001b[0m\u001b[0;34m:\u001b[0m \u001b[0mstr\u001b[0m\u001b[0;34m,\u001b[0m \u001b[0mvalue\u001b[0m\u001b[0;34m)\u001b[0m \u001b[0;34m->\u001b[0m \u001b[0;32mNone\u001b[0m\u001b[0;34m:\u001b[0m\u001b[0;34m\u001b[0m\u001b[0;34m\u001b[0m\u001b[0m\n",
      "\u001b[0;31mAttributeError\u001b[0m: 'DataFrame' object has no attribute 'colum'"
     ]
    }
   ],
   "source": [
    "data4 = pd.read_csv('OriginalDataset/libraryDataset.csv', names=['row_id', 'branch_id', 'branch_name', 'holds', 'title', 'author',\n",
    "       'date', 'url'])\n",
    "data4.colum()\n",
    "\n",
    "#data4.to_csv('ImportingNewdata/Final_Dataset.csv')"
   ]
  },
  {
   "cell_type": "code",
   "execution_count": 37,
   "metadata": {},
   "outputs": [
    {
     "data": {
      "text/plain": [
       "True"
      ]
     },
     "execution_count": 37,
     "metadata": {},
     "output_type": "execute_result"
    }
   ],
   "source": [
    "'The girl'.lower() in 'The Girl fro the Train'.lower()"
   ]
  },
  {
   "cell_type": "markdown",
   "metadata": {},
   "source": [
    "# Data Analysis"
   ]
  },
  {
   "cell_type": "markdown",
   "metadata": {},
   "source": [
    "### Some questions to solve:\n",
    "\n",
    " - What are the most popular books?\n",
    " - Are the popular books popular in all branchs?\n",
    " - Are there any patterns concerning the genre of books? what about genre in different branches?\n",
    " "
   ]
  },
  {
   "cell_type": "markdown",
   "metadata": {},
   "source": [
    "### - 'What are the most popular books?' "
   ]
  },
  {
   "cell_type": "code",
   "execution_count": null,
   "metadata": {},
   "outputs": [],
   "source": [
    "# most number of holds\n",
    "\n",
    "a = data[['title', 'genre', 'holds']]\n",
    "a = a.groupby('title').sum().sort_values('holds', ascending=False).head(15)\n",
    "\n",
    "a"
   ]
  },
  {
   "cell_type": "code",
   "execution_count": null,
   "metadata": {},
   "outputs": [],
   "source": [
    "# most number of appearances in the top 10 list\n",
    "b = data[['title', 'holds']]\n",
    "b = b.groupby('title').size().sort_values(ascending=False).head(15)\n",
    "\n",
    "b"
   ]
  },
  {
   "cell_type": "code",
   "execution_count": null,
   "metadata": {},
   "outputs": [],
   "source": [
    "topHold = a.index.tolist()\n",
    "topAppear = b.index.tolist()\n",
    "hold_in_appear = sum([1 for x in topHold if x in topAppear])\n",
    "\n",
    "print('{} of 15 in the most holded books list appears among the top 15 on weeks being featured in the top 10.'.format(hold_in_appear))"
   ]
  },
  {
   "cell_type": "code",
   "execution_count": null,
   "metadata": {},
   "outputs": [],
   "source": [
    "c = data[['title', 'holds']]\n",
    "c = c.groupby('title').agg({'holds' : 'sum', 'title' : 'size'}).sort_values('holds', ascending=False)\n",
    "c.columns=['number of holds', 'number of appearances']\n",
    "\n",
    "#ploting to see the difference betweeen number of holds vs number of weeks in top 10\n",
    "c.iloc[:15].plot(kind='bar', secondary_y='number of appearances', ylim=1300, figsize=[16,9])\n",
    "plt.title('Total number of holds vs. Total number of appearances in the top 10 list of all branches')\n",
    "plt.savefig('hold_appear.png', bbox_inches = \"tight\")"
   ]
  },
  {
   "cell_type": "markdown",
   "metadata": {},
   "source": [
    ">Following some logic, we would expect that the most number of holdings would come from the most featured books (concerning the most number of appearances in the top 10's). But, in the graph above we can see some cases that follow this logic (candidates for perennial sucesses), but some interesting ones that don't(candidates for spike trends).\n",
    "\n",
    "**Candidates for external spike trends**: The subtle art of not[..], Into the water, 12 rules for life, Into the water\n",
    "\n",
    "**Candidates for perennial sucesses**: The girl on the train, The life-changing magic of tidying up, Cambrideg IELTS\n",
    "\n"
   ]
  },
  {
   "cell_type": "markdown",
   "metadata": {},
   "source": [
    "### Let's make a further investigation:"
   ]
  },
  {
   "cell_type": "markdown",
   "metadata": {},
   "source": [
    "##### Candidates for perennial sucesses:"
   ]
  },
  {
   "cell_type": "code",
   "execution_count": null,
   "metadata": {},
   "outputs": [],
   "source": [
    "# Preparing the base of the graphs\n",
    "holdsOnTime = data[['title', 'holds', 'date']]\n",
    "holdsOnTime = holdsOnTime.set_index('title')\n",
    "holdsOnTime.loc[:,'date'] = pd.to_datetime(holdsOnTime['date'])\n",
    "\n",
    "holdsOnTime.loc[:,'hold_year'] = holdsOnTime.date.dt.year\n",
    "\n",
    "ht_group = holdsOnTime.groupby(['title', 'hold_year']).sum().sort_values(['title', 'hold_year'])\n",
    "\n",
    "perennials = ['The girl on the train',\n",
    "             'The life-changing magic of tidying up : the Japanese art of decluttering and organizing',\n",
    "              'Cambridge IELTS ... : examination papers from the University of Cambridge Local Examinations Syndicate'\n",
    "             ]"
   ]
  },
  {
   "cell_type": "code",
   "execution_count": null,
   "metadata": {},
   "outputs": [],
   "source": [
    "ht_group.loc[perennials].unstack(level=0).plot(kind='bar')\n",
    "plt.title('Number of holds per title per year')\n",
    "#plt.savefig('moment_trend2.png', bbox_inches = \"tight\")"
   ]
  },
  {
   "cell_type": "markdown",
   "metadata": {},
   "source": [
    "#### Candidates for external spike trends"
   ]
  },
  {
   "cell_type": "code",
   "execution_count": null,
   "metadata": {},
   "outputs": [],
   "source": [
    "external = ['12 rules for life : an antidote to chaos', \n",
    "            'The subtle art of not giving a fuck : a counterintuitive approach to living a good life',\n",
    "            'Into the water'\n",
    "           ]\n",
    "\n",
    "ht_group.loc[external].unstack(level=0).sort_index().plot(kind='bar')\n",
    "plt.title('Number of holds per title per year')\n",
    "plt.savefig('moment_trend.png', bbox_inches = \"tight\")"
   ]
  },
  {
   "cell_type": "markdown",
   "metadata": {},
   "source": [
    "> So, for the **perennial sucesses** we could say that only IELTS could hold the title, once it kept the demand through all the years. Which was not the case for the other ones which we could say a very ocassional demand that suddenly stops\n",
    "---\n",
    "> For the **spike trends** we could see that is in part true, mainly because of 12 rules for life title that had this high demand on the year it was published(2018) and just vanished after that in the next year.\n",
    "\n",
    "\n",
    "But there is one thng missing here: **what about the impact of individual branches? Is this popularity affected by being featured on few specific branches (with elevated holding numbers?)**\n",
    "\n",
    "Let's see:"
   ]
  },
  {
   "cell_type": "markdown",
   "metadata": {},
   "source": [
    "### 'Are the popular books popular in all branches?'"
   ]
  },
  {
   "cell_type": "code",
   "execution_count": null,
   "metadata": {},
   "outputs": [],
   "source": [
    "# how are the top 15 in holdings perfoming when considering the branches separatedly?\n",
    "\n",
    "d = data[['title', 'holds', 'branch_name']]\n",
    "\n",
    "d_group = d.groupby(['branch_name','title']).agg({'holds':'sum'})\n",
    "d_group = d_group.sort_values(['branch_name', 'holds'], ascending=False)\n",
    "\n",
    "# Making the ranks by title and position in the branch tier list\n",
    "branches = list({branch[0] for branch in d_group.index })\n",
    "\n",
    "topByTitle = {} # { title : [positions got from individual branches ranks] }\n",
    "for branch in branches:\n",
    "    positions = []\n",
    "    count = 1\n",
    "    for index, row in d_group.loc[branch].iterrows():\n",
    "        if count <= 15:\n",
    "            try:\n",
    "                topByTitle[index].append(count)\n",
    "                count += 1\n",
    "            except KeyError :\n",
    "                topByTitle[index] = []\n",
    "                topByTitle[index].append(count)\n",
    "                count += 1\n",
    "\n",
    "#{ title : number of appearances in ranks from different branches } \n",
    "topByTitle_count = { key:[len(lst)] for key, lst in topByTitle.items() if key in topHold } \n",
    "for key, value in topByTitle_count.items():\n",
    "    topByTitle_count[key].append(a.loc[key,].holds)\n",
    "topByTitle_count = {k:v for k,v in sorted(topByTitle_count.items(), key=lambda item: item[1][1], reverse=True)}\n",
    "appearances = [ topByTitle_count[title][0] for title in topHold]\n",
    "\n",
    "# Creating IDEAL World distribution with constant decay after the 1st place\n",
    "decay = 1.3142 # manually found\n",
    "\n",
    "ideal_appearances = []\n",
    "ideal_appearances.append(max(appearances))\n",
    "\n",
    "for x in range(len(appearances)-1):\n",
    "    ideal_appearances.append(ideal_appearances[x]-decay)\n",
    "    \n",
    "# Geting concentration index, concentration = what is the % of the branch with more \n",
    "# holds on the title comparing the total\n",
    "\n",
    "e = data[['title', 'holds', 'branch_name']]\n",
    "\n",
    "e_group = e.groupby(['title','branch_name']).agg({'holds':'sum'})\n",
    "e_group = e_group.sort_values(['title','holds'],ascending=False)\n",
    "\n",
    "concentration = []\n",
    "for title in topByTitle_count.keys():\n",
    "    calculate = True\n",
    "    for index, row in e_group.loc[title].iterrows():\n",
    "        if calculate:\n",
    "            concentration.append((row['holds']/a.loc[title]['holds']))\n",
    "            calculate = False\n",
    "\n",
    "print('Mean Concentration rate in the top 15: {}'.format(sum(concentration)/len(concentration)))\n",
    "\n",
    "## creating DataFrame to facilitate plot\n",
    "\n",
    "top_dt_dict ={\n",
    "    'title': list(topByTitle_count.keys()),\n",
    "    'REAL number appearances': appearances,\n",
    "    'IDEAL number appearances': ideal_appearances,\n",
    "    'concentration' : concentration\n",
    "}\n",
    "\n",
    "topTitlesDt = pd.DataFrame(top_dt_dict)\n",
    "topTitlesDt = topTitlesDt.set_index('title')\n",
    "topTitlesDt.plot(kind='bar', secondary_y = 'concentration')\n",
    "plt.title('REAL vs IDEAL number of appearacers in the top 15 vs Concentration')\n",
    "plt.savefig('concentration.png', bbox_inches = \"tight\")"
   ]
  },
  {
   "cell_type": "code",
   "execution_count": null,
   "metadata": {},
   "outputs": [],
   "source": [
    "Concentration_map = {}\n",
    "e_group2 = e_group.reset_index('branch_name')\n",
    "for title in topByTitle_count.keys():\n",
    "    calculate = True\n",
    "    Concentration_map[title] = 0\n",
    "    for index, row in e_group2.loc[title].iterrows():\n",
    "        if calculate:\n",
    "            Concentration_map[title] = row['branch_name']\n",
    "            calculate = False\n",
    "Concentration_map"
   ]
  },
  {
   "cell_type": "markdown",
   "metadata": {},
   "source": [
    "**Concentration** = The % which the branch with greater holding numbers for that title, represents in the total number"
   ]
  },
  {
   "cell_type": "markdown",
   "metadata": {},
   "source": [
    ">  First: in the top 15 of all time, concetration is relative high, 19% - against the natural mean that would be 4.5% (1/22)\n",
    "---\n",
    "> Second: the top 2 books showed tht they are a spread phenomenon, showing their appreciation the many different branches. \n",
    "---\n",
    "> Third: Our candidate for perennial sucess is fed by a particular branch (Millwoods Branch) - 40% concentration\n",
    "---\n",
    "> Forth: The tail of our top 15 seems to rely more in concentration to be featured in the rank - mostly carried by Whitemud branch\n"
   ]
  },
  {
   "cell_type": "markdown",
   "metadata": {},
   "source": [
    "### Exploring Publication Dates"
   ]
  },
  {
   "cell_type": "code",
   "execution_count": null,
   "metadata": {},
   "outputs": [],
   "source": [
    "#checking for patterns in books holded in the same yer they were published\n",
    "\n",
    "pubd = data[['title', 'pubdate', 'date', 'holds']]\n",
    "pubd.loc[:,'date'] = pd.to_datetime(pubd['date'])\n",
    "pubd.loc[:,'pubdate'] = pd.to_datetime(pubd['pubdate'])\n",
    "pubd.loc[:,'hold_year'] = pubd.date.dt.year\n",
    "pubd.loc[:,'pub_year'] = pubd.pubdate.dt.year\n",
    "\n",
    "pubd.loc[:,'hold_in_pubyear'] = pubd.hold_year == pubd.pub_year\n",
    "\n",
    "pubd_group_general = pubd.groupby(['hold_year', 'hold_in_pubyear']).agg({'holds':'sum'})\n",
    "pubd_group_general = pubd_group_general.reset_index()\n",
    "\n",
    "sns.barplot(x='hold_year', y='holds', hue='hold_in_pubyear', data=pubd_group_general)\n",
    "plt.title('Number of holds for books published in the same year - per year')\n",
    "plt.savefig('pubyear.png', bbox_inches = \"tight\")"
   ]
  },
  {
   "cell_type": "code",
   "execution_count": null,
   "metadata": {},
   "outputs": [],
   "source": [
    "# lets check the same pattern but for the top 15 books\n",
    "top15_titles = list(topByTitle_count.keys())\n",
    "\n",
    "pubd_group_top15 = pubd.groupby(['title', 'hold_in_pubyear']).agg({'holds':'sum'}).reset_index()\n",
    "pubd_group_top15 = pubd_group_top15.set_index('title')\n",
    "pubd_group_top15 = pubd_group_top15.loc[top15_titles,:].sort_values('holds', ascending=False).reset_index()\n",
    "\n",
    "sns.barplot(x='title', y='holds', hue='hold_in_pubyear', data=pubd_group_top15)\n",
    "plt.xticks(rotation=90)\n",
    "plt.title('Holds in the same and different year of publishing - top 15')\n",
    "plt.savefig('pubyear_title.png', bbox_inches = \"tight\")"
   ]
  },
  {
   "cell_type": "markdown",
   "metadata": {},
   "source": [
    "As we can see above, the "
   ]
  },
  {
   "cell_type": "code",
   "execution_count": null,
   "metadata": {},
   "outputs": [],
   "source": []
  },
  {
   "cell_type": "markdown",
   "metadata": {},
   "source": [
    "### Exploring Genres"
   ]
  },
  {
   "cell_type": "code",
   "execution_count": null,
   "metadata": {},
   "outputs": [],
   "source": [
    "genr = data[['genre', 'holds']]\n",
    "\n",
    "genr.groupby('genre').sum().sort_values('holds', ascending=False).iloc[:15]#.plot(kind='bar', logy=True)"
   ]
  },
  {
   "cell_type": "code",
   "execution_count": null,
   "metadata": {},
   "outputs": [],
   "source": [
    "genr.groupby('genre').sum().sort_values('holds', ascending=False).iloc[:15].plot(kind='bar', logy=True)"
   ]
  },
  {
   "cell_type": "markdown",
   "metadata": {},
   "source": [
    "> So, all time favorite is Fiction, by far (double), followed by biographies and juvenile fiction"
   ]
  },
  {
   "cell_type": "code",
   "execution_count": null,
   "metadata": {},
   "outputs": [],
   "source": [
    "# seeing genre evolution overtime\n",
    "genrt = data[['genre', 'date', 'holds']]\n",
    "genrt = genrt.set_index('genre')\n",
    "genrt.loc[:,'date'] = pd.to_datetime(genrt['date'])\n",
    "genrt.loc[:,'hold_year'] = genrt.date.dt.year\n",
    "\n",
    "genrt_group = genrt.groupby(['genre','hold_year']).sum().sort_values(['holds','hold_year'], ascending=False)\n",
    "genrt_group.iloc[:20,].unstack(level=0).fillna(0).plot()\n",
    "plt.title('Genres All time hold number evolution')"
   ]
  },
  {
   "cell_type": "code",
   "execution_count": null,
   "metadata": {},
   "outputs": [],
   "source": [
    "genrt_group.iloc[:20,].unstack(level=0).iloc[:,1:].fillna(0).plot()\n",
    "plt.title('Genres All time hold number evolution - EXCLUDING FICTION')"
   ]
  },
  {
   "cell_type": "markdown",
   "metadata": {},
   "source": [
    "> Again, fiction domination and showing a lot o growth, followed by juvenile fiction and biographies, with a goo shout out to self-help and cooking - showing some interesting growth)"
   ]
  },
  {
   "cell_type": "markdown",
   "metadata": {},
   "source": [
    "##### But how is evolution in genres which year? is there any change?"
   ]
  },
  {
   "cell_type": "code",
   "execution_count": null,
   "metadata": {},
   "outputs": [],
   "source": [
    "genrt_group2 = genrt_group.reset_index().iloc[:20,]\n",
    "\n",
    "plt.figure(figsize=(12, 6))\n",
    "sns.catplot(x='hold_year', y='holds', hue='genre', data=genrt_group2, kind='bar')\n",
    "plt.title('Evolution on the 10 most picked genres')\n",
    "plt.savefig('genre_evolution.png', bbox_inches = \"tight\")"
   ]
  },
  {
   "cell_type": "markdown",
   "metadata": {},
   "source": [
    "> Here the most notable and interesting fact is: **from 2015, we are seeing a good progress in the variety of the books featured in the top 10's!**"
   ]
  },
  {
   "cell_type": "markdown",
   "metadata": {},
   "source": [
    "What made this more than exponencial growth (starting in 2017) in fiction category?"
   ]
  },
  {
   "cell_type": "code",
   "execution_count": null,
   "metadata": {},
   "outputs": [],
   "source": [
    "# checking for concentration in the all time top 10 most holded books\n",
    "\n",
    "fictionDt = data[['genre', 'date', 'holds', 'title']]\n",
    "fictionDt = fictionDt[fictionDt.genre == 'Fiction']\n",
    "fictionDt.loc[:,'date'] = pd.to_datetime(fictionDt['date'])\n",
    "fictionDt.loc[:,'hold_year'] = fictionDt.date.dt.year\n",
    "\n",
    "#getting 10 most holded titles\n",
    "fiction10 = data[data.genre == 'Fiction']\n",
    "fiction10 = fiction10[['holds', 'title']]\n",
    "fiction10 = fiction10.groupby('title').sum().sort_values('holds', ascending=False).reset_index()\n",
    "top10 = fiction10.iloc[:10,0].tolist()\n",
    "\n",
    "fiction_g = fictionDt.groupby(['title', 'hold_year']).sum().sort_values('holds')\n",
    "fiction_ev = fiction_g.loc[top10,].reset_index()\n",
    "\n",
    "sns.catplot(x='hold_year', y='holds', hue='title', data=fiction_ev, kind='bar')\n",
    "plt.title('Evolution on the 10 most picked fiction books')"
   ]
  },
  {
   "cell_type": "markdown",
   "metadata": {},
   "source": [
    "Well, from a first look it seems that titles like 'Into the water' and company are responsible for all that growth right? No. Not too fast.\n",
    "\n",
    "Let's check the participation of the top 10 fiction books in holding and see their participation during the years:"
   ]
  },
  {
   "cell_type": "code",
   "execution_count": null,
   "metadata": {},
   "outputs": [],
   "source": [
    "# checking the participation of this top 10 books on the overall value of holds for fiction by year\n",
    "\n",
    "# geting the sum of holds of the top 10 by year\n",
    "top10_totals = fiction_ev.groupby('hold_year').sum().reset_index()#holds.tolist()\n",
    "top10_dict = {row['hold_year']:row['holds'] for index,row in top10_totals.iterrows()}\n",
    "\n",
    "#geting the total number of holds of fiction by year and final dataframe\n",
    "comparisonDt = genrt_group2[genrt_group2.genre=='Fiction'].groupby('hold_year').sum().reset_index()\n",
    "comparisonDt['top10 holds'] = comparisonDt['hold_year'].apply(lambda x: top10_dict[x])\n",
    "comparisonDt['top10 participation in %'] = comparisonDt['top10 holds']/comparisonDt['holds']\n",
    "\n",
    "sns.barplot(x='hold_year', y='top10 participation in %', data=comparisonDt)\n",
    "plt.title('Participation in % of the 10 all time fiction books on holdings')\n"
   ]
  },
  {
   "cell_type": "markdown",
   "metadata": {},
   "source": [
    "> Well, it seems that we have an interesting picture above. Even though we are seeing great growth in fiction, this comes, year after year, as a spread movement. In summary: the interest in fiction is growing and it is get more and more diversified each year.\n",
    "---\n",
    "\n",
    "\n",
    "Ok, what if we took off fiction form the picture?"
   ]
  },
  {
   "cell_type": "code",
   "execution_count": null,
   "metadata": {},
   "outputs": [],
   "source": [
    "genrt_group2 = genrt_group.reset_index().iloc[:21,:]\n",
    "genrt_group2 = genrt_group2[genrt_group2.genre != 'Fiction']\n",
    "\n",
    "\n",
    "plt.figure(figsize=(12, 6))\n",
    "sns.catplot(x='hold_year', y='holds', hue='genre', data=genrt_group2, kind='bar')\n",
    "plt.title('Evolution on the 10 most picked genres - WITHOUT FICTION')"
   ]
  },
  {
   "cell_type": "markdown",
   "metadata": {},
   "source": [
    "> Still : diversification is the word here."
   ]
  },
  {
   "cell_type": "markdown",
   "metadata": {},
   "source": [
    "##### Exploring genre patterns geographically"
   ]
  },
  {
   "cell_type": "code",
   "execution_count": null,
   "metadata": {},
   "outputs": [],
   "source": [
    "#getting the addresses of the branches \n",
    "brcInfo = pd.read_csv('Public_Libraries.csv')\n",
    "keep_columns = ['Branch ID', 'Branch', 'Address', 'Latitude', 'Longitude']\n",
    "brcInfo = brcInfo[keep_columns]\n",
    "\n",
    "brcInfo.sort_values('Branch ID').head()"
   ]
  },
  {
   "cell_type": "code",
   "execution_count": null,
   "metadata": {},
   "outputs": [],
   "source": [
    "#Creating the data frame by branch and genre to start exploring\n",
    "g = data[['branch_id', 'date', 'genre', 'holds']]\n",
    "g.loc[:,'date'] = pd.to_datetime(g['date'])\n",
    "g.loc[:,'hold_year'] = g.date.dt.year\n",
    "\n",
    "# merging\n",
    "g_group = g.groupby(['hold_year', 'branch_id', 'genre']).sum().sort_values(['hold_year', 'branch_id', 'holds'], ascending=False)\n",
    "g_group = g_group.reset_index()\n",
    "g_merged = g_group.merge(brcInfo, right_on='Branch ID', left_on='branch_id').set_index('hold_year')\n",
    "g_merged.head()"
   ]
  },
  {
   "cell_type": "code",
   "execution_count": null,
   "metadata": {},
   "outputs": [],
   "source": [
    "#geting the most popular genre per branch, per year considering number of holds\n",
    "\n",
    "# building the dict for the job!\n",
    "branch_ids = g_merged.branch_id.unique().tolist()\n",
    "years = [2015, 2016, 2017, 2018]\n",
    "\n",
    "master_dict = {}\n",
    "\n",
    "for year in years:\n",
    "    master_content = {}\n",
    "    base = g_merged.loc[year, ['genre','holds', 'branch_id', 'Latitude', 'Longitude', 'Branch']]\n",
    "    for branch in branch_ids:\n",
    "        inside_content = {}\n",
    "        try:\n",
    "            inside_content['Branch'] = base[base.branch_id == branch].iloc[0,]['Branch']\n",
    "            inside_content['genre'] = base[base.branch_id == branch].iloc[0,]['genre']\n",
    "            inside_content['holds'] = base[base.branch_id == branch].iloc[0,]['holds']\n",
    "            inside_content['Latitude'] = base[base.branch_id == branch].iloc[0,]['Latitude']\n",
    "            inside_content['Longitude'] = base[base.branch_id == branch].iloc[0,]['Longitude']\n",
    "            master_content[branch] = inside_content\n",
    "        except:\n",
    "            continue\n",
    "        \n",
    "    master_dict[year] = master_content"
   ]
  },
  {
   "cell_type": "code",
   "execution_count": null,
   "metadata": {},
   "outputs": [],
   "source": [
    "# normalization function - for the marker size \n",
    "\n",
    "def normalize(number, upper=20, lower=1):\n",
    "    normalized = ((number -lower)/(upper - lower)) * 10 \n",
    "    return int(normalized+9) # +6 to make small numbers more visible in the map\n",
    "\n",
    "# colors for markers\n",
    "marker_c = ['red', 'blue', 'green', 'purple', 'orange', 'darkred',\n",
    "            'lightred', 'beige', 'darkblue', 'darkgreen', 'cadetblue', \n",
    "            'darkpurple', 'pink', 'lightblue', 'lightgreen', \n",
    "            'gray', 'black', 'lightgray']\n"
   ]
  },
  {
   "cell_type": "code",
   "execution_count": null,
   "metadata": {
    "scrolled": false
   },
   "outputs": [],
   "source": [
    "#base map\n",
    "m = folium.Map(location=[53.531611, -113.513975], zoom_start=11.4)\n",
    "\n",
    "#Generating the color of the markers\n",
    "np.random.seed(5)\n",
    "top_genre = set()\n",
    "for key, value in master_dict.items():\n",
    "    for key2, value2 in value.items():\n",
    "        top_genre.add(value2['genre'])\n",
    "    \n",
    "genre_color = {genre:marker_c[np.random.randint(0,len(marker_c)-1)] for genre in top_genre}\n",
    "\n",
    "@interact(year = widgets.IntSlider(min=2015, max=2018, step=1, value=2015))\n",
    "def generate_geo_genre(year=[2015, 2016, 2017, 2018]):\n",
    "    '''Generate Geo Map with round markers with the size of number of holds per genre in each branch\n",
    "       Represents all time sucesses in number of holds\n",
    "       \n",
    "       year = integer, year you would like to analyze\n",
    "        '''\n",
    "    \n",
    "    m = folium.Map(location=[53.531611, -113.513975], zoom_start=11.4)\n",
    "    \n",
    "    #Generating the color of the markers\n",
    "    np.random.seed(1)\n",
    "    top_genres = {values['genre'] for key,values in master_dict[year].items()}\n",
    "    genre_color_checking = {genre:genre_color[genre] for genre in top_genres}\n",
    "    \n",
    "    #seting up parameters for the marker size\n",
    "    hold_list = [value['holds'] for key,value in master_dict[year].items() ]\n",
    "    maxH, minH = max(hold_list), min(hold_list)\n",
    "\n",
    "    for branch, values in master_dict[year].items():\n",
    "        folium.CircleMarker([values['Latitude'], values['Longitude']],\n",
    "                                radius = normalize(values['holds'], maxH, minH),\n",
    "                                popup = [values['genre']],\n",
    "                                color = 'gray',\n",
    "                                fill=True,\n",
    "                                fill_opacity=0.9,\n",
    "                                fill_color=genre_color[values['genre']],\n",
    "                                tooltip= values['Branch'],\n",
    "                               ).add_to(m)\n",
    "        \n",
    "    #generate legends snipets\n",
    "    snipets = []\n",
    "    for key, value in genre_color_checking.items():\n",
    "        snipets.append(\n",
    "            '&nbsp; {} &nbsp; <i class=\"fa fa-map-marker fa-2x\" style=\"color:{}\"></i>'.format(\n",
    "                                                                                        key, value)\n",
    "        )\n",
    "    legend_entries = '<br>'.join(snipets)\n",
    "        \n",
    "        \n",
    "    year_html = '''\n",
    "        <div style=\"position: fixed; \n",
    "                            top: 10px; right: 10px; width: auto; height: auto; \n",
    "                            z-index:9999; font-size:14px;\n",
    "                            color: black; font-size: 45px;\n",
    "                            \">&nbsp; <b> {}  </b> <br>\n",
    "                              </i>\n",
    "                </div>'''.format(year) \n",
    "    \n",
    "    legend_html =   '''\n",
    "                <div style=\"position: fixed; \n",
    "                            bottom: 50px; left: 50px; width: auto; height: auto; \n",
    "                            border:2px solid grey; z-index:9999; font-size:14px;\n",
    "                            background-color:white; border-radius:10px; padding: 7px 9px 7px;\n",
    "                            \">&nbsp; <b> Map Legend  </b> <br>\n",
    "                            {}\n",
    "                              </i>\n",
    "                </div>\n",
    "                '''.format(legend_entries) \n",
    "\n",
    "    m.get_root().html.add_child(folium.Element(legend_html))\n",
    "    m.get_root().html.add_child(folium.Element(year_html))\n",
    "    print('Predominant Genre in number of all time holdings by branch')\n",
    "    \n",
    "    return m"
   ]
  },
  {
   "cell_type": "markdown",
   "metadata": {},
   "source": [
    "> Millwoods resisted the Fiction domination, but it was just a matter of time.. "
   ]
  },
  {
   "cell_type": "markdown",
   "metadata": {},
   "source": [
    "Lets try **taking off Fiction** to see other predominant Genres "
   ]
  },
  {
   "cell_type": "code",
   "execution_count": null,
   "metadata": {},
   "outputs": [],
   "source": [
    "#geting the most popular genre per branch, per year considering number of holds\n",
    "\n",
    "# building the dict for the job!\n",
    "branch_ids = g_merged.branch_id.unique().tolist()\n",
    "years = [2015, 2016, 2017, 2018]\n",
    "\n",
    "g_merged_wf = g_merged[g_merged.genre != 'Fiction'] # Taking off Fiction\n",
    "\n",
    "master_dict2 = {}\n",
    "\n",
    "for year in years:\n",
    "    master_content = {}\n",
    "    base = g_merged_wf.loc[year, ['genre','holds', 'branch_id', 'Latitude', 'Longitude', 'Branch']]\n",
    "    for branch in branch_ids:\n",
    "        inside_content = {}\n",
    "        try:\n",
    "            inside_content['Branch'] = base[base.branch_id == branch].iloc[0,]['Branch']\n",
    "            inside_content['genre'] = base[base.branch_id == branch].iloc[0,]['genre']\n",
    "            inside_content['holds'] = base[base.branch_id == branch].iloc[0,]['holds']\n",
    "            inside_content['Latitude'] = base[base.branch_id == branch].iloc[0,]['Latitude']\n",
    "            inside_content['Longitude'] = base[base.branch_id == branch].iloc[0,]['Longitude']\n",
    "            master_content[branch] = inside_content\n",
    "        except:\n",
    "            continue\n",
    "        \n",
    "    master_dict2[year] = master_content"
   ]
  },
  {
   "cell_type": "code",
   "execution_count": null,
   "metadata": {},
   "outputs": [],
   "source": [
    "#base map\n",
    "m2 = folium.Map(location=[53.531611, -113.513975], zoom_start=11.4)\n",
    "\n",
    "#Generating the color of the markers\n",
    "np.random.seed(15)\n",
    "top_genre2 = set()\n",
    "for key, value in master_dict2.items():\n",
    "    for key2, value2 in value.items():\n",
    "        top_genre2.add(value2['genre'])\n",
    "    \n",
    "genre_color2 = {genre:marker_c[np.random.randint(0,len(marker_c)-1)] for genre in top_genre2}\n",
    "\n",
    "# Running it without fiction\n",
    "@interact(year = widgets.IntSlider(min=2015, max=2018, step=1, value=2015))\n",
    "def generate_geo_genre(year=[2015, 2016, 2017, 2018]):\n",
    "    '''Generate Geo Map with round markers with the size of number of holds per genre in each branch\n",
    "       Represents all time sucesses in number of holds\n",
    "       \n",
    "       year = integer, year you would like to analyze\n",
    "        '''\n",
    "    \n",
    "    m2 = folium.Map(location=[53.531611, -113.513975], zoom_start=11.4)\n",
    "    \n",
    "    #checking which markers should appear\n",
    "    top_genres = {values['genre'] for key,values in master_dict2[year].items()}\n",
    "    genre_color_check = {genre:genre_color2[genre] for genre in top_genres}\n",
    "    \n",
    "    \n",
    "    #seting up parameters for the marker size\n",
    "    hold_list = [value['holds'] for key,value in master_dict[year].items() ]\n",
    "    maxH, minH = max(hold_list), min(hold_list)\n",
    "\n",
    "    for branch, values in master_dict2[year].items():\n",
    "        folium.CircleMarker([values['Latitude'], values['Longitude']],\n",
    "                                radius = normalize(values['holds'], maxH, minH),\n",
    "                                popup = [values['genre']],\n",
    "                                color = 'grey',\n",
    "                                fill=True,\n",
    "                                fill_opacity=0.9,\n",
    "                                fill_color=genre_color2[values['genre']],\n",
    "                                tooltip= values['Branch'],\n",
    "                               ).add_to(m2)\n",
    "        \n",
    "    #generate legends snipets\n",
    "    snipets = []\n",
    "    for key, value in genre_color_check.items():\n",
    "        snipets.append(\n",
    "            '&nbsp; {} &nbsp; <i class=\"fa fa-map-marker fa-2x\" style=\"color:{}\"></i>'.format(\n",
    "                                                                                        key, value)\n",
    "        )\n",
    "    legend_entries = '<br>'.join(snipets)\n",
    "        \n",
    "        \n",
    "    year_html = '''\n",
    "        <div style=\"position: fixed; \n",
    "                            top: 10px; right: 10px; width: auto; height: auto; \n",
    "                            z-index:9999; font-size:14px;\n",
    "                            color: black; font-size: 45px;\n",
    "                            \">&nbsp; <b> {}  </b> <br>\n",
    "                              </i>\n",
    "                </div>'''.format(year) \n",
    "    \n",
    "    legend_html =   '''\n",
    "                <div style=\"position: fixed; \n",
    "                            bottom: 50px; left: 50px; width: auto; height: auto; \n",
    "                            border:2px solid grey; z-index:9999; font-size:14px;\n",
    "                            background-color:white; border-radius:10px; padding: 7px 9px 7px;\n",
    "                            \">&nbsp; <b>Map Legend</b> <br>\n",
    "                            {}\n",
    "                              </i>\n",
    "                </div>\n",
    "                '''.format(legend_entries) \n",
    "\n",
    "    m2.get_root().html.add_child(folium.Element(legend_html))\n",
    "    m2.get_root().html.add_child(folium.Element(year_html))\n",
    "    print('Predominant Genre in number of all time holdings by branch - WITHOUT FICTION')\n",
    "    \n",
    "    return m2"
   ]
  },
  {
   "cell_type": "markdown",
   "metadata": {},
   "source": [
    "### Exploring HeatMaps"
   ]
  },
  {
   "cell_type": "markdown",
   "metadata": {},
   "source": [
    "##### Variety HeatMap - Areas with more diversity of genres in the top 10s"
   ]
  },
  {
   "cell_type": "code",
   "execution_count": null,
   "metadata": {},
   "outputs": [],
   "source": [
    "#Creating the data frame by branch and genre to start exploring\n",
    "h = data[['branch_id', 'date', 'genre']]\n",
    "h.loc[:,'date'] = pd.to_datetime(h['date'])\n",
    "h.loc[:,'hold_year'] = h.date.dt.year\n",
    "\n",
    "h_group = h.groupby(['hold_year', 'branch_id', 'genre']).agg(genre_count=('genre', 'size'))\n",
    "h_group = h_group.sort_values(['hold_year', 'branch_id', 'genre_count'], ascending=False).reset_index()\n",
    "\n",
    "#merging to get coordinates\n",
    "h_merged = h_group.merge(brcInfo, right_on='Branch ID', left_on='branch_id')#.set_index('hold_year')\n",
    "h_merged.head()"
   ]
  },
  {
   "cell_type": "code",
   "execution_count": null,
   "metadata": {},
   "outputs": [],
   "source": [
    "# Variety of rankings heatmap\n",
    "\n",
    "# building the dataframe\n",
    "i = h_merged\n",
    "i_group = i.groupby(['hold_year', 'branch_id', 'Latitude', 'Longitude']).agg(number_of_genres=('genre','size'))\n",
    "i_group = i_group.reset_index()\n",
    "\n",
    "@interact(year = widgets.IntSlider(min=2015, max=2018, step=1, value=2015))\n",
    "def diversity_heatmap(year=[2015, 2016, 2017, 2018]):\n",
    "\n",
    "    m3 = folium.Map(location=[53.531611, -113.513975], zoom_start=9.4)\n",
    "    \n",
    "    heat_dt = i_group[i_group.hold_year == year]\n",
    "    heat_dt['weight'] = heat_dt['number_of_genres'] / heat_dt['number_of_genres'].sum()\n",
    "    \n",
    "    year_html = '''\n",
    "        <div style=\"position: fixed; \n",
    "                            top: 10px; right: 10px; width: auto; height: auto; \n",
    "                            z-index:9999; font-size:14px;\n",
    "                            color: black; font-size: 45px;\n",
    "                            \">&nbsp; <b> {}  </b> <br>\n",
    "                              </i>\n",
    "                </div>'''.format(year) \n",
    "    \n",
    "    params = heat_dt[['Latitude', 'Longitude', 'weight']].values\n",
    "    m3.get_root().html.add_child(folium.Element(year_html))\n",
    "    m3.add_children(plugins.HeatMap(params, radius=15))\n",
    "    \n",
    "    print( 'Regions with more variety of genres in the top 10s')\n",
    "    return m3"
   ]
  },
  {
   "cell_type": "markdown",
   "metadata": {},
   "source": [
    "##### Genre Intensity by area during years - number of apperances in the top 10"
   ]
  },
  {
   "cell_type": "code",
   "execution_count": null,
   "metadata": {},
   "outputs": [],
   "source": [
    "# Variety of rankings heatmap\n",
    "\n",
    "# building the dataframe\n",
    "j = h_merged\n",
    "j_group = j.groupby(['hold_year', 'genre', 'Latitude', 'Longitude']).agg(genre_occur=('genre_count','sum'))\n",
    "j_group = j_group.reset_index()\n",
    "u_genres = j_group[j_group.genre_occur >=10].genre.sort_values().unique().tolist() #exclude irrelevant\n",
    "\n",
    "@interact(genre = u_genres, year = widgets.IntSlider(min=2015, max=2018, step=1, value=2015))\n",
    "def genre_heatmap(year, genre):\n",
    "\n",
    "    m4 = folium.Map(location=[53.531611, -113.513975], zoom_start=9.4)\n",
    "    \n",
    "    heat_dt = j_group[j_group.hold_year == year]\n",
    "    heat_dt = heat_dt[heat_dt.genre == genre]\n",
    "    heat_dt['weight'] = heat_dt['genre_occur'] / heat_dt['genre_occur'].sum()\n",
    "    \n",
    "    year_html = '''\n",
    "        <div style=\"position: fixed; \n",
    "                            top: 10px; right: 10px; width: auto; height: auto; \n",
    "                            z-index:9999; font-size:14px;\n",
    "                            color: black; font-size: 45px;\n",
    "                            \">&nbsp; <b> {}  </b> <br>\n",
    "                              </i>\n",
    "                </div>'''.format(year) \n",
    "    \n",
    "    m4.get_root().html.add_child(folium.Element(year_html))\n",
    "    \n",
    "    params = heat_dt[['Latitude', 'Longitude', 'weight']].values\n",
    "    m4.add_child(plugins.HeatMap(params, radius=15))\n",
    "    \n",
    "    return m4"
   ]
  },
  {
   "cell_type": "code",
   "execution_count": null,
   "metadata": {},
   "outputs": [],
   "source": []
  },
  {
   "cell_type": "code",
   "execution_count": null,
   "metadata": {},
   "outputs": [],
   "source": []
  }
 ],
 "metadata": {
  "kernelspec": {
   "display_name": "Python 3",
   "language": "python",
   "name": "python3"
  },
  "language_info": {
   "codemirror_mode": {
    "name": "ipython",
    "version": 3
   },
   "file_extension": ".py",
   "mimetype": "text/x-python",
   "name": "python",
   "nbconvert_exporter": "python",
   "pygments_lexer": "ipython3",
   "version": "3.8.1"
  }
 },
 "nbformat": 4,
 "nbformat_minor": 4
}
