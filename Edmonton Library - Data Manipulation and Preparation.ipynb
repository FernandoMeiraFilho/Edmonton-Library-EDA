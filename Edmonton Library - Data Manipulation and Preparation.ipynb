{
 "cells": [
  {
   "cell_type": "code",
   "execution_count": 1,
   "metadata": {},
   "outputs": [],
   "source": [
    "%matplotlib inline\n",
    "import numpy as np\n",
    "import pandas as pd\n",
    "import matplotlib.pyplot as plt\n",
    "import seaborn as sns\n",
    "import plotly.express as px\n",
    "plt.rcParams['figure.figsize'] = [12,8]\n",
    "\n",
    "from collections import defaultdict"
   ]
  },
  {
   "cell_type": "code",
   "execution_count": 2,
   "metadata": {},
   "outputs": [
    {
     "data": {
      "text/html": [
       "<style>body {\n",
       "    margin: 0;\n",
       "    font-family: Helvetica;\n",
       "}\n",
       "\n",
       "table.dataframe {\n",
       "    border-collapse: collapse;\n",
       "    border: none;\n",
       "}\n",
       "table.dataframe th {\n",
       "    border: 1px solid white;\n",
       "    background-color: gray;\n",
       "    color: white;\n",
       "    font-style: oblique;\n",
       "    text-align: center !important;\n",
       "\n",
       "}\n",
       "\n",
       "table.dataframe td {\n",
       "    text-align: center;\n",
       "}\n",
       "\n",
       "table.dataframe tr {\n",
       "    text-align: center;\n",
       "}\n",
       "</style>"
      ],
      "text/plain": [
       "<IPython.core.display.HTML object>"
      ]
     },
     "execution_count": 2,
     "metadata": {},
     "output_type": "execute_result"
    }
   ],
   "source": [
    "from IPython.core.display import HTML\n",
    "css = open('Style/style-table.css').read() + open('Style/style-notebook.css').read()\n",
    "HTML('<style>{}</style>'.format(css))"
   ]
  },
  {
   "cell_type": "markdown",
   "metadata": {},
   "source": [
    "# Data loading / preparation"
   ]
  },
  {
   "cell_type": "markdown",
   "metadata": {},
   "source": [
    "Loading the **main dataset** and making some cleaning in some features.\n",
    "\n",
    "dataset source official link: [click here](https://data.edmonton.ca/Community-Centres/Most-Popular-Books-by-Branch-Edmonton-Public-Libra/qdgm-hex6)"
   ]
  },
  {
   "cell_type": "markdown",
   "metadata": {},
   "source": [
    "> The dataset used here was the original dataset with genre information imported using Google Books API. If you would like to see how it was done, please check the repository on [Github](https://github.com/FernandoMeiraFilho/Edmonton-Library-EDA)"
   ]
  },
  {
   "cell_type": "code",
   "execution_count": 3,
   "metadata": {
    "scrolled": false
   },
   "outputs": [
    {
     "data": {
      "text/html": [
       "<div>\n",
       "<style scoped>\n",
       "    .dataframe tbody tr th:only-of-type {\n",
       "        vertical-align: middle;\n",
       "    }\n",
       "\n",
       "    .dataframe tbody tr th {\n",
       "        vertical-align: top;\n",
       "    }\n",
       "\n",
       "    .dataframe thead th {\n",
       "        text-align: right;\n",
       "    }\n",
       "</style>\n",
       "<table border=\"1\" class=\"dataframe\">\n",
       "  <thead>\n",
       "    <tr style=\"text-align: right;\">\n",
       "      <th></th>\n",
       "      <th>row_id</th>\n",
       "      <th>branch_id</th>\n",
       "      <th>branch_name</th>\n",
       "      <th>holds</th>\n",
       "      <th>title</th>\n",
       "      <th>author</th>\n",
       "      <th>date</th>\n",
       "      <th>url</th>\n",
       "      <th>genre</th>\n",
       "      <th>google_rating</th>\n",
       "      <th>publishing_Date</th>\n",
       "    </tr>\n",
       "  </thead>\n",
       "  <tbody>\n",
       "    <tr>\n",
       "      <th>0</th>\n",
       "      <td>EPLLON20150316The girl on the train / Paula Ha...</td>\n",
       "      <td>EPLLON</td>\n",
       "      <td>Londonderry Branch</td>\n",
       "      <td>36</td>\n",
       "      <td>The girl on the train</td>\n",
       "      <td>Hawkins Paula</td>\n",
       "      <td>03/16/2015 12:00:00 AM</td>\n",
       "      <td>http://epl.bibliocommons.com/search?t=smart&amp;q=...</td>\n",
       "      <td>Fiction</td>\n",
       "      <td>3.5</td>\n",
       "      <td>2015.0</td>\n",
       "    </tr>\n",
       "    <tr>\n",
       "      <th>1</th>\n",
       "      <td>EPLLON20150316The maze runner / James Dashner</td>\n",
       "      <td>EPLLON</td>\n",
       "      <td>Londonderry Branch</td>\n",
       "      <td>18</td>\n",
       "      <td>The maze runner</td>\n",
       "      <td>Dashner James</td>\n",
       "      <td>03/16/2015 12:00:00 AM</td>\n",
       "      <td>http://epl.bibliocommons.com/search?t=smart&amp;q=...</td>\n",
       "      <td>Juvenile Fiction</td>\n",
       "      <td>3.5</td>\n",
       "      <td>2014.0</td>\n",
       "    </tr>\n",
       "    <tr>\n",
       "      <th>2</th>\n",
       "      <td>EPLLON20150316Crash &amp; burn : a novel / Lisa Ga...</td>\n",
       "      <td>EPLLON</td>\n",
       "      <td>Londonderry Branch</td>\n",
       "      <td>17</td>\n",
       "      <td>Crash &amp; burn : a novel</td>\n",
       "      <td>Gardner Lisa</td>\n",
       "      <td>03/16/2015 12:00:00 AM</td>\n",
       "      <td>http://epl.bibliocommons.com/search?t=smart&amp;q=...</td>\n",
       "      <td>Young Adult Fiction</td>\n",
       "      <td>4.0</td>\n",
       "      <td>2013.0</td>\n",
       "    </tr>\n",
       "    <tr>\n",
       "      <th>3</th>\n",
       "      <td>EPLLON20150316Gray Mountain / John Grisham</td>\n",
       "      <td>EPLLON</td>\n",
       "      <td>Londonderry Branch</td>\n",
       "      <td>14</td>\n",
       "      <td>Gray Mountain</td>\n",
       "      <td>Grisham John</td>\n",
       "      <td>03/16/2015 12:00:00 AM</td>\n",
       "      <td>http://epl.bibliocommons.com/search?t=smart&amp;q=...</td>\n",
       "      <td>Fiction</td>\n",
       "      <td>3.5</td>\n",
       "      <td>2014.0</td>\n",
       "    </tr>\n",
       "    <tr>\n",
       "      <th>4</th>\n",
       "      <td>EPLLON20150316Cambridge IELTS ... : examinatio...</td>\n",
       "      <td>EPLLON</td>\n",
       "      <td>Londonderry Branch</td>\n",
       "      <td>14</td>\n",
       "      <td>Cambridge IELTS ... : examination papers from ...</td>\n",
       "      <td>University of Cambridge Local Examinations Syn...</td>\n",
       "      <td>03/16/2015 12:00:00 AM</td>\n",
       "      <td>http://epl.bibliocommons.com/search?t=smart&amp;q=...</td>\n",
       "      <td>Foreign Language Study</td>\n",
       "      <td>NaN</td>\n",
       "      <td>2002.0</td>\n",
       "    </tr>\n",
       "  </tbody>\n",
       "</table>\n",
       "</div>"
      ],
      "text/plain": [
       "                                              row_id branch_id  \\\n",
       "0  EPLLON20150316The girl on the train / Paula Ha...    EPLLON   \n",
       "1      EPLLON20150316The maze runner / James Dashner    EPLLON   \n",
       "2  EPLLON20150316Crash & burn : a novel / Lisa Ga...    EPLLON   \n",
       "3         EPLLON20150316Gray Mountain / John Grisham    EPLLON   \n",
       "4  EPLLON20150316Cambridge IELTS ... : examinatio...    EPLLON   \n",
       "\n",
       "          branch_name  holds  \\\n",
       "0  Londonderry Branch     36   \n",
       "1  Londonderry Branch     18   \n",
       "2  Londonderry Branch     17   \n",
       "3  Londonderry Branch     14   \n",
       "4  Londonderry Branch     14   \n",
       "\n",
       "                                               title  \\\n",
       "0                              The girl on the train   \n",
       "1                                    The maze runner   \n",
       "2                             Crash & burn : a novel   \n",
       "3                                      Gray Mountain   \n",
       "4  Cambridge IELTS ... : examination papers from ...   \n",
       "\n",
       "                                              author                    date  \\\n",
       "0                                      Hawkins Paula  03/16/2015 12:00:00 AM   \n",
       "1                                      Dashner James  03/16/2015 12:00:00 AM   \n",
       "2                                       Gardner Lisa  03/16/2015 12:00:00 AM   \n",
       "3                                       Grisham John  03/16/2015 12:00:00 AM   \n",
       "4  University of Cambridge Local Examinations Syn...  03/16/2015 12:00:00 AM   \n",
       "\n",
       "                                                 url                   genre  \\\n",
       "0  http://epl.bibliocommons.com/search?t=smart&q=...                 Fiction   \n",
       "1  http://epl.bibliocommons.com/search?t=smart&q=...        Juvenile Fiction   \n",
       "2  http://epl.bibliocommons.com/search?t=smart&q=...     Young Adult Fiction   \n",
       "3  http://epl.bibliocommons.com/search?t=smart&q=...                 Fiction   \n",
       "4  http://epl.bibliocommons.com/search?t=smart&q=...  Foreign Language Study   \n",
       "\n",
       "   google_rating  publishing_Date  \n",
       "0            3.5           2015.0  \n",
       "1            3.5           2014.0  \n",
       "2            4.0           2013.0  \n",
       "3            3.5           2014.0  \n",
       "4            NaN           2002.0  "
      ]
     },
     "execution_count": 3,
     "metadata": {},
     "output_type": "execute_result"
    }
   ],
   "source": [
    "root_data = pd.read_csv('ImportingNewData/Final_Dataset.csv').iloc[:,13:]\n",
    "root_data.head()"
   ]
  },
  {
   "cell_type": "markdown",
   "metadata": {},
   "source": [
    "Loading an **additional dataset** containing the official branch names, latitudes and longitudes (for further graphs).\n",
    "\n",
    "dataset source official link: [click here](https://data.edmonton.ca/Community-Centres/Public-Libraries/jn25-zspi)"
   ]
  },
  {
   "cell_type": "code",
   "execution_count": 4,
   "metadata": {},
   "outputs": [
    {
     "data": {
      "text/html": [
       "<div>\n",
       "<style scoped>\n",
       "    .dataframe tbody tr th:only-of-type {\n",
       "        vertical-align: middle;\n",
       "    }\n",
       "\n",
       "    .dataframe tbody tr th {\n",
       "        vertical-align: top;\n",
       "    }\n",
       "\n",
       "    .dataframe thead th {\n",
       "        text-align: right;\n",
       "    }\n",
       "</style>\n",
       "<table border=\"1\" class=\"dataframe\">\n",
       "  <thead>\n",
       "    <tr style=\"text-align: right;\">\n",
       "      <th></th>\n",
       "      <th>Branch ID</th>\n",
       "      <th>Branch</th>\n",
       "      <th>Address</th>\n",
       "      <th>Latitude</th>\n",
       "      <th>Longitude</th>\n",
       "    </tr>\n",
       "  </thead>\n",
       "  <tbody>\n",
       "    <tr>\n",
       "      <th>7</th>\n",
       "      <td>EPLABB</td>\n",
       "      <td>Abbottsfield - Penny McKee</td>\n",
       "      <td>3410 - 118 Avenue</td>\n",
       "      <td>53.570451</td>\n",
       "      <td>-113.391518</td>\n",
       "    </tr>\n",
       "    <tr>\n",
       "      <th>20</th>\n",
       "      <td>EPLCAL</td>\n",
       "      <td>Calder</td>\n",
       "      <td>12710 - 131 Avenue NW</td>\n",
       "      <td>53.590515</td>\n",
       "      <td>-113.542369</td>\n",
       "    </tr>\n",
       "    <tr>\n",
       "      <th>12</th>\n",
       "      <td>EPLCLV</td>\n",
       "      <td>Clareview</td>\n",
       "      <td>3808 - 139 Avenue</td>\n",
       "      <td>53.601302</td>\n",
       "      <td>-113.401769</td>\n",
       "    </tr>\n",
       "    <tr>\n",
       "      <th>14</th>\n",
       "      <td>EPLCPL</td>\n",
       "      <td>Capilano</td>\n",
       "      <td>9915 - 67 Street</td>\n",
       "      <td>53.537896</td>\n",
       "      <td>-113.419927</td>\n",
       "    </tr>\n",
       "    <tr>\n",
       "      <th>11</th>\n",
       "      <td>EPLCSD</td>\n",
       "      <td>Castle Downs</td>\n",
       "      <td>106 Lakeside Landing, 15379 Castle Downs Rd</td>\n",
       "      <td>53.615736</td>\n",
       "      <td>-113.516633</td>\n",
       "    </tr>\n",
       "  </tbody>\n",
       "</table>\n",
       "</div>"
      ],
      "text/plain": [
       "   Branch ID                      Branch  \\\n",
       "7     EPLABB  Abbottsfield - Penny McKee   \n",
       "20    EPLCAL                      Calder   \n",
       "12    EPLCLV                   Clareview   \n",
       "14    EPLCPL                    Capilano   \n",
       "11    EPLCSD                Castle Downs   \n",
       "\n",
       "                                        Address   Latitude   Longitude  \n",
       "7                             3410 - 118 Avenue  53.570451 -113.391518  \n",
       "20                        12710 - 131 Avenue NW  53.590515 -113.542369  \n",
       "12                            3808 - 139 Avenue  53.601302 -113.401769  \n",
       "14                             9915 - 67 Street  53.537896 -113.419927  \n",
       "11  106 Lakeside Landing, 15379 Castle Downs Rd  53.615736 -113.516633  "
      ]
     },
     "execution_count": 4,
     "metadata": {},
     "output_type": "execute_result"
    }
   ],
   "source": [
    "#getting the addresses of the branches \n",
    "branch_info = pd.read_csv('Public_Libraries.csv')\n",
    "keep_columns = ['Branch ID', 'Branch', 'Address', 'Latitude', 'Longitude']\n",
    "branch_info = branch_info[keep_columns]\n",
    "\n",
    "branch_info.sort_values('Branch ID').head()"
   ]
  },
  {
   "cell_type": "markdown",
   "metadata": {},
   "source": [
    "### Overall look on data disponibility"
   ]
  },
  {
   "cell_type": "markdown",
   "metadata": {},
   "source": [
    "**Additional dataset** (branch informations)"
   ]
  },
  {
   "cell_type": "code",
   "execution_count": 5,
   "metadata": {},
   "outputs": [
    {
     "data": {
      "text/html": [
       "<div>\n",
       "<style scoped>\n",
       "    .dataframe tbody tr th:only-of-type {\n",
       "        vertical-align: middle;\n",
       "    }\n",
       "\n",
       "    .dataframe tbody tr th {\n",
       "        vertical-align: top;\n",
       "    }\n",
       "\n",
       "    .dataframe thead th {\n",
       "        text-align: right;\n",
       "    }\n",
       "</style>\n",
       "<table border=\"1\" class=\"dataframe\">\n",
       "  <thead>\n",
       "    <tr style=\"text-align: right;\">\n",
       "      <th></th>\n",
       "      <th>Branch ID</th>\n",
       "      <th>Branch</th>\n",
       "      <th>Address</th>\n",
       "      <th>Latitude</th>\n",
       "      <th>Longitude</th>\n",
       "    </tr>\n",
       "  </thead>\n",
       "  <tbody>\n",
       "    <tr>\n",
       "      <th>count</th>\n",
       "      <td>21</td>\n",
       "      <td>21</td>\n",
       "      <td>21</td>\n",
       "      <td>21</td>\n",
       "      <td>21</td>\n",
       "    </tr>\n",
       "    <tr>\n",
       "      <th>unique</th>\n",
       "      <td>21</td>\n",
       "      <td>21</td>\n",
       "      <td>21</td>\n",
       "      <td>-</td>\n",
       "      <td>-</td>\n",
       "    </tr>\n",
       "  </tbody>\n",
       "</table>\n",
       "</div>"
      ],
      "text/plain": [
       "       Branch ID Branch Address Latitude Longitude\n",
       "count         21     21      21       21        21\n",
       "unique        21     21      21        -         -"
      ]
     },
     "execution_count": 5,
     "metadata": {},
     "output_type": "execute_result"
    }
   ],
   "source": [
    "include =['object', 'float', 'int'] \n",
    "branch_info.describe(include = include).fillna('-').loc[['count', 'unique'], :]"
   ]
  },
  {
   "cell_type": "markdown",
   "metadata": {},
   "source": [
    "Very well rounded and clean, should serve as a model for the number of branches and looking to the main dataset."
   ]
  },
  {
   "cell_type": "markdown",
   "metadata": {},
   "source": [
    "**Main dataset**"
   ]
  },
  {
   "cell_type": "code",
   "execution_count": 6,
   "metadata": {
    "scrolled": true
   },
   "outputs": [
    {
     "name": "stdout",
     "output_type": "stream",
     "text": [
      "This dataset has 32300 lines.\n"
     ]
    },
    {
     "data": {
      "text/html": [
       "<style  type=\"text/css\" >\n",
       "    #T_3ed4b86c_510d_11ea_97b0_acde48001122row0_col5 {\n",
       "            background-color:  yellow;\n",
       "        }    #T_3ed4b86c_510d_11ea_97b0_acde48001122row0_col8 {\n",
       "            background-color:  yellow;\n",
       "        }    #T_3ed4b86c_510d_11ea_97b0_acde48001122row0_col9 {\n",
       "            background-color:  yellow;\n",
       "        }    #T_3ed4b86c_510d_11ea_97b0_acde48001122row1_col1 {\n",
       "            background-color:  #ffaaaa;\n",
       "        }    #T_3ed4b86c_510d_11ea_97b0_acde48001122row1_col2 {\n",
       "            background-color:  #ffaaaa;\n",
       "        }</style><table id=\"T_3ed4b86c_510d_11ea_97b0_acde48001122\" ><thead>    <tr>        <th class=\"blank level0\" ></th>        <th class=\"col_heading level0 col0\" >row_id</th>        <th class=\"col_heading level0 col1\" >branch_id</th>        <th class=\"col_heading level0 col2\" >branch_name</th>        <th class=\"col_heading level0 col3\" >holds</th>        <th class=\"col_heading level0 col4\" >title</th>        <th class=\"col_heading level0 col5\" >author</th>        <th class=\"col_heading level0 col6\" >date</th>        <th class=\"col_heading level0 col7\" >url</th>        <th class=\"col_heading level0 col8\" >genre</th>        <th class=\"col_heading level0 col9\" >google_rating</th>        <th class=\"col_heading level0 col10\" >publishing_Date</th>    </tr></thead><tbody>\n",
       "                <tr>\n",
       "                        <th id=\"T_3ed4b86c_510d_11ea_97b0_acde48001122level0_row0\" class=\"row_heading level0 row0\" >count</th>\n",
       "                        <td id=\"T_3ed4b86c_510d_11ea_97b0_acde48001122row0_col0\" class=\"data row0 col0\" >32300</td>\n",
       "                        <td id=\"T_3ed4b86c_510d_11ea_97b0_acde48001122row0_col1\" class=\"data row0 col1\" >32300</td>\n",
       "                        <td id=\"T_3ed4b86c_510d_11ea_97b0_acde48001122row0_col2\" class=\"data row0 col2\" >32300</td>\n",
       "                        <td id=\"T_3ed4b86c_510d_11ea_97b0_acde48001122row0_col3\" class=\"data row0 col3\" >32300.000000</td>\n",
       "                        <td id=\"T_3ed4b86c_510d_11ea_97b0_acde48001122row0_col4\" class=\"data row0 col4\" >32300</td>\n",
       "                        <td id=\"T_3ed4b86c_510d_11ea_97b0_acde48001122row0_col5\" class=\"data row0 col5\" >32134</td>\n",
       "                        <td id=\"T_3ed4b86c_510d_11ea_97b0_acde48001122row0_col6\" class=\"data row0 col6\" >32300</td>\n",
       "                        <td id=\"T_3ed4b86c_510d_11ea_97b0_acde48001122row0_col7\" class=\"data row0 col7\" >32300</td>\n",
       "                        <td id=\"T_3ed4b86c_510d_11ea_97b0_acde48001122row0_col8\" class=\"data row0 col8\" >32289</td>\n",
       "                        <td id=\"T_3ed4b86c_510d_11ea_97b0_acde48001122row0_col9\" class=\"data row0 col9\" >23963.000000</td>\n",
       "                        <td id=\"T_3ed4b86c_510d_11ea_97b0_acde48001122row0_col10\" class=\"data row0 col10\" >32300.000000</td>\n",
       "            </tr>\n",
       "            <tr>\n",
       "                        <th id=\"T_3ed4b86c_510d_11ea_97b0_acde48001122level0_row1\" class=\"row_heading level0 row1\" >unique</th>\n",
       "                        <td id=\"T_3ed4b86c_510d_11ea_97b0_acde48001122row1_col0\" class=\"data row1 col0\" >32300</td>\n",
       "                        <td id=\"T_3ed4b86c_510d_11ea_97b0_acde48001122row1_col1\" class=\"data row1 col1\" >22</td>\n",
       "                        <td id=\"T_3ed4b86c_510d_11ea_97b0_acde48001122row1_col2\" class=\"data row1 col2\" >48</td>\n",
       "                        <td id=\"T_3ed4b86c_510d_11ea_97b0_acde48001122row1_col3\" class=\"data row1 col3\" >0.000000</td>\n",
       "                        <td id=\"T_3ed4b86c_510d_11ea_97b0_acde48001122row1_col4\" class=\"data row1 col4\" >3312</td>\n",
       "                        <td id=\"T_3ed4b86c_510d_11ea_97b0_acde48001122row1_col5\" class=\"data row1 col5\" >2375</td>\n",
       "                        <td id=\"T_3ed4b86c_510d_11ea_97b0_acde48001122row1_col6\" class=\"data row1 col6\" >165</td>\n",
       "                        <td id=\"T_3ed4b86c_510d_11ea_97b0_acde48001122row1_col7\" class=\"data row1 col7\" >3414</td>\n",
       "                        <td id=\"T_3ed4b86c_510d_11ea_97b0_acde48001122row1_col8\" class=\"data row1 col8\" >111</td>\n",
       "                        <td id=\"T_3ed4b86c_510d_11ea_97b0_acde48001122row1_col9\" class=\"data row1 col9\" >0.000000</td>\n",
       "                        <td id=\"T_3ed4b86c_510d_11ea_97b0_acde48001122row1_col10\" class=\"data row1 col10\" >0.000000</td>\n",
       "            </tr>\n",
       "    </tbody></table>"
      ],
      "text/plain": [
       "<pandas.io.formats.style.Styler at 0x102abe250>"
      ]
     },
     "execution_count": 6,
     "metadata": {},
     "output_type": "execute_result"
    }
   ],
   "source": [
    "total_lines = len(root_data)\n",
    "print('This dataset has {} lines.'.format(total_lines))\n",
    "\n",
    "\n",
    "def line_highlight_count(s):\n",
    "    '''\n",
    "    take a series and scalar and highlight if number of lines is less the total number of lines\n",
    "    '''\n",
    "    col = s < total_lines\n",
    "    return ['background-color: yellow' if v else '' for v in col]\n",
    "\n",
    "def line_highlight_unique(s):\n",
    "    '''\n",
    "    take a series and scalar and highlight if number of branches is more than branch info dataset\n",
    "    '''\n",
    "    col = s > 21\n",
    "    return ['background-color: #ffaaaa' if v else '' for v in col]\n",
    "\n",
    "include =['object', 'float', 'int'] \n",
    "desc = root_data.describe(include = include).fillna(0).loc[['count', 'unique'], :]\n",
    "desc = desc.style.apply(line_highlight_count, axis=1, subset=pd.IndexSlice['count', :])\n",
    "desc = desc.apply(line_highlight_unique, axis=1, subset=pd.IndexSlice['unique', ['branch_id', 'branch_name']])\n",
    "desc"
   ]
  },
  {
   "cell_type": "markdown",
   "metadata": {},
   "source": [
    "### Identifying data structure and flaws"
   ]
  },
  {
   "cell_type": "markdown",
   "metadata": {},
   "source": [
    "#### Missing data"
   ]
  },
  {
   "cell_type": "code",
   "execution_count": 7,
   "metadata": {},
   "outputs": [
    {
     "data": {
      "text/plain": [
       "row_id                0.0\n",
       "branch_id             0.0\n",
       "branch_name           0.0\n",
       "holds                 0.0\n",
       "title                 0.0\n",
       "author             -166.0\n",
       "date                  0.0\n",
       "url                   0.0\n",
       "genre               -11.0\n",
       "google_rating     -8337.0\n",
       "publishing_Date       0.0\n",
       "Name: count, dtype: float64"
      ]
     },
     "execution_count": 7,
     "metadata": {},
     "output_type": "execute_result"
    }
   ],
   "source": [
    "mis = root_data.describe(include = include).fillna(0).loc[['count'], :]\n",
    "mis.loc['count',:].apply(lambda cel: cel-total_lines if (total_lines-cel)>=0 else 0 )"
   ]
  },
  {
   "cell_type": "markdown",
   "metadata": {},
   "source": [
    "So, the most compromised feature here is **google_rating** with approximately 25% of the total data being of NaN values."
   ]
  },
  {
   "cell_type": "markdown",
   "metadata": {},
   "source": [
    "#### Understanding genre labeling and consistency"
   ]
  },
  {
   "cell_type": "code",
   "execution_count": 10,
   "metadata": {},
   "outputs": [
    {
     "name": "stdout",
     "output_type": "stream",
     "text": [
      "\n",
      " - initials: \n",
      "['-']\n",
      "\n",
      " A initials: \n",
      "['Alphabet books', 'Amigurumi', 'Animals', 'Architecture', 'Art', 'Automobile driving']\n",
      "\n",
      " B initials: \n",
      "['Bears', 'Bibles', 'Bildungsromans', 'Biography & Autobiography', 'Biology', 'Board books', 'Body, Mind & Spirit', 'Brothers and sisters', 'Business & Economics', 'Business ethics']\n",
      "\n",
      " C initials: \n",
      "['Canada', 'Cats', 'Children of divorced parents', \"Children's songs\", \"Children's stories\", 'Comic books, strips, etc', 'Comics & Graphic Novels', 'Community life', 'Computer adventure games', 'Computers', 'Conduct of life', 'Control (Psychology)', 'Cooking', 'Cooking, American', 'Crafts & Hobbies', 'Curiosities and wonders']\n",
      "\n",
      " D initials: \n",
      "['Design', 'Diaries', 'Diary of a wimpy kid (Motion picture)', 'Diesel fuels', 'Drama', 'Drugs']\n",
      "\n",
      " E initials: \n",
      "['Education', 'Education, Secondary', 'Educational tests and measurements', 'Electric apparatus and appliances', 'Electronic books', 'Elephants', 'Encyclopedias and dictionaries', 'English language', 'English literature']\n",
      "\n",
      " F initials: \n",
      "['Family & Relationships', 'Fantasy', 'Fathers and daughters', 'Fiction', 'Foreign Language Study']\n",
      "\n",
      " G initials: \n",
      "['Games', 'Games & Activities', 'Gardening', 'Ghosts', 'Go (Game)']\n",
      "\n",
      " H initials: \n",
      "['Health & Fitness', 'History', 'Holy Spirit', 'House & Home', 'Humor']\n",
      "\n",
      " I initials: \n",
      "['Imaginary places', 'Indigenous peoples', 'Interpersonal communication', 'Interpersonal relations', 'Investissements']\n",
      "\n",
      " J initials: \n",
      "['Journalism', 'Juvenile Fiction', 'Juvenile Nonfiction']\n",
      "\n",
      " L initials: \n",
      "['LITERARY CRITICISM', 'Language Arts & Disciplines', 'Language arts (Secondary)', 'Law', 'Literary Collections', 'Literary Criticism']\n",
      "\n",
      " M initials: \n",
      "['Magicians', 'Mathematics', 'Medical', 'Mountaineers', 'Munich (Germany)', 'Music']\n",
      "\n",
      " N initials: \n",
      "['Nature']\n",
      "\n",
      " P initials: \n",
      "['Performing Arts', 'Pets', 'Philosophy', 'Photography', 'Poetry', 'Political Science', 'Political persecution', 'Postage stamps', 'Psychology']\n",
      "\n",
      " R initials: \n",
      "['Readers', 'Reference', 'Religion', 'Resorts']\n",
      "\n",
      " S initials: \n",
      "['Science', 'Secondhand trade', 'Self-Help', 'Self-actualization (Psychology) in women', 'Social Science', 'Sports & Recreation', 'Study Aids']\n",
      "\n",
      " T initials: \n",
      "['Technology', 'Technology & Engineering', 'Transportation', 'Travel', 'True Crime']\n",
      "\n",
      " W initials: \n",
      "['Welding']\n",
      "\n",
      " Y initials: \n",
      "['Young Adult Fiction', 'Young Adult Nonfiction']\n"
     ]
    }
   ],
   "source": [
    "# Lets now look for similar named genres or weird genre labelings\n",
    "genres_rf = list(root_data['genre'].fillna('-').unique())\n",
    "\n",
    "genre_inits = defaultdict(list)\n",
    "for genre in genres_rf:\n",
    "    genre_inits[genre[0].upper()].append(genre)\n",
    "\n",
    "for key in sorted(genre_inits.keys()):\n",
    "    print('\\n {} initials: '.format(key))\n",
    "    print(sorted(genre_inits[key]))"
   ]
  },
  {
   "cell_type": "code",
   "execution_count": 15,
   "metadata": {},
   "outputs": [
    {
     "data": {
      "text/plain": [
       "array(['Paper towns'], dtype=object)"
      ]
     },
     "execution_count": 15,
     "metadata": {},
     "output_type": "execute_result"
    }
   ],
   "source": [
    "# Bildungsromans genre? what is that?\n",
    "\n",
    "bildun = root_data[root_data.genre == 'Bildungsromans']\n",
    "bildun.title.unique()"
   ]
  },
  {
   "cell_type": "markdown",
   "metadata": {},
   "source": [
    "Paper towns is a John Greene Young Adult Fiction book, mislabeled as this strange name, so we will need to fix it."
   ]
  },
  {
   "cell_type": "markdown",
   "metadata": {},
   "source": [
    "Although this could be very personal based, there seems some cases where we can intervene:\n",
    "\n",
    "**Weird labeling:**\n",
    "- Bildungsromans : as Young Adult Fiction\n",
    "\n",
    "**Similar labeling:**\n",
    "- Business & Economics and Business ethics : as Business\n",
    "- Children of divorced parents , Children's songs , Children's stories : as Children\n",
    "- 'Cooking', 'Cooking, American': as Cooking\n",
    "- 'Education', 'Education, Secondary', 'Educational tests and measurements' : as Education\n",
    "- 'Games', 'Games & Activities', 'Go (Game)' : as Games\n",
    "- 'Literary Criticism' , 'LITERARY CRITICISM' : as  Literary Criticism\n",
    "- Self-actualization (Psychology) in women', 'Control (Psychology)' , 'Psychology': as Psychology\n",
    "- 'Study Aids', 'Medical' : as Medical"
   ]
  },
  {
   "cell_type": "code",
   "execution_count": 17,
   "metadata": {},
   "outputs": [
    {
     "data": {
      "text/html": [
       "<div>\n",
       "<style scoped>\n",
       "    .dataframe tbody tr th:only-of-type {\n",
       "        vertical-align: middle;\n",
       "    }\n",
       "\n",
       "    .dataframe tbody tr th {\n",
       "        vertical-align: top;\n",
       "    }\n",
       "\n",
       "    .dataframe thead th {\n",
       "        text-align: right;\n",
       "    }\n",
       "</style>\n",
       "<table border=\"1\" class=\"dataframe\">\n",
       "  <thead>\n",
       "    <tr style=\"text-align: right;\">\n",
       "      <th></th>\n",
       "      <th>row_id</th>\n",
       "      <th>branch_id</th>\n",
       "      <th>branch_name</th>\n",
       "      <th>holds</th>\n",
       "      <th>title</th>\n",
       "      <th>author</th>\n",
       "      <th>date</th>\n",
       "      <th>url</th>\n",
       "      <th>genre</th>\n",
       "      <th>google_rating</th>\n",
       "      <th>publishing_Date</th>\n",
       "      <th>genre_fixed</th>\n",
       "    </tr>\n",
       "  </thead>\n",
       "  <tbody>\n",
       "    <tr>\n",
       "      <th>8</th>\n",
       "      <td>EPLLON20150316Paper towns / by John Green</td>\n",
       "      <td>EPLLON</td>\n",
       "      <td>Londonderry Branch</td>\n",
       "      <td>10</td>\n",
       "      <td>Paper towns</td>\n",
       "      <td>Green John</td>\n",
       "      <td>03/16/2015 12:00:00 AM</td>\n",
       "      <td>http://epl.bibliocommons.com/search?t=smart&amp;q=...</td>\n",
       "      <td>Bildungsromans</td>\n",
       "      <td>4.0</td>\n",
       "      <td>2012.0</td>\n",
       "      <td>Young Adult Fiction</td>\n",
       "    </tr>\n",
       "    <tr>\n",
       "      <th>200</th>\n",
       "      <td>EPLLON20150309Paper towns / by John Green</td>\n",
       "      <td>EPLLON</td>\n",
       "      <td>Londonderry Branch</td>\n",
       "      <td>12</td>\n",
       "      <td>Paper towns</td>\n",
       "      <td>Green John</td>\n",
       "      <td>03/09/2015 12:00:00 AM</td>\n",
       "      <td>http://epl.bibliocommons.com/search?t=smart&amp;q=...</td>\n",
       "      <td>Bildungsromans</td>\n",
       "      <td>4.0</td>\n",
       "      <td>2012.0</td>\n",
       "      <td>Young Adult Fiction</td>\n",
       "    </tr>\n",
       "    <tr>\n",
       "      <th>472</th>\n",
       "      <td>EPLLON20150302Paper towns / by John Green</td>\n",
       "      <td>EPLLON</td>\n",
       "      <td>Londonderry Branch</td>\n",
       "      <td>13</td>\n",
       "      <td>Paper towns</td>\n",
       "      <td>Green John</td>\n",
       "      <td>03/02/2015 12:00:00 AM</td>\n",
       "      <td>http://epl.bibliocommons.com/search?t=smart&amp;q=...</td>\n",
       "      <td>Bildungsromans</td>\n",
       "      <td>4.0</td>\n",
       "      <td>2012.0</td>\n",
       "      <td>Young Adult Fiction</td>\n",
       "    </tr>\n",
       "    <tr>\n",
       "      <th>870</th>\n",
       "      <td>EPLLON20150209Paper towns / by John Green</td>\n",
       "      <td>EPLLON</td>\n",
       "      <td>Londonderry Branch</td>\n",
       "      <td>13</td>\n",
       "      <td>Paper towns</td>\n",
       "      <td>Green John</td>\n",
       "      <td>02/09/2015 12:00:00 AM</td>\n",
       "      <td>http://epl.bibliocommons.com/search?t=smart&amp;q=...</td>\n",
       "      <td>Bildungsromans</td>\n",
       "      <td>4.0</td>\n",
       "      <td>2012.0</td>\n",
       "      <td>Young Adult Fiction</td>\n",
       "    </tr>\n",
       "    <tr>\n",
       "      <th>1117</th>\n",
       "      <td>EPLLON20150202Paper towns / by John Green</td>\n",
       "      <td>EPLLON</td>\n",
       "      <td>Londonderry Branch</td>\n",
       "      <td>14</td>\n",
       "      <td>Paper towns</td>\n",
       "      <td>Green John</td>\n",
       "      <td>02/02/2015 12:00:00 AM</td>\n",
       "      <td>http://epl.bibliocommons.com/search?t=smart&amp;q=...</td>\n",
       "      <td>Bildungsromans</td>\n",
       "      <td>4.0</td>\n",
       "      <td>2012.0</td>\n",
       "      <td>Young Adult Fiction</td>\n",
       "    </tr>\n",
       "  </tbody>\n",
       "</table>\n",
       "</div>"
      ],
      "text/plain": [
       "                                         row_id branch_id         branch_name  \\\n",
       "8     EPLLON20150316Paper towns / by John Green    EPLLON  Londonderry Branch   \n",
       "200   EPLLON20150309Paper towns / by John Green    EPLLON  Londonderry Branch   \n",
       "472   EPLLON20150302Paper towns / by John Green    EPLLON  Londonderry Branch   \n",
       "870   EPLLON20150209Paper towns / by John Green    EPLLON  Londonderry Branch   \n",
       "1117  EPLLON20150202Paper towns / by John Green    EPLLON  Londonderry Branch   \n",
       "\n",
       "      holds        title      author                    date  \\\n",
       "8        10  Paper towns  Green John  03/16/2015 12:00:00 AM   \n",
       "200      12  Paper towns  Green John  03/09/2015 12:00:00 AM   \n",
       "472      13  Paper towns  Green John  03/02/2015 12:00:00 AM   \n",
       "870      13  Paper towns  Green John  02/09/2015 12:00:00 AM   \n",
       "1117     14  Paper towns  Green John  02/02/2015 12:00:00 AM   \n",
       "\n",
       "                                                    url           genre  \\\n",
       "8     http://epl.bibliocommons.com/search?t=smart&q=...  Bildungsromans   \n",
       "200   http://epl.bibliocommons.com/search?t=smart&q=...  Bildungsromans   \n",
       "472   http://epl.bibliocommons.com/search?t=smart&q=...  Bildungsromans   \n",
       "870   http://epl.bibliocommons.com/search?t=smart&q=...  Bildungsromans   \n",
       "1117  http://epl.bibliocommons.com/search?t=smart&q=...  Bildungsromans   \n",
       "\n",
       "      google_rating  publishing_Date          genre_fixed  \n",
       "8               4.0           2012.0  Young Adult Fiction  \n",
       "200             4.0           2012.0  Young Adult Fiction  \n",
       "472             4.0           2012.0  Young Adult Fiction  \n",
       "870             4.0           2012.0  Young Adult Fiction  \n",
       "1117            4.0           2012.0  Young Adult Fiction  "
      ]
     },
     "execution_count": 17,
     "metadata": {},
     "output_type": "execute_result"
    }
   ],
   "source": [
    "# fixing some labels that are similar or weird\n",
    "genre_fix = {\n",
    "    'Bildungsromans' : 'Young Adult Fiction',\n",
    "    'Business & Economics' : 'Business',\n",
    "    'Business ethics' : 'Business',\n",
    "    'Children of divorced parents' : 'Children',\n",
    "    \"Children's songs\" : 'Children',\n",
    "    \"Children's stories\" : 'Children',\n",
    "    'Cooking, American' : 'Cooking',\n",
    "    'Education, Secondary' : 'Education', \n",
    "    'Educational tests and measurements': 'Education',\n",
    "    'Games & Activities': 'Games', \n",
    "    'Go (Game)' : 'Games',\n",
    "    'LITERARY CRITICISM' : 'Literary Criticism',\n",
    "    'Self-actualization (Psychology) in women' : 'Psychology',\n",
    "    'Control (Psychology)' : 'Psychology',\n",
    "    'Study Aids' : 'Medical'\n",
    "    }\n",
    "\n",
    "# creating a fixed genre column\n",
    "root_data['genre_fixed'] = root_data['genre'].apply(\n",
    "                                        lambda genre: genre_fix[genre] if genre in genre_fix.keys() else genre)\n",
    "\n",
    "root_data[root_data.genre == 'Bildungsromans'].head()"
   ]
  },
  {
   "cell_type": "code",
   "execution_count": 37,
   "metadata": {},
   "outputs": [
    {
     "data": {
      "image/png": "[encoded data removed]",
      "text/plain": [
       "<Figure size 864x576 with 1 Axes>"
      ]
     },
     "metadata": {
      "needs_background": "light"
     },
     "output_type": "display_data"
    }
   ],
   "source": [
    "#Understanding the distribution of the genre apearances\n",
    "\n",
    "genr = root_data[['genre_fixed']]\n",
    "genr_g = genr.groupby('genre_fixed').agg(genre_occur=('genre_fixed','size'))\n",
    "genr_g\n",
    "\n",
    "bins=[1,5,10,50,500,1000,10000,20000]\n",
    "\n",
    "count, bins, bar = plt.hist(genr_g.genre_occur, bins=bins)\n",
    "genre_hist = plt.hist(genr_g.genre_occur, bins=bins)"
   ]
  },
  {
   "cell_type": "markdown",
   "metadata": {},
   "source": [
    "A lot of genres with less than 5 appearances, this could be a fact of very specific genre selection or some problem with the genre brought by the API.\n",
    "\n",
    "To avoid data pollution, we are going these cases as **'Misc'** genre\n"
   ]
  },
  {
   "cell_type": "code",
   "execution_count": 35,
   "metadata": {},
   "outputs": [
    {
     "name": "stdout",
     "output_type": "stream",
     "text": [
      "Top 10 genre in appearances\n"
     ]
    },
    {
     "data": {
      "text/html": [
       "<div>\n",
       "<style scoped>\n",
       "    .dataframe tbody tr th:only-of-type {\n",
       "        vertical-align: middle;\n",
       "    }\n",
       "\n",
       "    .dataframe tbody tr th {\n",
       "        vertical-align: top;\n",
       "    }\n",
       "\n",
       "    .dataframe thead th {\n",
       "        text-align: right;\n",
       "    }\n",
       "</style>\n",
       "<table border=\"1\" class=\"dataframe\">\n",
       "  <thead>\n",
       "    <tr style=\"text-align: right;\">\n",
       "      <th></th>\n",
       "      <th>genre_occur</th>\n",
       "    </tr>\n",
       "    <tr>\n",
       "      <th>genre_fixed</th>\n",
       "      <th></th>\n",
       "    </tr>\n",
       "  </thead>\n",
       "  <tbody>\n",
       "    <tr>\n",
       "      <th>Fiction</th>\n",
       "      <td>17390</td>\n",
       "    </tr>\n",
       "    <tr>\n",
       "      <th>Biography &amp; Autobiography</th>\n",
       "      <td>2304</td>\n",
       "    </tr>\n",
       "    <tr>\n",
       "      <th>Juvenile Fiction</th>\n",
       "      <td>2043</td>\n",
       "    </tr>\n",
       "    <tr>\n",
       "      <th>House &amp; Home</th>\n",
       "      <td>1253</td>\n",
       "    </tr>\n",
       "    <tr>\n",
       "      <th>Cooking</th>\n",
       "      <td>1129</td>\n",
       "    </tr>\n",
       "    <tr>\n",
       "      <th>Young Adult Fiction</th>\n",
       "      <td>950</td>\n",
       "    </tr>\n",
       "    <tr>\n",
       "      <th>Self-Help</th>\n",
       "      <td>834</td>\n",
       "    </tr>\n",
       "    <tr>\n",
       "      <th>Foreign Language Study</th>\n",
       "      <td>696</td>\n",
       "    </tr>\n",
       "    <tr>\n",
       "      <th>Business</th>\n",
       "      <td>566</td>\n",
       "    </tr>\n",
       "    <tr>\n",
       "      <th>Health &amp; Fitness</th>\n",
       "      <td>558</td>\n",
       "    </tr>\n",
       "  </tbody>\n",
       "</table>\n",
       "</div>"
      ],
      "text/plain": [
       "                           genre_occur\n",
       "genre_fixed                           \n",
       "Fiction                          17390\n",
       "Biography & Autobiography         2304\n",
       "Juvenile Fiction                  2043\n",
       "House & Home                      1253\n",
       "Cooking                           1129\n",
       "Young Adult Fiction                950\n",
       "Self-Help                          834\n",
       "Foreign Language Study             696\n",
       "Business                           566\n",
       "Health & Fitness                   558"
      ]
     },
     "execution_count": 35,
     "metadata": {},
     "output_type": "execute_result"
    }
   ],
   "source": [
    "# gathering the genres with 1 occurance\n",
    "few_occur = genr_g.reset_index()\n",
    "five_less_genres = few_occur[few_occur['genre_occur'] <= 5].genre_fixed.tolist()\n",
    "\n",
    "#creating refined column for genre\n",
    "root_data['genre_fixed'] = root_data['genre_fixed'].apply(lambda g: 'Misc' if g in five_less_genres else g)\n",
    "\n",
    "gencheck = root_data[['genre_fixed']]\n",
    "gencheck = gencheck.groupby('genre_fixed').agg(genre_occur=('genre_fixed', 'size'))\n",
    "print('Top 10 genre in appearances')\n",
    "gencheck.sort_values('genre_occur', ascending=False).head(10)"
   ]
  },
  {
   "cell_type": "code",
   "execution_count": 36,
   "metadata": {},
   "outputs": [
    {
     "name": "stdout",
     "output_type": "stream",
     "text": [
      "Bottom 10 genre in appearances\n"
     ]
    },
    {
     "data": {
      "text/html": [
       "<div>\n",
       "<style scoped>\n",
       "    .dataframe tbody tr th:only-of-type {\n",
       "        vertical-align: middle;\n",
       "    }\n",
       "\n",
       "    .dataframe tbody tr th {\n",
       "        vertical-align: top;\n",
       "    }\n",
       "\n",
       "    .dataframe thead th {\n",
       "        text-align: right;\n",
       "    }\n",
       "</style>\n",
       "<table border=\"1\" class=\"dataframe\">\n",
       "  <thead>\n",
       "    <tr style=\"text-align: right;\">\n",
       "      <th></th>\n",
       "      <th>genre_occur</th>\n",
       "    </tr>\n",
       "    <tr>\n",
       "      <th>genre_fixed</th>\n",
       "      <th></th>\n",
       "    </tr>\n",
       "  </thead>\n",
       "  <tbody>\n",
       "    <tr>\n",
       "      <th>Language Arts &amp; Disciplines</th>\n",
       "      <td>11</td>\n",
       "    </tr>\n",
       "    <tr>\n",
       "      <th>Photography</th>\n",
       "      <td>11</td>\n",
       "    </tr>\n",
       "    <tr>\n",
       "      <th>Games</th>\n",
       "      <td>10</td>\n",
       "    </tr>\n",
       "    <tr>\n",
       "      <th>Biology</th>\n",
       "      <td>9</td>\n",
       "    </tr>\n",
       "    <tr>\n",
       "      <th>Drugs</th>\n",
       "      <td>8</td>\n",
       "    </tr>\n",
       "    <tr>\n",
       "      <th>Language arts (Secondary)</th>\n",
       "      <td>7</td>\n",
       "    </tr>\n",
       "    <tr>\n",
       "      <th>Board books</th>\n",
       "      <td>7</td>\n",
       "    </tr>\n",
       "    <tr>\n",
       "      <th>Munich (Germany)</th>\n",
       "      <td>6</td>\n",
       "    </tr>\n",
       "    <tr>\n",
       "      <th>Holy Spirit</th>\n",
       "      <td>6</td>\n",
       "    </tr>\n",
       "    <tr>\n",
       "      <th>Political persecution</th>\n",
       "      <td>6</td>\n",
       "    </tr>\n",
       "  </tbody>\n",
       "</table>\n",
       "</div>"
      ],
      "text/plain": [
       "                             genre_occur\n",
       "genre_fixed                             \n",
       "Language Arts & Disciplines           11\n",
       "Photography                           11\n",
       "Games                                 10\n",
       "Biology                                9\n",
       "Drugs                                  8\n",
       "Language arts (Secondary)              7\n",
       "Board books                            7\n",
       "Munich (Germany)                       6\n",
       "Holy Spirit                            6\n",
       "Political persecution                  6"
      ]
     },
     "execution_count": 36,
     "metadata": {},
     "output_type": "execute_result"
    }
   ],
   "source": [
    "print('Bottom 10 genre in appearances')\n",
    "gencheck.sort_values('genre_occur', ascending=False).tail(10)"
   ]
  },
  {
   "cell_type": "markdown",
   "metadata": {},
   "source": [
    "We are still skewed for fiction, but at least our bottom is not populated with a lot of very specific genres with very small appearance numbers."
   ]
  },
  {
   "cell_type": "markdown",
   "metadata": {},
   "source": [
    "#### Overwall Look into Publishing Date feature"
   ]
  },
  {
   "cell_type": "code",
   "execution_count": 40,
   "metadata": {},
   "outputs": [
    {
     "data": {
      "text/plain": [
       "publishing_Date\n",
       "17.0         1\n",
       "1746.0       1\n",
       "1852.0       1\n",
       "1857.0       2\n",
       "1887.0       1\n",
       "1891.0       5\n",
       "1956.0       2\n",
       "1959.0       1\n",
       "1961.0       1\n",
       "1962.0       1\n",
       "1963.0       1\n",
       "1965.0       5\n",
       "1967.0       5\n",
       "1968.0      13\n",
       "1969.0       2\n",
       "1973.0       3\n",
       "1975.0       9\n",
       "1977.0       1\n",
       "1979.0       1\n",
       "1982.0       2\n",
       "1983.0       1\n",
       "1984.0       1\n",
       "1985.0      22\n",
       "1986.0       3\n",
       "1987.0       1\n",
       "1989.0       1\n",
       "1991.0       1\n",
       "1992.0       3\n",
       "1993.0      32\n",
       "1996.0      19\n",
       "1997.0      35\n",
       "1998.0      12\n",
       "1999.0      46\n",
       "2000.0      65\n",
       "2001.0     139\n",
       "2002.0     721\n",
       "2003.0      87\n",
       "2004.0     249\n",
       "2005.0      93\n",
       "2006.0      70\n",
       "2007.0     152\n",
       "2008.0     199\n",
       "2009.0     338\n",
       "2010.0     490\n",
       "2011.0     620\n",
       "2012.0     593\n",
       "2013.0    1007\n",
       "2014.0    3313\n",
       "2015.0    5530\n",
       "2016.0    6935\n",
       "2017.0    5464\n",
       "2018.0    4256\n",
       "2019.0    1627\n",
       "2020.0     117\n",
       "dtype: int64"
      ]
     },
     "execution_count": 40,
     "metadata": {},
     "output_type": "execute_result"
    }
   ],
   "source": [
    "pub = root_data[['publishing_Date']]\n",
    "pub_g = pub.groupby(['publishing_Date']).size()\n",
    "pub_g"
   ]
  },
  {
   "cell_type": "markdown",
   "metadata": {},
   "source": [
    "We have a 17 year value, lets check and see if it needs a fix."
   ]
  },
  {
   "cell_type": "code",
   "execution_count": 41,
   "metadata": {},
   "outputs": [
    {
     "data": {
      "text/html": [
       "<div>\n",
       "<style scoped>\n",
       "    .dataframe tbody tr th:only-of-type {\n",
       "        vertical-align: middle;\n",
       "    }\n",
       "\n",
       "    .dataframe tbody tr th {\n",
       "        vertical-align: top;\n",
       "    }\n",
       "\n",
       "    .dataframe thead th {\n",
       "        text-align: right;\n",
       "    }\n",
       "</style>\n",
       "<table border=\"1\" class=\"dataframe\">\n",
       "  <thead>\n",
       "    <tr style=\"text-align: right;\">\n",
       "      <th></th>\n",
       "      <th>row_id</th>\n",
       "      <th>branch_id</th>\n",
       "      <th>branch_name</th>\n",
       "      <th>holds</th>\n",
       "      <th>title</th>\n",
       "      <th>author</th>\n",
       "      <th>date</th>\n",
       "      <th>url</th>\n",
       "      <th>genre</th>\n",
       "      <th>google_rating</th>\n",
       "      <th>publishing_Date</th>\n",
       "      <th>genre_fixed</th>\n",
       "    </tr>\n",
       "  </thead>\n",
       "  <tbody>\n",
       "    <tr>\n",
       "      <th>22122</th>\n",
       "      <td>EPLHIG20171030Whipped / by William Deverell</td>\n",
       "      <td>EPLHIG</td>\n",
       "      <td>Highlands</td>\n",
       "      <td>24</td>\n",
       "      <td>Whipped</td>\n",
       "      <td>Deverell William</td>\n",
       "      <td>10/30/2017 12:00:00 AM</td>\n",
       "      <td>http://epl.bibliocommons.com/search?t=smart&amp;q=...</td>\n",
       "      <td>Fiction</td>\n",
       "      <td>2.0</td>\n",
       "      <td>17.0</td>\n",
       "      <td>Fiction</td>\n",
       "    </tr>\n",
       "  </tbody>\n",
       "</table>\n",
       "</div>"
      ],
      "text/plain": [
       "                                            row_id branch_id branch_name  \\\n",
       "22122  EPLHIG20171030Whipped / by William Deverell    EPLHIG   Highlands   \n",
       "\n",
       "       holds    title            author                    date  \\\n",
       "22122     24  Whipped  Deverell William  10/30/2017 12:00:00 AM   \n",
       "\n",
       "                                                     url    genre  \\\n",
       "22122  http://epl.bibliocommons.com/search?t=smart&q=...  Fiction   \n",
       "\n",
       "       google_rating  publishing_Date genre_fixed  \n",
       "22122            2.0             17.0     Fiction  "
      ]
     },
     "execution_count": 41,
     "metadata": {},
     "output_type": "execute_result"
    }
   ],
   "source": [
    "root_data[root_data.publishing_Date==17]"
   ]
  },
  {
   "cell_type": "markdown",
   "metadata": {},
   "source": [
    "Ok, seems is an error of year format. Whipped by Deverell William is a book published in 2017. Let's just make a manual fix"
   ]
  },
  {
   "cell_type": "code",
   "execution_count": 45,
   "metadata": {},
   "outputs": [
    {
     "data": {
      "text/plain": [
       "2017.0"
      ]
     },
     "execution_count": 45,
     "metadata": {},
     "output_type": "execute_result"
    }
   ],
   "source": [
    "root_data.loc[22122,'publishing_Date'] = 2017\n",
    "root_data.loc[22122,'publishing_Date']"
   ]
  },
  {
   "cell_type": "code",
   "execution_count": 47,
   "metadata": {},
   "outputs": [
    {
     "data": {
      "text/plain": [
       "(array([1.000e+00, 0.000e+00, 0.000e+00, 1.000e+00, 2.000e+00, 6.000e+00,\n",
       "        0.000e+00, 1.100e+01, 6.900e+01, 3.221e+04]),\n",
       " array([1746. , 1773.4, 1800.8, 1828.2, 1855.6, 1883. , 1910.4, 1937.8,\n",
       "        1965.2, 1992.6, 2020. ]),\n",
       " <a list of 10 Patch objects>)"
      ]
     },
     "execution_count": 47,
     "metadata": {},
     "output_type": "execute_result"
    },
    {
     "data": {
      "image/png": "[encoded data removed]",
      "text/plain": [
       "<Figure size 864x576 with 1 Axes>"
      ]
     },
     "metadata": {
      "needs_background": "light"
     },
     "output_type": "display_data"
    }
   ],
   "source": [
    "# lets just plot a hist for publishing_Date\n",
    "\n",
    "plt.hist(root_data.publishing_Date)"
   ]
  },
  {
   "cell_type": "markdown",
   "metadata": {},
   "source": [
    "#### Branch number inconsistent with additional dataset"
   ]
  },
  {
   "cell_type": "markdown",
   "metadata": {},
   "source": [
    "Also, it seems that we have a **dislignment concerning the number of branches ids and names (red highlight) with the additional dataset**. \n",
    "\n",
    "Let's investigate and fix it."
   ]
  },
  {
   "cell_type": "code",
   "execution_count": 48,
   "metadata": {},
   "outputs": [
    {
     "data": {
      "text/html": [
       "<style  type=\"text/css\" >\n",
       "    #T_fe68d5c6_5114_11ea_97b0_acde48001122row1_col2 {\n",
       "            background-color:  red;\n",
       "        }    #T_fe68d5c6_5114_11ea_97b0_acde48001122row1_col3 {\n",
       "            background-color:  red;\n",
       "        }    #T_fe68d5c6_5114_11ea_97b0_acde48001122row15_col2 {\n",
       "            background-color:  red;\n",
       "        }    #T_fe68d5c6_5114_11ea_97b0_acde48001122row15_col3 {\n",
       "            background-color:  red;\n",
       "        }    #T_fe68d5c6_5114_11ea_97b0_acde48001122row22_col0 {\n",
       "            background-color:  red;\n",
       "        }    #T_fe68d5c6_5114_11ea_97b0_acde48001122row22_col1 {\n",
       "            background-color:  red;\n",
       "        }</style><table id=\"T_fe68d5c6_5114_11ea_97b0_acde48001122\" ><thead>    <tr>        <th class=\"blank level0\" ></th>        <th class=\"col_heading level0 col0\" >branch_id</th>        <th class=\"col_heading level0 col1\" >branch_name</th>        <th class=\"col_heading level0 col2\" >Branch ID</th>        <th class=\"col_heading level0 col3\" >Branch</th>    </tr></thead><tbody>\n",
       "                <tr>\n",
       "                        <th id=\"T_fe68d5c6_5114_11ea_97b0_acde48001122level0_row0\" class=\"row_heading level0 row0\" >0</th>\n",
       "                        <td id=\"T_fe68d5c6_5114_11ea_97b0_acde48001122row0_col0\" class=\"data row0 col0\" >EPLLON</td>\n",
       "                        <td id=\"T_fe68d5c6_5114_11ea_97b0_acde48001122row0_col1\" class=\"data row0 col1\" >Londonderry Branch</td>\n",
       "                        <td id=\"T_fe68d5c6_5114_11ea_97b0_acde48001122row0_col2\" class=\"data row0 col2\" >EPLLON</td>\n",
       "                        <td id=\"T_fe68d5c6_5114_11ea_97b0_acde48001122row0_col3\" class=\"data row0 col3\" >Londonderry</td>\n",
       "            </tr>\n",
       "            <tr>\n",
       "                        <th id=\"T_fe68d5c6_5114_11ea_97b0_acde48001122level0_row1\" class=\"row_heading level0 row1\" >1</th>\n",
       "                        <td id=\"T_fe68d5c6_5114_11ea_97b0_acde48001122row1_col0\" class=\"data row1 col0\" >EPLMNA</td>\n",
       "                        <td id=\"T_fe68d5c6_5114_11ea_97b0_acde48001122row1_col1\" class=\"data row1 col1\" >Stanley A. Milner Library (Downtown)</td>\n",
       "                        <td id=\"T_fe68d5c6_5114_11ea_97b0_acde48001122row1_col2\" class=\"data row1 col2\" >nan</td>\n",
       "                        <td id=\"T_fe68d5c6_5114_11ea_97b0_acde48001122row1_col3\" class=\"data row1 col3\" >nan</td>\n",
       "            </tr>\n",
       "            <tr>\n",
       "                        <th id=\"T_fe68d5c6_5114_11ea_97b0_acde48001122level0_row2\" class=\"row_heading level0 row2\" >2</th>\n",
       "                        <td id=\"T_fe68d5c6_5114_11ea_97b0_acde48001122row2_col0\" class=\"data row2 col0\" >EPLMEA</td>\n",
       "                        <td id=\"T_fe68d5c6_5114_11ea_97b0_acde48001122row2_col1\" class=\"data row2 col1\" >Meadows Branch</td>\n",
       "                        <td id=\"T_fe68d5c6_5114_11ea_97b0_acde48001122row2_col2\" class=\"data row2 col2\" >EPLMEA</td>\n",
       "                        <td id=\"T_fe68d5c6_5114_11ea_97b0_acde48001122row2_col3\" class=\"data row2 col3\" >Meadows</td>\n",
       "            </tr>\n",
       "            <tr>\n",
       "                        <th id=\"T_fe68d5c6_5114_11ea_97b0_acde48001122level0_row3\" class=\"row_heading level0 row3\" >3</th>\n",
       "                        <td id=\"T_fe68d5c6_5114_11ea_97b0_acde48001122row3_col0\" class=\"data row3 col0\" >EPLABB</td>\n",
       "                        <td id=\"T_fe68d5c6_5114_11ea_97b0_acde48001122row3_col1\" class=\"data row3 col1\" >Abbottsfield - Penny McKee Branch</td>\n",
       "                        <td id=\"T_fe68d5c6_5114_11ea_97b0_acde48001122row3_col2\" class=\"data row3 col2\" >EPLABB</td>\n",
       "                        <td id=\"T_fe68d5c6_5114_11ea_97b0_acde48001122row3_col3\" class=\"data row3 col3\" >Abbottsfield - Penny McKee</td>\n",
       "            </tr>\n",
       "            <tr>\n",
       "                        <th id=\"T_fe68d5c6_5114_11ea_97b0_acde48001122level0_row4\" class=\"row_heading level0 row4\" >4</th>\n",
       "                        <td id=\"T_fe68d5c6_5114_11ea_97b0_acde48001122row4_col0\" class=\"data row4 col0\" >EPLCAL</td>\n",
       "                        <td id=\"T_fe68d5c6_5114_11ea_97b0_acde48001122row4_col1\" class=\"data row4 col1\" >Calder Branch</td>\n",
       "                        <td id=\"T_fe68d5c6_5114_11ea_97b0_acde48001122row4_col2\" class=\"data row4 col2\" >EPLCAL</td>\n",
       "                        <td id=\"T_fe68d5c6_5114_11ea_97b0_acde48001122row4_col3\" class=\"data row4 col3\" >Calder</td>\n",
       "            </tr>\n",
       "            <tr>\n",
       "                        <th id=\"T_fe68d5c6_5114_11ea_97b0_acde48001122level0_row5\" class=\"row_heading level0 row5\" >5</th>\n",
       "                        <td id=\"T_fe68d5c6_5114_11ea_97b0_acde48001122row5_col0\" class=\"data row5 col0\" >EPLLHL</td>\n",
       "                        <td id=\"T_fe68d5c6_5114_11ea_97b0_acde48001122row5_col1\" class=\"data row5 col1\" >Lois Hole Library</td>\n",
       "                        <td id=\"T_fe68d5c6_5114_11ea_97b0_acde48001122row5_col2\" class=\"data row5 col2\" >EPLLHL</td>\n",
       "                        <td id=\"T_fe68d5c6_5114_11ea_97b0_acde48001122row5_col3\" class=\"data row5 col3\" >Lois Hole (Callingwood)</td>\n",
       "            </tr>\n",
       "            <tr>\n",
       "                        <th id=\"T_fe68d5c6_5114_11ea_97b0_acde48001122level0_row6\" class=\"row_heading level0 row6\" >6</th>\n",
       "                        <td id=\"T_fe68d5c6_5114_11ea_97b0_acde48001122row6_col0\" class=\"data row6 col0\" >EPLMLW</td>\n",
       "                        <td id=\"T_fe68d5c6_5114_11ea_97b0_acde48001122row6_col1\" class=\"data row6 col1\" >Mill Woods Branch</td>\n",
       "                        <td id=\"T_fe68d5c6_5114_11ea_97b0_acde48001122row6_col2\" class=\"data row6 col2\" >EPLMLW</td>\n",
       "                        <td id=\"T_fe68d5c6_5114_11ea_97b0_acde48001122row6_col3\" class=\"data row6 col3\" >Mill Woods</td>\n",
       "            </tr>\n",
       "            <tr>\n",
       "                        <th id=\"T_fe68d5c6_5114_11ea_97b0_acde48001122level0_row7\" class=\"row_heading level0 row7\" >7</th>\n",
       "                        <td id=\"T_fe68d5c6_5114_11ea_97b0_acde48001122row7_col0\" class=\"data row7 col0\" >EPLRIV</td>\n",
       "                        <td id=\"T_fe68d5c6_5114_11ea_97b0_acde48001122row7_col1\" class=\"data row7 col1\" >Riverbend Branch</td>\n",
       "                        <td id=\"T_fe68d5c6_5114_11ea_97b0_acde48001122row7_col2\" class=\"data row7 col2\" >EPLRIV</td>\n",
       "                        <td id=\"T_fe68d5c6_5114_11ea_97b0_acde48001122row7_col3\" class=\"data row7 col3\" >Riverbend</td>\n",
       "            </tr>\n",
       "            <tr>\n",
       "                        <th id=\"T_fe68d5c6_5114_11ea_97b0_acde48001122level0_row8\" class=\"row_heading level0 row8\" >8</th>\n",
       "                        <td id=\"T_fe68d5c6_5114_11ea_97b0_acde48001122row8_col0\" class=\"data row8 col0\" >EPLSPW</td>\n",
       "                        <td id=\"T_fe68d5c6_5114_11ea_97b0_acde48001122row8_col1\" class=\"data row8 col1\" >Sprucewood Branch</td>\n",
       "                        <td id=\"T_fe68d5c6_5114_11ea_97b0_acde48001122row8_col2\" class=\"data row8 col2\" >EPLSPW</td>\n",
       "                        <td id=\"T_fe68d5c6_5114_11ea_97b0_acde48001122row8_col3\" class=\"data row8 col3\" >Sprucewood</td>\n",
       "            </tr>\n",
       "            <tr>\n",
       "                        <th id=\"T_fe68d5c6_5114_11ea_97b0_acde48001122level0_row9\" class=\"row_heading level0 row9\" >9</th>\n",
       "                        <td id=\"T_fe68d5c6_5114_11ea_97b0_acde48001122row9_col0\" class=\"data row9 col0\" >EPLCSD</td>\n",
       "                        <td id=\"T_fe68d5c6_5114_11ea_97b0_acde48001122row9_col1\" class=\"data row9 col1\" >Castle Downs Branch</td>\n",
       "                        <td id=\"T_fe68d5c6_5114_11ea_97b0_acde48001122row9_col2\" class=\"data row9 col2\" >EPLCSD</td>\n",
       "                        <td id=\"T_fe68d5c6_5114_11ea_97b0_acde48001122row9_col3\" class=\"data row9 col3\" >Castle Downs</td>\n",
       "            </tr>\n",
       "            <tr>\n",
       "                        <th id=\"T_fe68d5c6_5114_11ea_97b0_acde48001122level0_row10\" class=\"row_heading level0 row10\" >10</th>\n",
       "                        <td id=\"T_fe68d5c6_5114_11ea_97b0_acde48001122row10_col0\" class=\"data row10 col0\" >EPLCPL</td>\n",
       "                        <td id=\"T_fe68d5c6_5114_11ea_97b0_acde48001122row10_col1\" class=\"data row10 col1\" >Capilano Branch</td>\n",
       "                        <td id=\"T_fe68d5c6_5114_11ea_97b0_acde48001122row10_col2\" class=\"data row10 col2\" >EPLCPL</td>\n",
       "                        <td id=\"T_fe68d5c6_5114_11ea_97b0_acde48001122row10_col3\" class=\"data row10 col3\" >Capilano</td>\n",
       "            </tr>\n",
       "            <tr>\n",
       "                        <th id=\"T_fe68d5c6_5114_11ea_97b0_acde48001122level0_row11\" class=\"row_heading level0 row11\" >11</th>\n",
       "                        <td id=\"T_fe68d5c6_5114_11ea_97b0_acde48001122row11_col0\" class=\"data row11 col0\" >EPLWOO</td>\n",
       "                        <td id=\"T_fe68d5c6_5114_11ea_97b0_acde48001122row11_col1\" class=\"data row11 col1\" >Woodcroft Branch</td>\n",
       "                        <td id=\"T_fe68d5c6_5114_11ea_97b0_acde48001122row11_col2\" class=\"data row11 col2\" >EPLWOO</td>\n",
       "                        <td id=\"T_fe68d5c6_5114_11ea_97b0_acde48001122row11_col3\" class=\"data row11 col3\" >Woodcroft (Westmount)</td>\n",
       "            </tr>\n",
       "            <tr>\n",
       "                        <th id=\"T_fe68d5c6_5114_11ea_97b0_acde48001122level0_row12\" class=\"row_heading level0 row12\" >12</th>\n",
       "                        <td id=\"T_fe68d5c6_5114_11ea_97b0_acde48001122row12_col0\" class=\"data row12 col0\" >EPLHIG</td>\n",
       "                        <td id=\"T_fe68d5c6_5114_11ea_97b0_acde48001122row12_col1\" class=\"data row12 col1\" >Highlands Branch</td>\n",
       "                        <td id=\"T_fe68d5c6_5114_11ea_97b0_acde48001122row12_col2\" class=\"data row12 col2\" >EPLHIG</td>\n",
       "                        <td id=\"T_fe68d5c6_5114_11ea_97b0_acde48001122row12_col3\" class=\"data row12 col3\" >Highlands</td>\n",
       "            </tr>\n",
       "            <tr>\n",
       "                        <th id=\"T_fe68d5c6_5114_11ea_97b0_acde48001122level0_row13\" class=\"row_heading level0 row13\" >13</th>\n",
       "                        <td id=\"T_fe68d5c6_5114_11ea_97b0_acde48001122row13_col0\" class=\"data row13 col0\" >EPLSTR</td>\n",
       "                        <td id=\"T_fe68d5c6_5114_11ea_97b0_acde48001122row13_col1\" class=\"data row13 col1\" >Strathcona Branch</td>\n",
       "                        <td id=\"T_fe68d5c6_5114_11ea_97b0_acde48001122row13_col2\" class=\"data row13 col2\" >EPLSTR</td>\n",
       "                        <td id=\"T_fe68d5c6_5114_11ea_97b0_acde48001122row13_col3\" class=\"data row13 col3\" >Strathcona</td>\n",
       "            </tr>\n",
       "            <tr>\n",
       "                        <th id=\"T_fe68d5c6_5114_11ea_97b0_acde48001122level0_row14\" class=\"row_heading level0 row14\" >14</th>\n",
       "                        <td id=\"T_fe68d5c6_5114_11ea_97b0_acde48001122row14_col0\" class=\"data row14 col0\" >EPLWMC</td>\n",
       "                        <td id=\"T_fe68d5c6_5114_11ea_97b0_acde48001122row14_col1\" class=\"data row14 col1\" >Whitemud Crossing Branch</td>\n",
       "                        <td id=\"T_fe68d5c6_5114_11ea_97b0_acde48001122row14_col2\" class=\"data row14 col2\" >EPLWMC</td>\n",
       "                        <td id=\"T_fe68d5c6_5114_11ea_97b0_acde48001122row14_col3\" class=\"data row14 col3\" >Whitemud Crossing</td>\n",
       "            </tr>\n",
       "            <tr>\n",
       "                        <th id=\"T_fe68d5c6_5114_11ea_97b0_acde48001122level0_row15\" class=\"row_heading level0 row15\" >15</th>\n",
       "                        <td id=\"T_fe68d5c6_5114_11ea_97b0_acde48001122row15_col0\" class=\"data row15 col0\" >EPLGMU</td>\n",
       "                        <td id=\"T_fe68d5c6_5114_11ea_97b0_acde48001122row15_col1\" class=\"data row15 col1\" >MacEwan University</td>\n",
       "                        <td id=\"T_fe68d5c6_5114_11ea_97b0_acde48001122row15_col2\" class=\"data row15 col2\" >nan</td>\n",
       "                        <td id=\"T_fe68d5c6_5114_11ea_97b0_acde48001122row15_col3\" class=\"data row15 col3\" >nan</td>\n",
       "            </tr>\n",
       "            <tr>\n",
       "                        <th id=\"T_fe68d5c6_5114_11ea_97b0_acde48001122level0_row16\" class=\"row_heading level0 row16\" >16</th>\n",
       "                        <td id=\"T_fe68d5c6_5114_11ea_97b0_acde48001122row16_col0\" class=\"data row16 col0\" >EPLCLV</td>\n",
       "                        <td id=\"T_fe68d5c6_5114_11ea_97b0_acde48001122row16_col1\" class=\"data row16 col1\" >Clareview Branch</td>\n",
       "                        <td id=\"T_fe68d5c6_5114_11ea_97b0_acde48001122row16_col2\" class=\"data row16 col2\" >EPLCLV</td>\n",
       "                        <td id=\"T_fe68d5c6_5114_11ea_97b0_acde48001122row16_col3\" class=\"data row16 col3\" >Clareview</td>\n",
       "            </tr>\n",
       "            <tr>\n",
       "                        <th id=\"T_fe68d5c6_5114_11ea_97b0_acde48001122level0_row17\" class=\"row_heading level0 row17\" >17</th>\n",
       "                        <td id=\"T_fe68d5c6_5114_11ea_97b0_acde48001122row17_col0\" class=\"data row17 col0\" >EPLJPL</td>\n",
       "                        <td id=\"T_fe68d5c6_5114_11ea_97b0_acde48001122row17_col1\" class=\"data row17 col1\" >Jasper Place Branch</td>\n",
       "                        <td id=\"T_fe68d5c6_5114_11ea_97b0_acde48001122row17_col2\" class=\"data row17 col2\" >EPLJPL</td>\n",
       "                        <td id=\"T_fe68d5c6_5114_11ea_97b0_acde48001122row17_col3\" class=\"data row17 col3\" >Jasper Place</td>\n",
       "            </tr>\n",
       "            <tr>\n",
       "                        <th id=\"T_fe68d5c6_5114_11ea_97b0_acde48001122level0_row18\" class=\"row_heading level0 row18\" >18</th>\n",
       "                        <td id=\"T_fe68d5c6_5114_11ea_97b0_acde48001122row18_col0\" class=\"data row18 col0\" >EPLIDY</td>\n",
       "                        <td id=\"T_fe68d5c6_5114_11ea_97b0_acde48001122row18_col1\" class=\"data row18 col1\" >Idylwylde Branch</td>\n",
       "                        <td id=\"T_fe68d5c6_5114_11ea_97b0_acde48001122row18_col2\" class=\"data row18 col2\" >EPLIDY</td>\n",
       "                        <td id=\"T_fe68d5c6_5114_11ea_97b0_acde48001122row18_col3\" class=\"data row18 col3\" >Idylwylde (Bonnie Doon)</td>\n",
       "            </tr>\n",
       "            <tr>\n",
       "                        <th id=\"T_fe68d5c6_5114_11ea_97b0_acde48001122level0_row19\" class=\"row_heading level0 row19\" >19</th>\n",
       "                        <td id=\"T_fe68d5c6_5114_11ea_97b0_acde48001122row19_col0\" class=\"data row19 col0\" >EPLMCN</td>\n",
       "                        <td id=\"T_fe68d5c6_5114_11ea_97b0_acde48001122row19_col1\" class=\"data row19 col1\" >McConachie Branch</td>\n",
       "                        <td id=\"T_fe68d5c6_5114_11ea_97b0_acde48001122row19_col2\" class=\"data row19 col2\" >EPLMCN</td>\n",
       "                        <td id=\"T_fe68d5c6_5114_11ea_97b0_acde48001122row19_col3\" class=\"data row19 col3\" >McConachie</td>\n",
       "            </tr>\n",
       "            <tr>\n",
       "                        <th id=\"T_fe68d5c6_5114_11ea_97b0_acde48001122level0_row20\" class=\"row_heading level0 row20\" >20</th>\n",
       "                        <td id=\"T_fe68d5c6_5114_11ea_97b0_acde48001122row20_col0\" class=\"data row20 col0\" >EPLWHP</td>\n",
       "                        <td id=\"T_fe68d5c6_5114_11ea_97b0_acde48001122row20_col1\" class=\"data row20 col1\" >West Henday Promenad (Lewis Estates) Branch</td>\n",
       "                        <td id=\"T_fe68d5c6_5114_11ea_97b0_acde48001122row20_col2\" class=\"data row20 col2\" >EPLWHP</td>\n",
       "                        <td id=\"T_fe68d5c6_5114_11ea_97b0_acde48001122row20_col3\" class=\"data row20 col3\" >West Henday Promenade (Lewis Estates)</td>\n",
       "            </tr>\n",
       "            <tr>\n",
       "                        <th id=\"T_fe68d5c6_5114_11ea_97b0_acde48001122level0_row21\" class=\"row_heading level0 row21\" >21</th>\n",
       "                        <td id=\"T_fe68d5c6_5114_11ea_97b0_acde48001122row21_col0\" class=\"data row21 col0\" >EPLHVY</td>\n",
       "                        <td id=\"T_fe68d5c6_5114_11ea_97b0_acde48001122row21_col1\" class=\"data row21 col1\" >Heritage Valley</td>\n",
       "                        <td id=\"T_fe68d5c6_5114_11ea_97b0_acde48001122row21_col2\" class=\"data row21 col2\" >EPLHVY</td>\n",
       "                        <td id=\"T_fe68d5c6_5114_11ea_97b0_acde48001122row21_col3\" class=\"data row21 col3\" >Heritage Valley</td>\n",
       "            </tr>\n",
       "            <tr>\n",
       "                        <th id=\"T_fe68d5c6_5114_11ea_97b0_acde48001122level0_row22\" class=\"row_heading level0 row22\" >22</th>\n",
       "                        <td id=\"T_fe68d5c6_5114_11ea_97b0_acde48001122row22_col0\" class=\"data row22 col0\" >nan</td>\n",
       "                        <td id=\"T_fe68d5c6_5114_11ea_97b0_acde48001122row22_col1\" class=\"data row22 col1\" >nan</td>\n",
       "                        <td id=\"T_fe68d5c6_5114_11ea_97b0_acde48001122row22_col2\" class=\"data row22 col2\" >EPLESQ</td>\n",
       "                        <td id=\"T_fe68d5c6_5114_11ea_97b0_acde48001122row22_col3\" class=\"data row22 col3\" >Enterprise Square (Downtown)</td>\n",
       "            </tr>\n",
       "    </tbody></table>"
      ],
      "text/plain": [
       "<pandas.io.formats.style.Styler at 0x130bcb430>"
      ]
     },
     "execution_count": 48,
     "metadata": {},
     "output_type": "execute_result"
    }
   ],
   "source": [
    "binfo = branch_info[['Branch ID', 'Branch']].drop_duplicates()\n",
    "main_binfo = root_data[['branch_id', 'branch_name']].drop_duplicates(subset='branch_id')\n",
    "\n",
    "\n",
    "merged_binfo = main_binfo.merge(binfo, how='outer', left_on='branch_id', right_on='Branch ID')\n",
    "\n",
    "#merged_binfo.groupby(['branch_id', 'Branch ID', 'Branch']).size()\n",
    "merged_binfo.style.highlight_null(null_color='red')"
   ]
  },
  {
   "cell_type": "markdown",
   "metadata": {},
   "source": [
    "So, once that for us the most important is the data that comes from the main dataset, we have two branches (EPLMNA and EPLGMU) that we will not be able to gather information from the additional dataset, **so we will have to gather the location info manually here**.\n",
    "\n",
    "** After some research, I found out that the Stanley A. Milner Library now is represented by the Enterprise Square (Downtown) name and ID, so we will just replace the names for this one\n"
   ]
  },
  {
   "cell_type": "markdown",
   "metadata": {},
   "source": [
    "**Fixing the branch_info dataset, including the missing branch**"
   ]
  },
  {
   "cell_type": "code",
   "execution_count": 49,
   "metadata": {},
   "outputs": [
    {
     "data": {
      "text/html": [
       "<div>\n",
       "<style scoped>\n",
       "    .dataframe tbody tr th:only-of-type {\n",
       "        vertical-align: middle;\n",
       "    }\n",
       "\n",
       "    .dataframe tbody tr th {\n",
       "        vertical-align: top;\n",
       "    }\n",
       "\n",
       "    .dataframe thead th {\n",
       "        text-align: right;\n",
       "    }\n",
       "</style>\n",
       "<table border=\"1\" class=\"dataframe\">\n",
       "  <thead>\n",
       "    <tr style=\"text-align: right;\">\n",
       "      <th></th>\n",
       "      <th>Branch ID</th>\n",
       "      <th>Branch</th>\n",
       "      <th>Address</th>\n",
       "      <th>Latitude</th>\n",
       "      <th>Longitude</th>\n",
       "    </tr>\n",
       "  </thead>\n",
       "  <tbody>\n",
       "    <tr>\n",
       "      <th>17</th>\n",
       "      <td>EPLWMC</td>\n",
       "      <td>Whitemud Crossing</td>\n",
       "      <td>145 Whitemud Crossing Shopping Centre, 4211 - ...</td>\n",
       "      <td>53.479486</td>\n",
       "      <td>-113.504122</td>\n",
       "    </tr>\n",
       "    <tr>\n",
       "      <th>18</th>\n",
       "      <td>EPLHVY</td>\n",
       "      <td>Heritage Valley</td>\n",
       "      <td>2755-119A Street SW</td>\n",
       "      <td>53.407480</td>\n",
       "      <td>-113.537569</td>\n",
       "    </tr>\n",
       "    <tr>\n",
       "      <th>19</th>\n",
       "      <td>EPLMLW</td>\n",
       "      <td>Mill Woods</td>\n",
       "      <td>2610 Hewes Way</td>\n",
       "      <td>53.455445</td>\n",
       "      <td>-113.434380</td>\n",
       "    </tr>\n",
       "    <tr>\n",
       "      <th>20</th>\n",
       "      <td>EPLCAL</td>\n",
       "      <td>Calder</td>\n",
       "      <td>12710 - 131 Avenue NW</td>\n",
       "      <td>53.590515</td>\n",
       "      <td>-113.542369</td>\n",
       "    </tr>\n",
       "    <tr>\n",
       "      <th>21</th>\n",
       "      <td>EPLGMU</td>\n",
       "      <td>NaN</td>\n",
       "      <td>NaN</td>\n",
       "      <td>53.547389</td>\n",
       "      <td>113.505425</td>\n",
       "    </tr>\n",
       "  </tbody>\n",
       "</table>\n",
       "</div>"
      ],
      "text/plain": [
       "   Branch ID             Branch  \\\n",
       "17    EPLWMC  Whitemud Crossing   \n",
       "18    EPLHVY    Heritage Valley   \n",
       "19    EPLMLW         Mill Woods   \n",
       "20    EPLCAL             Calder   \n",
       "21    EPLGMU                NaN   \n",
       "\n",
       "                                              Address   Latitude   Longitude  \n",
       "17  145 Whitemud Crossing Shopping Centre, 4211 - ...  53.479486 -113.504122  \n",
       "18                                2755-119A Street SW  53.407480 -113.537569  \n",
       "19                                     2610 Hewes Way  53.455445 -113.434380  \n",
       "20                              12710 - 131 Avenue NW  53.590515 -113.542369  \n",
       "21                                                NaN  53.547389  113.505425  "
      ]
     },
     "execution_count": 49,
     "metadata": {},
     "output_type": "execute_result"
    }
   ],
   "source": [
    "#added the MacEwan unit to the branch info dataset\n",
    "branch_info = branch_info.append({'Branch ID':'EPLGMU', 'Latitude':53.547389, 'Longitude':113.505425}, ignore_index=True)\n",
    "\n",
    "branch_info.tail()"
   ]
  },
  {
   "cell_type": "markdown",
   "metadata": {},
   "source": [
    "**Fixing the root_data dataset, changing the name for the EPLMNA and normalizing branch names**"
   ]
  },
  {
   "cell_type": "code",
   "execution_count": 50,
   "metadata": {},
   "outputs": [
    {
     "data": {
      "text/plain": [
       "{'EPLLON': 'Londonderry Branch',\n",
       " 'EPLMNA': 'Stanley A. Milner Library (Downtown)',\n",
       " 'EPLMEA': 'Meadows Branch',\n",
       " 'EPLABB': 'Abbottsfield - Penny McKee Branch',\n",
       " 'EPLCAL': 'Calder Branch',\n",
       " 'EPLLHL': 'Lois Hole Library',\n",
       " 'EPLMLW': 'Mill Woods Branch',\n",
       " 'EPLRIV': 'Riverbend Branch',\n",
       " 'EPLSPW': 'Sprucewood Branch',\n",
       " 'EPLCSD': 'Castle Downs Branch',\n",
       " 'EPLCPL': 'Capilano Branch',\n",
       " 'EPLWOO': 'Woodcroft Branch',\n",
       " 'EPLHIG': 'Highlands Branch',\n",
       " 'EPLSTR': 'Strathcona Branch',\n",
       " 'EPLWMC': 'Whitemud Crossing Branch',\n",
       " 'EPLGMU': 'MacEwan University',\n",
       " 'EPLCLV': 'Clareview Branch',\n",
       " 'EPLJPL': 'Jasper Place Branch',\n",
       " 'EPLIDY': 'Idylwylde Branch',\n",
       " 'EPLMCN': 'McConachie Branch',\n",
       " 'EPLWHP': 'West Henday Promenad (Lewis Estates) Branch',\n",
       " 'EPLHVY': 'Heritage Valley',\n",
       " nan: nan}"
      ]
     },
     "execution_count": 50,
     "metadata": {},
     "output_type": "execute_result"
    }
   ],
   "source": [
    "branch_normalizer = {row['branch_id']:row['branch_name'] for index,row in merged_binfo.iterrows()}\n",
    "branch_normalizer\n",
    "    "
   ]
  },
  {
   "cell_type": "code",
   "execution_count": 51,
   "metadata": {},
   "outputs": [
    {
     "data": {
      "text/plain": [
       "branch_id  branch_name                                \n",
       "EPLABB     Abbottsfield - Penny McKee Branch              1649\n",
       "EPLCAL     Calder Branch                                  1649\n",
       "EPLCLV     Clareview Branch                               1640\n",
       "EPLCPL     Capilano Branch                                1645\n",
       "EPLCSD     Castle Downs Branch                            1648\n",
       "EPLESQ     Enterprise Square (Downtown)                   1650\n",
       "EPLGMU     MacEwan University                             1060\n",
       "EPLHIG     Highlands Branch                               1639\n",
       "EPLHVY     Heritage Valley                                 274\n",
       "EPLIDY     Idylwylde Branch                               1640\n",
       "EPLJPL     Jasper Place Branch                            1640\n",
       "EPLLHL     Lois Hole Library                              1650\n",
       "EPLLON     Londonderry Branch                             1650\n",
       "EPLMCN     McConachie Branch                               680\n",
       "EPLMEA     Meadows Branch                                 1649\n",
       "EPLMLW     Mill Woods Branch                              1650\n",
       "EPLRIV     Riverbend Branch                               1648\n",
       "EPLSPW     Sprucewood Branch                              1640\n",
       "EPLSTR     Strathcona Branch                              1639\n",
       "EPLWHP     West Henday Promenad (Lewis Estates) Branch     680\n",
       "EPLWMC     Whitemud Crossing Branch                       1640\n",
       "EPLWOO     Woodcroft Branch                               1640\n",
       "dtype: int64"
      ]
     },
     "execution_count": 51,
     "metadata": {},
     "output_type": "execute_result"
    }
   ],
   "source": [
    "# changing the name and code for the Stanley A. Milner Library and normaling\n",
    "branch_normalizer = {row['branch_id']:row['branch_name'] for index,row in merged_binfo.iterrows()}\n",
    "branch_normalizer['EPLESQ'] = 'Enterprise Square (Downtown)'\n",
    "\n",
    "root_data['branch_id'] = root_data['branch_id'].apply(lambda x: 'EPLESQ' if x == 'EPLMNA' else x)\n",
    "root_data['branch_name'] = root_data['branch_id'].apply(lambda x: branch_normalizer[x] )\n",
    "\n",
    "root_data.groupby(['branch_id', 'branch_name']).size()"
   ]
  },
  {
   "cell_type": "markdown",
   "metadata": {},
   "source": [
    "## Saving the cleaned data frames for analysis"
   ]
  },
  {
   "cell_type": "markdown",
   "metadata": {},
   "source": [
    "#### Branch info"
   ]
  },
  {
   "cell_type": "code",
   "execution_count": 55,
   "metadata": {},
   "outputs": [],
   "source": [
    "branch_info.to_csv('branch_info.csv', index=False)"
   ]
  },
  {
   "cell_type": "markdown",
   "metadata": {},
   "source": [
    "#### Main data"
   ]
  },
  {
   "cell_type": "code",
   "execution_count": 56,
   "metadata": {},
   "outputs": [],
   "source": [
    "root_data.to_csv('library_ranks_prepared.csv', index=False)"
   ]
  }
 ],
 "metadata": {
  "kernelspec": {
   "display_name": "Python 3",
   "language": "python",
   "name": "python3"
  },
  "language_info": {
   "codemirror_mode": {
    "name": "ipython",
    "version": 3
   },
   "file_extension": ".py",
   "mimetype": "text/x-python",
   "name": "python",
   "nbconvert_exporter": "python",
   "pygments_lexer": "ipython3",
   "version": "3.8.1"
  }
 },
 "nbformat": 4,
 "nbformat_minor": 4
}
